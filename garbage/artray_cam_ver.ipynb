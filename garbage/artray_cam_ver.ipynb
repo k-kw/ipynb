{
 "cells": [
  {
   "cell_type": "code",
   "execution_count": 3,
   "id": "12a9cf4e",
   "metadata": {},
   "outputs": [
    {
     "data": {
      "text/plain": [
       "'3.4.1'"
      ]
     },
     "execution_count": 3,
     "metadata": {},
     "output_type": "execute_result"
    }
   ],
   "source": [
    "import cv2\n",
    "import time\n",
    "import numpy as np\n",
    "import matplotlib.pyplot as plt\n",
    "import py_func.experiment_func as expf\n",
    "import glob\n",
    "import os\n",
    "import re\n",
    "cv2.__version__"
   ]
  },
  {
   "cell_type": "code",
   "execution_count": 4,
   "id": "1fc57dcb",
   "metadata": {},
   "outputs": [],
   "source": [
    "img_dir_path='./grayimg/mnist_1_50'\n",
    "movie_path='./grayimg/movie/mnist_1_50_nonblack_fps0.5_dr0.4.mp4'\n",
    "fps=0.5\n",
    "dr = 0.4\n",
    "expf.grayjpgs_to_mp4_ver3(img_dir_path,movie_path,fps,False,dr)"
   ]
  },
  {
   "cell_type": "code",
   "execution_count": null,
   "id": "8deb8f1a",
   "metadata": {},
   "outputs": [],
   "source": []
  },
  {
   "cell_type": "code",
   "execution_count": null,
   "id": "3fcd7790",
   "metadata": {},
   "outputs": [],
   "source": []
  },
  {
   "cell_type": "code",
   "execution_count": null,
   "id": "9cdb9435",
   "metadata": {},
   "outputs": [],
   "source": []
  },
  {
   "cell_type": "code",
   "execution_count": 37,
   "id": "21645345",
   "metadata": {},
   "outputs": [],
   "source": [
    "def grayjpgs_to_mp4_ver3(img_dir_path,movie_path,fps,first_blackimg_true,down_ratio):\n",
    "    \"\"\"\n",
    "    create a movie by appending images in folder\n",
    "    In ver2, you can add a black image at first.\n",
    "    You can resize images and 0-pad.\n",
    "    \"\"\"\n",
    "    #画像ディレクトリ内の画像を整列\n",
    "    img_array = []\n",
    "    filepath_list=glob.glob(img_dir_path + \"/*.jpg\")\n",
    "    filename_list=[]\n",
    "    for filepath in filepath_list:\n",
    "        dir_path, filename = os.path.split(filepath)\n",
    "        filename_list.append(filename)\n",
    "    \n",
    "    filename_list_sorted = sorted(filename_list, key=lambda x:int((re.search(r\"[0-9]+\", x)).group(0)))\n",
    "    \n",
    "    #画像をリストに格納\n",
    "    for filename_sorted in filename_list_sorted:\n",
    "        img = cv2.imread(img_dir_path + '/' + filename_sorted,cv2.IMREAD_GRAYSCALE)\n",
    "        img_array.append(img)\n",
    "    #print(len(img_array))\n",
    "    height,width = img_array[0].shape\n",
    "    size = (width,height)\n",
    "    \n",
    "    #元画像を縮小\n",
    "    if (down_ratio != None):\n",
    "        for i in range(len(img_array)):\n",
    "            img_tmp = img_array[i]\n",
    "            pad_width = int((width * (1 / down_ratio) - width) / 2)\n",
    "            pad_height = int((height * (1 / down_ratio) - height) / 2)\n",
    "            img_tmp = cv2.copyMakeBorder(img_tmp, pad_width, pad_width, pad_height, pad_height, cv2.BORDER_CONSTANT, 0)\n",
    "            img_tmp = cv2.resize(img_tmp, size)\n",
    "            img_array[i] = img_tmp\n",
    "\n",
    "\n",
    "    #黒画像を先頭に追加\n",
    "    if first_blackimg_true==True:\n",
    "        img_black = np.zeros((height ,width), np.uint8)\n",
    "        img_array = [img_black] + img_array\n",
    "\n",
    "    out = cv2.VideoWriter(movie_path,cv2.VideoWriter_fourcc(*'MP4V'),fps,size,False)\n",
    "    for i in range(len(img_array)):\n",
    "        out.write(img_array[i])\n",
    "\n",
    "    out.release()"
   ]
  },
  {
   "cell_type": "code",
   "execution_count": 2,
   "id": "bc34c542",
   "metadata": {},
   "outputs": [],
   "source": [
    "img_dir_path='./grayimg/mnist_1_2000'\n",
    "movie_path='./grayimg/movie/mnist_1_2000_nonblack_fps0.5_dr0.4.mp4'\n",
    "fps=0.5\n",
    "dr = 0.4\n",
    "expf.grayjpgs_to_mp4_ver3(img_dir_path,movie_path,fps,False,dr)"
   ]
  },
  {
   "cell_type": "code",
   "execution_count": 23,
   "id": "aff9d452",
   "metadata": {},
   "outputs": [
    {
     "data": {
      "text/plain": [
       "<matplotlib.image.AxesImage at 0x24ef0742b70>"
      ]
     },
     "execution_count": 23,
     "metadata": {},
     "output_type": "execute_result"
    },
    {
     "data": {
      "image/png": "[encoded data removed]",
      "text/plain": [
       "<Figure size 432x288 with 1 Axes>"
      ]
     },
     "metadata": {
      "needs_background": "light"
     },
     "output_type": "display_data"
    }
   ],
   "source": [
    "import matplotlib.pyplot as plt\n",
    "plt.imshow(img)"
   ]
  },
  {
   "cell_type": "code",
   "execution_count": 14,
   "id": "9a0b9bd6",
   "metadata": {},
   "outputs": [],
   "source": [
    "#fps0.25できないので0.5で同じ画像を二枚つなげる\n",
    "def grayjpgs_to_mp4_ver2(img_dir_path,movie_path,fps,first_blackimg_true):\n",
    "    \"\"\"\n",
    "    create a movie by appending images in folder\n",
    "    In ver2, you can add a black image at first.\n",
    "    \"\"\"\n",
    "    \n",
    "    img_array = []\n",
    "    filepath_list=glob.glob(img_dir_path + \"/*.jpg\")\n",
    "    filename_list=[]\n",
    "    for filepath in filepath_list:\n",
    "        dir_path, filename = os.path.split(filepath)\n",
    "        filename_list.append(filename)\n",
    "    \n",
    "    filename_list_sorted = sorted(filename_list, key=lambda x:int((re.search(r\"[0-9]+\", x)).group(0)))\n",
    "    \n",
    "    for filename_sorted in filename_list_sorted:\n",
    "        img = cv2.imread(img_dir_path + '/' + filename_sorted,cv2.IMREAD_GRAYSCALE)\n",
    "        img_array.append(img)\n",
    "    print(len(img_array))\n",
    "    height,width = img_array[0].shape\n",
    "    size = (width,height)\n",
    "    \n",
    "    #黒画像を先頭に追加\n",
    "    if first_blackimg_true==True:\n",
    "        img_black = np.zeros((height ,width), np.uint8)\n",
    "        img_array = [img_black] + img_array\n",
    "\n",
    "    out = cv2.VideoWriter(movie_path,cv2.VideoWriter_fourcc(*'MP4V'),fps,size,False)\n",
    "    #fpsが半分に\n",
    "    for i in range(len(img_array)):\n",
    "        out.write(img_array[i])\n",
    "        out.write(img_array[i])\n",
    "\n",
    "    out.release()\n",
    "    \n",
    "img_dir_path='./grayimg/mnist_1_1000'\n",
    "movie_path='./grayimg/movie/mnist_1000_nonblack_fps0.25.mp4'\n",
    "fps=0.5\n",
    "grayjpgs_to_mp4_ver2(img_dir_path,movie_path,fps,False)"
   ]
  },
  {
   "cell_type": "code",
   "execution_count": 15,
   "id": "325b95aa",
   "metadata": {},
   "outputs": [
    {
     "name": "stdout",
     "output_type": "stream",
     "text": [
      "1000\n"
     ]
    }
   ],
   "source": []
  },
  {
   "cell_type": "code",
   "execution_count": 25,
   "id": "0fe1d124",
   "metadata": {},
   "outputs": [],
   "source": [
    "def cam_get_data(num,camera_num,sleep_time_first_true,sleep_time_first,sleep_time,dataset_path,miss_size,miss_data,byte_num,write_row):\n",
    "    \"\"\"\n",
    "    get data from a camera\n",
    "    After sleep_time_first, camera gets a data for every sleep_time(laptime in fact)\n",
    "    First data is discarded, because first laptime is usually longer than others. \n",
    "    \"\"\"\n",
    "    cap=cv2.VideoCapture(camera_num)\n",
    "    if cap.isOpened():\n",
    "        f=open(dataset_path,'wb')\n",
    "        \n",
    "        t_start=time.time()\n",
    "        \n",
    "        for img_number in range(num):\n",
    "            t1=time.time()\n",
    "            \n",
    "            #最初の休止\n",
    "            if (sleep_time_first_true==True) and (img_number==0):\n",
    "                time.sleep(sleep_time_first)\n",
    "\n",
    "            \n",
    "\n",
    "            #画像取得\n",
    "            ret,frame=cap.read()\n",
    "            \n",
    "            t_get=time.time()\n",
    "            get_time=t_get-t1\n",
    "            print(f'{get_time}取得時間')\n",
    "        \n",
    "            if ret==False:\n",
    "                print(f'{img_number+1}枚目：取得失敗')\n",
    "            \n",
    "                #miss_dataをmiss_size回書き込み\n",
    "                for _ in range(miss_size):\n",
    "                    tmp=miss_data\n",
    "                \n",
    "                    if (byte_num==1):\n",
    "                        tmp=tmp.to_bytes(1,'little')\n",
    "                    else:\n",
    "                        tmp=tmp.to_bytes(4,'little')\n",
    "                    f.write(tmp)\n",
    "                \n",
    "                continue\n",
    "            \n",
    "            else:\n",
    "                \n",
    "                #一行書き込み\n",
    "                for i in range(len(frame[write_row])):\n",
    "                    tmp=int(frame[write_row][i][0])\n",
    "\n",
    "                    if (byte_num==1):\n",
    "                        tmp=tmp.to_bytes(1,'little')\n",
    "                    else:\n",
    "                        tmp=tmp.to_bytes(4,'little')\n",
    "                    f.write(tmp)\n",
    "            \n",
    "            #休止\n",
    "            time.sleep(sleep_time)\n",
    "\n",
    "            t2=time.time()\n",
    "            laptime=t2-t1\n",
    "            print(f'ラップタイム{laptime}秒')\n",
    "            \n",
    "        t_end=time.time()\n",
    "        alltime=t_end-t_start\n",
    "        print(f'全画像取得までの時間{alltime}秒')\n",
    "        f.close()\n",
    "        \n",
    "    cap.release()"
   ]
  },
  {
   "cell_type": "code",
   "execution_count": 26,
   "id": "1e70d63d",
   "metadata": {},
   "outputs": [
    {
     "name": "stdout",
     "output_type": "stream",
     "text": [
      "0.40001344680786133取得時間\n",
      "ラップタイム2.400861978530884秒\n",
      "0.0取得時間\n",
      "ラップタイム2.001016855239868秒\n",
      "0.0取得時間\n",
      "ラップタイム2.0010061264038086秒\n",
      "0.0取得時間\n",
      "ラップタイム2.002000570297241秒\n",
      "0.0取得時間\n",
      "ラップタイム2.0010101795196533秒\n",
      "0.0取得時間\n",
      "ラップタイム2.0014140605926514秒\n",
      "0.0取得時間\n",
      "ラップタイム2.001999616622925秒\n",
      "0.0取得時間\n",
      "ラップタイム2.0000052452087402秒\n",
      "0.0取得時間\n",
      "ラップタイム2.001007080078125秒\n",
      "0.0取得時間\n",
      "ラップタイム2.001655340194702秒\n",
      "全画像取得までの時間20.4119770526886秒\n"
     ]
    }
   ],
   "source": [
    "#データセット書き込みパス\n",
    "dataset_path='./dat/experimentdat/exp_m_7.dat'\n",
    "cam_get_data(10,0,False,0,2,dataset_path,640,0,1,240)"
   ]
  },
  {
   "cell_type": "code",
   "execution_count": null,
   "id": "196cdd57",
   "metadata": {},
   "outputs": [],
   "source": []
  },
  {
   "cell_type": "code",
   "execution_count": 16,
   "id": "035c59ae",
   "metadata": {},
   "outputs": [],
   "source": [
    "nt = time.time()"
   ]
  },
  {
   "cell_type": "code",
   "execution_count": 17,
   "id": "b3ae9bd0",
   "metadata": {},
   "outputs": [
    {
     "data": {
      "text/plain": [
       "float"
      ]
     },
     "execution_count": 17,
     "metadata": {},
     "output_type": "execute_result"
    }
   ],
   "source": [
    "type(nt)"
   ]
  },
  {
   "cell_type": "code",
   "execution_count": null,
   "id": "2ce96f4c",
   "metadata": {},
   "outputs": [],
   "source": []
  },
  {
   "cell_type": "code",
   "execution_count": 13,
   "id": "df1a0447",
   "metadata": {},
   "outputs": [],
   "source": [
    "import cv2\n",
    "import glob\n",
    "import re\n",
    "import os\n",
    "import numpy as np\n",
    "\n",
    "def grayjpgs_to_mp4_ver2(img_dir_path,movie_path,fps,first_blackimg_true):\n",
    "    \"\"\"\n",
    "    create a movie by appending images in folder\n",
    "    \"\"\"\n",
    "    \n",
    "    img_array = []\n",
    "    filepath_list=glob.glob(img_dir_path + \"/*.jpg\")\n",
    "    filename_list=[]\n",
    "    for filepath in filepath_list:\n",
    "        dir_path, filename = os.path.split(filepath)\n",
    "        filename_list.append(filename)\n",
    "    \n",
    "    filename_list_sorted = sorted(filename_list, key=lambda x:int((re.search(r\"[0-9]+\", x)).group(0)))\n",
    "    \n",
    "    for filename_sorted in filename_list_sorted:\n",
    "        img = cv2.imread(img_dir_path + '/' + filename_sorted,cv2.IMREAD_GRAYSCALE)\n",
    "        img_array.append(img)\n",
    "\n",
    "    height,width = img_array[0].shape\n",
    "    size = (width,height)\n",
    "    \n",
    "    #黒画像を先頭に追加\n",
    "    if first_blackimg_true==True:\n",
    "        img_black = np.zeros((height ,width), np.uint8)\n",
    "        img_array = [img_black] + img_array\n",
    "\n",
    "    out = cv2.VideoWriter(movie_path,cv2.VideoWriter_fourcc(*'MP4V'),fps,size,False)\n",
    "    for i in range(len(img_array)):\n",
    "        out.write(img_array[i])\n",
    "\n",
    "    out.release()"
   ]
  },
  {
   "cell_type": "code",
   "execution_count": 14,
   "id": "76dd3e3d",
   "metadata": {},
   "outputs": [],
   "source": [
    "img_dir_path='./grayimg/mnist_test'\n",
    "movie_path='./grayimg/movie/mnist_1_2000_first_black.mp4'\n",
    "fps=1\n",
    "grayjpgs_to_mp4(img_dir_path,movie_path,fps,True)"
   ]
  },
  {
   "cell_type": "code",
   "execution_count": null,
   "id": "49bfd40d",
   "metadata": {},
   "outputs": [],
   "source": []
  },
  {
   "cell_type": "code",
   "execution_count": null,
   "id": "29634114",
   "metadata": {},
   "outputs": [],
   "source": []
  },
  {
   "cell_type": "code",
   "execution_count": null,
   "id": "df5eaf33",
   "metadata": {},
   "outputs": [],
   "source": []
  },
  {
   "cell_type": "code",
   "execution_count": null,
   "id": "25abf94d",
   "metadata": {},
   "outputs": [],
   "source": []
  },
  {
   "cell_type": "code",
   "execution_count": null,
   "id": "3d579a44",
   "metadata": {},
   "outputs": [],
   "source": []
  },
  {
   "cell_type": "code",
   "execution_count": 18,
   "id": "024ff524",
   "metadata": {},
   "outputs": [],
   "source": [
    "img_dir_path='./grayimg/mnist_test'\n",
    "movie_path='./grayimg/movie/mnist_1_2000.mp4'\n",
    "fps=10\n",
    "mov.grayjpgs_to_mp4(img_dir_path,movie_path,fps)"
   ]
  },
  {
   "cell_type": "code",
   "execution_count": 4,
   "id": "1234c593",
   "metadata": {},
   "outputs": [
    {
     "name": "stdout",
     "output_type": "stream",
     "text": [
      "True\n",
      "(480, 640, 3)\n",
      "<class 'numpy.uint8'>\n",
      "<class 'int'>\n"
     ]
    },
    {
     "data": {
      "image/png": "[encoded data removed]",
      "text/plain": [
       "<Figure size 432x288 with 1 Axes>"
      ]
     },
     "metadata": {
      "needs_background": "light"
     },
     "output_type": "display_data"
    },
    {
     "data": {
      "image/png": "[encoded data removed]",
      "text/plain": [
       "<Figure size 432x288 with 1 Axes>"
      ]
     },
     "metadata": {
      "needs_background": "light"
     },
     "output_type": "display_data"
    },
    {
     "data": {
      "image/png": "[encoded data removed]",
      "text/plain": [
       "<Figure size 432x288 with 1 Axes>"
      ]
     },
     "metadata": {
      "needs_background": "light"
     },
     "output_type": "display_data"
    },
    {
     "name": "stdout",
     "output_type": "stream",
     "text": [
      "(480, 640, 3)\n",
      "<class 'numpy.uint8'>\n",
      "<class 'int'>\n"
     ]
    },
    {
     "data": {
      "image/png": "[encoded data removed]",
      "text/plain": [
       "<Figure size 432x288 with 1 Axes>"
      ]
     },
     "metadata": {
      "needs_background": "light"
     },
     "output_type": "display_data"
    },
    {
     "data": {
      "image/png": "[encoded data removed]",
      "text/plain": [
       "<Figure size 432x288 with 1 Axes>"
      ]
     },
     "metadata": {
      "needs_background": "light"
     },
     "output_type": "display_data"
    },
    {
     "data": {
      "image/png": "[encoded data removed]",
      "text/plain": [
       "<Figure size 432x288 with 1 Axes>"
      ]
     },
     "metadata": {
      "needs_background": "light"
     },
     "output_type": "display_data"
    },
    {
     "name": "stdout",
     "output_type": "stream",
     "text": [
      "(480, 640, 3)\n",
      "<class 'numpy.uint8'>\n",
      "<class 'int'>\n"
     ]
    },
    {
     "data": {
      "image/png": "[encoded data removed]",
      "text/plain": [
       "<Figure size 432x288 with 1 Axes>"
      ]
     },
     "metadata": {
      "needs_background": "light"
     },
     "output_type": "display_data"
    },
    {
     "data": {
      "image/png": "[encoded data removed]",
      "text/plain": [
       "<Figure size 432x288 with 1 Axes>"
      ]
     },
     "metadata": {
      "needs_background": "light"
     },
     "output_type": "display_data"
    },
    {
     "data": {
      "image/png": "[encoded data removed]",
      "text/plain": [
       "<Figure size 432x288 with 1 Axes>"
      ]
     },
     "metadata": {
      "needs_background": "light"
     },
     "output_type": "display_data"
    }
   ],
   "source": [
    "cap=cv2.VideoCapture(0)\n",
    "print(cap.isOpened())\n",
    "if cap.isOpened():\n",
    "    for _ in range(3):\n",
    "        time.sleep(0.1)\n",
    "        ret,frame=cap.read()\n",
    "        windowsize = (800, 600)\n",
    "        if ret==False:\n",
    "            print(\"miss\")\n",
    "            continue\n",
    "        else:\n",
    "            print(frame.shape)\n",
    "#             for i in range(len(frame[0][0])):\n",
    "#                 plt.plot(range(0,size), dat[i],linewidth=1)\n",
    "#                 print(frame[0][0][i])\n",
    "                \n",
    "            r=[]\n",
    "            g=[]\n",
    "            b=[]\n",
    "            for i in range(len(frame[0])):\n",
    "                r.append(frame[200][i][0])\n",
    "                g.append(frame[200][i][1])\n",
    "                b.append(frame[200][i][2])\n",
    "            print(type(frame[200][0][0]))\n",
    "            tmp=int(frame[200][0][0])\n",
    "            print(type(tmp))\n",
    "            r=np.array(r)\n",
    "            g=np.array(g)\n",
    "            b=np.array(b)\n",
    "            plt.plot(range(0,len(r)), r,linewidth=0.5)\n",
    "            plt.show()\n",
    "            plt.plot(range(0,len(g)), g,linewidth=0.5)\n",
    "            plt.show()\n",
    "            plt.plot(range(0,len(b)), b,linewidth=0.5)\n",
    "            plt.show()\n",
    "\n",
    "\n",
    "        frame = cv2.resize(frame, windowsize)\n",
    "        #time.sleep(1)\n",
    "        cv2.imshow(\"Flame\",frame)\n",
    "#         if cv2.waitKey(3000)&0xFF == ord('q'):\n",
    "#             break\n",
    "\n",
    "cap.release()\n",
    "cv2.destroyAllWindows()"
   ]
  },
  {
   "cell_type": "code",
   "execution_count": null,
   "id": "0919e50c",
   "metadata": {},
   "outputs": [],
   "source": []
  },
  {
   "cell_type": "code",
   "execution_count": 2,
   "id": "a7cb81b0",
   "metadata": {},
   "outputs": [
    {
     "name": "stdout",
     "output_type": "stream",
     "text": [
      "<class 'cv2.VideoCapture'>\n",
      "False\n",
      "miss\n",
      "<class 'NoneType'>\n",
      "miss\n",
      "<class 'NoneType'>\n",
      "miss\n",
      "<class 'NoneType'>\n",
      "miss\n",
      "<class 'NoneType'>\n",
      "miss\n",
      "<class 'NoneType'>\n"
     ]
    }
   ],
   "source": [
    "import cv2\n",
    "import time\n",
    "\n",
    "# VideoCapture オブジェクトを取得します\n",
    "capture = cv2.VideoCapture(0)\n",
    "print(type(capture))\n",
    "print(capture.isOpened())\n",
    "# print(capture.set)\n",
    "for i in range(5):\n",
    "    ret, frame = capture.read()\n",
    "    time.sleep(1)\n",
    "    if ret:\n",
    "        print(type(frame))\n",
    "        cv2.imshow('image',frame)\n",
    "    else:\n",
    "        print('miss')\n",
    "        print(type(frame))\n",
    "\n",
    "\n",
    "capture.release()\n",
    "cv2.destroyAllWindows()"
   ]
  },
  {
   "cell_type": "code",
   "execution_count": 1,
   "id": "3f639590",
   "metadata": {},
   "outputs": [
    {
     "name": "stdout",
     "output_type": "stream",
     "text": [
      "<class 'numpy.ndarray'>\n",
      "<class 'numpy.ndarray'>\n",
      "<class 'numpy.ndarray'>\n",
      "<class 'numpy.ndarray'>\n",
      "<class 'numpy.ndarray'>\n"
     ]
    }
   ],
   "source": [
    "import numpy as np\n",
    "import cv2\n",
    "\n",
    "capture = cv2.VideoCapture('mnist_test.mp4')\n",
    "\n",
    "for i in range(5):\n",
    "    ret, frame = capture.read()\n",
    "    if ret:\n",
    "        print(type(frame))\n",
    "        gray = cv2.cvtColor(frame, cv2.COLOR_BGR2GRAY)\n",
    "        cv2.imshow('image',gray)\n",
    "    else:\n",
    "        print('miss')\n",
    "\n",
    "capture.release()\n",
    "cv2.destroyAllWindows()"
   ]
  },
  {
   "cell_type": "code",
   "execution_count": null,
   "id": "4f091991",
   "metadata": {},
   "outputs": [],
   "source": []
  }
 ],
 "metadata": {
  "kernelspec": {
   "display_name": "artray_cam",
   "language": "python",
   "name": "artray_cam"
  },
  "language_info": {
   "codemirror_mode": {
    "name": "ipython",
    "version": 3
   },
   "file_extension": ".py",
   "mimetype": "text/x-python",
   "name": "python",
   "nbconvert_exporter": "python",
   "pygments_lexer": "ipython3",
   "version": "3.6.13"
  }
 },
 "nbformat": 4,
 "nbformat_minor": 5
}
