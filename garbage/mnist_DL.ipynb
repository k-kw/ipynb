{
 "cells": [
  {
   "cell_type": "code",
   "execution_count": 1,
   "id": "af94c918",
   "metadata": {},
   "outputs": [],
   "source": [
    "import tensorflow as tf\n",
    "import keras as ks\n",
    "from keras.optimizers import RMSprop,Adam,SGD #最適化関数のインポート\n",
    "OPTIMIZER=SGD() #最適化関数"
   ]
  },
  {
   "cell_type": "code",
   "execution_count": 2,
   "id": "5bcd335c",
   "metadata": {},
   "outputs": [],
   "source": [
    "import numpy as np\n",
    "import os \n",
    "from keras.models import Sequential\n",
    "from keras.layers import Dense,Dropout\n",
    "from keras.utils import np_utils\n",
    "from sklearn.datasets import fetch_openml\n",
    "import pandas as pd\n",
    "import matplotlib\n",
    "import matplotlib.pyplot as plt"
   ]
  },
  {
   "cell_type": "code",
   "execution_count": 4,
   "id": "6bf72463",
   "metadata": {},
   "outputs": [],
   "source": [
    "mnist=fetch_openml('mnist_784')\n",
    "x,y=mnist['target']\n",
    "y=y.to_numpy()\n",
    "y=np_utils.to_categorical(y,10)"
   ]
  },
  {
   "cell_type": "code",
   "execution_count": 5,
   "id": "ada5642e",
   "metadata": {},
   "outputs": [
    {
     "ename": "MemoryError",
     "evalue": "",
     "output_type": "error",
     "traceback": [
      "\u001b[1;31m---------------------------------------------------------------------------\u001b[0m",
      "\u001b[1;31mMemoryError\u001b[0m                               Traceback (most recent call last)",
      "\u001b[1;32m<ipython-input-5-170a15295576>\u001b[0m in \u001b[0;36m<module>\u001b[1;34m\u001b[0m\n\u001b[0;32m      8\u001b[0m              \u001b[0mtmp\u001b[0m\u001b[1;33m=\u001b[0m\u001b[0mf\u001b[0m\u001b[1;33m.\u001b[0m\u001b[0mread\u001b[0m\u001b[1;33m(\u001b[0m\u001b[1;36m4\u001b[0m\u001b[1;33m)\u001b[0m\u001b[1;33m\u001b[0m\u001b[1;33m\u001b[0m\u001b[0m\n\u001b[0;32m      9\u001b[0m              \u001b[0mq\u001b[0m\u001b[1;33m=\u001b[0m\u001b[0mint\u001b[0m\u001b[1;33m.\u001b[0m\u001b[0mfrom_bytes\u001b[0m\u001b[1;33m(\u001b[0m\u001b[0mtmp\u001b[0m\u001b[1;33m,\u001b[0m\u001b[1;34m'little'\u001b[0m\u001b[1;33m)\u001b[0m\u001b[1;33m\u001b[0m\u001b[1;33m\u001b[0m\u001b[0m\n\u001b[1;32m---> 10\u001b[1;33m              \u001b[0mx\u001b[0m\u001b[1;33m.\u001b[0m\u001b[0mappend\u001b[0m\u001b[1;33m(\u001b[0m\u001b[0mq\u001b[0m\u001b[1;33m)\u001b[0m\u001b[1;33m\u001b[0m\u001b[1;33m\u001b[0m\u001b[0m\n\u001b[0m\u001b[0;32m     11\u001b[0m \u001b[1;33m\u001b[0m\u001b[0m\n\u001b[0;32m     12\u001b[0m \u001b[0mx\u001b[0m\u001b[1;33m=\u001b[0m\u001b[0mnp\u001b[0m\u001b[1;33m.\u001b[0m\u001b[0marray\u001b[0m\u001b[1;33m(\u001b[0m\u001b[0mx\u001b[0m\u001b[1;33m)\u001b[0m\u001b[1;33m\u001b[0m\u001b[1;33m\u001b[0m\u001b[0m\n",
      "\u001b[1;31mMemoryError\u001b[0m: "
     ]
    }
   ],
   "source": [
    "x=[]\n",
    "dp='./bindat/mnist_128.dat'\n",
    "N=70000\n",
    "SX=128\n",
    "SY=128\n",
    "with open(dp,'rb') as f:\n",
    "         for i in range(N*SX*SY):\n",
    "             tmp=f.read(4)\n",
    "             q=int.from_bytes(tmp,'little')\n",
    "             x.append(q)\n",
    "\n",
    "x=np.array(x)\n",
    "x=x.reshape(N,1,SY,SX)\n",
    "x=x.astype('float32')\n",
    "print(x.shape)"
   ]
  },
  {
   "cell_type": "code",
   "execution_count": null,
   "id": "84f86738",
   "metadata": {},
   "outputs": [],
   "source": [
    "from PIL import Image\n",
    "width=128\n",
    "height=128\n",
    "\n",
    "image_buffer=Image.new('L',(width,height))\n",
    "for h in range(height):\n",
    "    for w in range(width):\n",
    "        pixel=x[69999][0][h][w]\n",
    "        image_buffer.putpixel((h,w),(pixel,))\n",
    "\n",
    "image_buffer.save('test.jpg','JPEG')"
   ]
  }
 ],
 "metadata": {
  "kernelspec": {
   "display_name": "Python 3",
   "language": "python",
   "name": "python3"
  },
  "language_info": {
   "codemirror_mode": {
    "name": "ipython",
    "version": 3
   },
   "file_extension": ".py",
   "mimetype": "text/x-python",
   "name": "python",
   "nbconvert_exporter": "python",
   "pygments_lexer": "ipython3",
   "version": "3.8.8"
  }
 },
 "nbformat": 4,
 "nbformat_minor": 5
}
