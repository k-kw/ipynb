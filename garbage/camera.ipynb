{
 "cells": [
  {
   "cell_type": "code",
   "execution_count": 3,
   "id": "b01d7353",
   "metadata": {},
   "outputs": [],
   "source": [
    "import cv2\n",
    "import datetime\n",
    "\n",
    "\n",
    "def check_camera_connection():\n",
    "    \"\"\"\n",
    "    Check the connection between any camera and the PC.\n",
    "\n",
    "    \"\"\"\n",
    "\n",
    "    print('[', datetime.datetime.now(), ']', 'searching any camera...')\n",
    "    true_camera_is = []  # 空の配列を用意\n",
    "\n",
    "    # カメラ番号を0～9まで変えて、COM_PORTに認識されているカメラを探す\n",
    "    for camera_number in range(0, 10):\n",
    "        cap = cv2.VideoCapture(camera_number)\n",
    "        ret, frame = cap.read()\n",
    "\n",
    "        if ret is True:\n",
    "            true_camera_is.append(camera_number)\n",
    "            print(\"camera_number\", camera_number, \"Find!\")\n",
    "\n",
    "        else:\n",
    "            print(\"camera_number\", camera_number, \"None\")\n",
    "        cap.release()\n",
    "    print(\"接続されているカメラは\", len(true_camera_is), \"台です。\")\n",
    "\n",
    "\n",
    "# if __name__ == \"__main__\":\n",
    "#     check_camera_connection()"
   ]
  },
  {
   "cell_type": "code",
   "execution_count": 4,
   "id": "2877dbe9",
   "metadata": {},
   "outputs": [
    {
     "name": "stdout",
     "output_type": "stream",
     "text": [
      "[ 2021-12-10 17:20:07.807889 ] searching any camera...\n",
      "camera_number 0 None\n",
      "camera_number 1 None\n",
      "camera_number 2 None\n",
      "camera_number 3 None\n",
      "camera_number 4 None\n",
      "camera_number 5 None\n",
      "camera_number 6 None\n",
      "camera_number 7 None\n",
      "camera_number 8 None\n",
      "camera_number 9 None\n",
      "接続されているカメラは 0 台です。\n"
     ]
    }
   ],
   "source": [
    "check_camera_connection()"
   ]
  },
  {
   "cell_type": "code",
   "execution_count": 1,
   "id": "4c27acf5",
   "metadata": {},
   "outputs": [
    {
     "name": "stdout",
     "output_type": "stream",
     "text": [
      "\n",
      "General configuration for OpenCV 4.0.1 =====================================\n",
      "  Version control:               4.0.1-3-g50a23d90dd\n",
      "\n",
      "  Extra modules:\n",
      "    Location (extra):            C:/ci/opencv-suite_1573470242804/work/opencv_contrib-4.0.1/modules\n",
      "    Version control (extra):     4.0.1-3-g50a23d90dd\n",
      "\n",
      "  Platform:\n",
      "    Timestamp:                   2019-11-11T11:18:42Z\n",
      "    Host:                        Windows 10.0.10240 AMD64\n",
      "    CMake:                       3.14.0\n",
      "    CMake generator:             NMake Makefiles JOM\n",
      "    CMake build tool:            jom\n",
      "    MSVC:                        1916\n",
      "    Configuration:               Release\n",
      "\n",
      "  CPU/HW features:\n",
      "    Baseline:                    SSE SSE2 SSE3\n",
      "      requested:                 SSE3\n",
      "    Dispatched code generation:  SSE4_1 SSE4_2 FP16 AVX AVX2\n",
      "      requested:                 SSE4_1 SSE4_2 AVX FP16 AVX2 AVX512_SKX\n",
      "      SSE4_1 (5 files):          + SSSE3 SSE4_1\n",
      "      SSE4_2 (1 files):          + SSSE3 SSE4_1 POPCNT SSE4_2\n",
      "      FP16 (0 files):            + SSSE3 SSE4_1 POPCNT SSE4_2 FP16 AVX\n",
      "      AVX (4 files):             + SSSE3 SSE4_1 POPCNT SSE4_2 AVX\n",
      "      AVX2 (11 files):           + SSSE3 SSE4_1 POPCNT SSE4_2 FP16 FMA3 AVX AVX2\n",
      "\n",
      "  C/C++:\n",
      "    Built as dynamic libs?:      YES\n",
      "    C++ Compiler:                C:/Program Files (x86)/Microsoft Visual Studio/2017/Professional/VC/Tools/MSVC/14.16.27023/bin/Hostx64/x64/cl.exe  (ver 19.16.27023.1)\n",
      "    C++ flags (Release):         /DWIN32 /D_WINDOWS /W4 /GR  /D _CRT_SECURE_NO_DEPRECATE /D _CRT_NONSTDC_NO_DEPRECATE /D _SCL_SECURE_NO_WARNINGS /Gy /bigobj /Oi  /FS     /EHa /wd4127 /wd4251 /wd4324 /wd4275 /wd4512 /wd4589 /MP6   /MD /O2 /Ob2 /DNDEBUG \n",
      "    C++ flags (Debug):           /DWIN32 /D_WINDOWS /W4 /GR  /D _CRT_SECURE_NO_DEPRECATE /D _CRT_NONSTDC_NO_DEPRECATE /D _SCL_SECURE_NO_WARNINGS /Gy /bigobj /Oi  /FS     /EHa /wd4127 /wd4251 /wd4324 /wd4275 /wd4512 /wd4589 /MP6   /MDd /Zi /Ob0 /Od /RTC1 \n",
      "    C Compiler:                  C:/Program Files (x86)/Microsoft Visual Studio/2017/Professional/VC/Tools/MSVC/14.16.27023/bin/Hostx64/x64/cl.exe\n",
      "    C flags (Release):           /DWIN32 /D_WINDOWS /W3  /D _CRT_SECURE_NO_DEPRECATE /D _CRT_NONSTDC_NO_DEPRECATE /D _SCL_SECURE_NO_WARNINGS /Gy /bigobj /Oi  /FS       /MP6    /MD /O2 /Ob2 /DNDEBUG \n",
      "    C flags (Debug):             /DWIN32 /D_WINDOWS /W3  /D _CRT_SECURE_NO_DEPRECATE /D _CRT_NONSTDC_NO_DEPRECATE /D _SCL_SECURE_NO_WARNINGS /Gy /bigobj /Oi  /FS       /MP6  /MDd /Zi /Ob0 /Od /RTC1 \n",
      "    Linker flags (Release):      /machine:x64  /INCREMENTAL:NO \n",
      "    Linker flags (Debug):        /machine:x64  /debug /INCREMENTAL \n",
      "    ccache:                      NO\n",
      "    Precompiled headers:         NO\n",
      "    Extra dependencies:\n",
      "    3rdparty dependencies:\n",
      "\n",
      "  OpenCV modules:\n",
      "    To be built:                 aruco bgsegm calib3d ccalib core datasets dnn dnn_objdetect dpm face features2d flann fuzzy gapi hfs highgui img_hash imgcodecs imgproc java_bindings_generator line_descriptor ml objdetect optflow phase_unwrapping photo plot python_bindings_generator reg rgbd saliency shape stereo stitching structured_light superres surface_matching text tracking video videoio videostab xfeatures2d ximgproc xobjdetect xphoto\n",
      "    Disabled:                    bioinspired world\n",
      "    Disabled by dependency:      -\n",
      "    Unavailable:                 cnn_3dobj cudaarithm cudabgsegm cudacodec cudafeatures2d cudafilters cudaimgproc cudalegacy cudaobjdetect cudaoptflow cudastereo cudawarping cudev cvv freetype hdf java js matlab ovis python2 python3 sfm ts viz\n",
      "    Applications:                apps\n",
      "    Documentation:               NO\n",
      "    Non-free algorithms:         NO\n",
      "\n",
      "  Windows RT support:            NO\n",
      "\n",
      "  GUI: \n",
      "    Win32 UI:                    YES\n",
      "\n",
      "  Media I/O: \n",
      "    ZLib:                        C:/ci/opencv-suite_1573470242804/_h_env/Library/lib/z.lib (ver 1.2.11)\n",
      "    JPEG:                        C:/ci/opencv-suite_1573470242804/_h_env/Library/lib/jpeg.lib (ver 90)\n",
      "    WEBP:                        build (ver encoder: 0x020e)\n",
      "    PNG:                         C:/ci/opencv-suite_1573470242804/_h_env/Library/lib/libpng.lib (ver 1.6.37)\n",
      "    TIFF:                        C:/ci/opencv-suite_1573470242804/_h_env/Library/lib/tiff.lib (ver 42 / 4.0.10)\n",
      "    JPEG 2000:                   build (ver 1.900.1)\n",
      "    OpenEXR:                     build (ver 1.7.1)\n",
      "    HDR:                         YES\n",
      "    SUNRASTER:                   YES\n",
      "    PXM:                         YES\n",
      "    PFM:                         YES\n",
      "\n",
      "  Video I/O:\n",
      "    DC1394:                      NO\n",
      "    FFMPEG:                      YES (prebuilt binaries)\n",
      "      avcodec:                   YES (ver 58.35.100)\n",
      "      avformat:                  YES (ver 58.20.100)\n",
      "      avutil:                    YES (ver 56.22.100)\n",
      "      swscale:                   YES (ver 5.3.100)\n",
      "      avresample:                YES (ver 4.0.0)\n",
      "    GStreamer:                   NO\n",
      "    DirectShow:                  YES\n",
      "    Media Foundation:            YES\n",
      "      DXVA:                      YES\n",
      "\n",
      "  Parallel framework:            Concurrency\n",
      "\n",
      "  Trace:                         YES (with Intel ITT)\n",
      "\n",
      "  Other third-party libraries:\n",
      "    Intel IPP:                   2019.0.0 Gold [2019.0.0]\n",
      "           at:                   C:/ci/opencv-suite_1573470242804/work/build/3rdparty/ippicv/ippicv_win/icv\n",
      "    Intel IPP IW:                sources (2019.0.0)\n",
      "              at:                C:/ci/opencv-suite_1573470242804/work/build/3rdparty/ippicv/ippicv_win/iw\n",
      "    Lapack:                      NO\n",
      "    Eigen:                       YES (ver 3.3.7)\n",
      "    Custom HAL:                  NO\n",
      "    Protobuf:                    build (3.5.1)\n",
      "\n",
      "  Python (for build):            C:/ci/containers/00001ptki52/tmp/build/80754af9/build_env/python.exe\n",
      "\n",
      "  Java:                          \n",
      "    ant:                         NO\n",
      "    JNI:                         NO\n",
      "    Java wrappers:               NO\n",
      "    Java tests:                  NO\n",
      "\n",
      "  Install to:                    C:/ci/opencv-suite_1573470242804/_h_env/Library\n",
      "-----------------------------------------------------------------\n",
      "\n",
      "\n"
     ]
    }
   ],
   "source": [
    "import cv2\n",
    "print(cv2.getBuildInformation())"
   ]
  },
  {
   "cell_type": "code",
   "execution_count": 1,
   "id": "be52388c",
   "metadata": {},
   "outputs": [
    {
     "data": {
      "text/plain": [
       "'4.0.1'"
      ]
     },
     "execution_count": 1,
     "metadata": {},
     "output_type": "execute_result"
    }
   ],
   "source": [
    "import cv2\n",
    "import time\n",
    "cv2.__version__"
   ]
  },
  {
   "cell_type": "code",
   "execution_count": 1,
   "id": "c375885f",
   "metadata": {},
   "outputs": [
    {
     "name": "stdout",
     "output_type": "stream",
     "text": [
      "<class 'cv2.VideoCapture'>\n",
      "False\n"
     ]
    }
   ],
   "source": [
    "import cv2\n",
    "import time\n",
    "\n",
    "# VideoCapture オブジェクトを取得します\n",
    "capture = cv2.VideoCapture(0)\n",
    "print(type(capture))\n",
    "\n",
    "print(capture.isOpened())\n",
    "capture.release()\n",
    "cv2.destroyAllWindows()"
   ]
  },
  {
   "cell_type": "code",
   "execution_count": 4,
   "id": "1a6126a0",
   "metadata": {},
   "outputs": [],
   "source": []
  },
  {
   "cell_type": "code",
   "execution_count": null,
   "id": "31a95a9a",
   "metadata": {},
   "outputs": [],
   "source": [
    "import cv2\n",
    "import time\n",
    "\n",
    "# VideoCapture オブジェクトを取得します\n",
    "capture = cv2.VideoCapture(0)\n",
    "\n",
    "while(True):\n",
    "    \n",
    "    for i in ragne(5):\n",
    "        time.sleep(1)\n",
    "        ret, frame = capture.read()\n",
    "    # resize the window\n",
    "    #windowsize = (800, 600)\n",
    "    frame = cv2.resize(frame, windowsize)\n",
    "\n",
    "    cv2.imshow('iamge',frame)\n",
    "    if cv2.waitKey(3000) & 0xFF == ord('q'):\n",
    "        break\n",
    "\n",
    "capture.release()\n",
    "cv2.destroyAllWindows()"
   ]
  },
  {
   "cell_type": "code",
   "execution_count": 1,
   "id": "432d5e17",
   "metadata": {},
   "outputs": [
    {
     "name": "stdout",
     "output_type": "stream",
     "text": [
      "<class 'cv2.VideoCapture'>\n",
      "False\n",
      "miss\n",
      "miss\n",
      "miss\n",
      "miss\n",
      "miss\n"
     ]
    }
   ],
   "source": [
    "import cv2\n",
    "import time\n",
    "\n",
    "# VideoCapture オブジェクトを取得します\n",
    "capture = cv2.VideoCapture(2)\n",
    "print(type(capture))\n",
    "print(capture.isOpened())\n",
    "\n",
    "for i in range(5):\n",
    "    ret, frame = capture.read()\n",
    "    if ret:\n",
    "        print(type(frame))\n",
    "        cv2.imshow('iamge',frame)\n",
    "    else:\n",
    "        print('miss')\n",
    "\n",
    "capture.release()\n",
    "cv2.destroyAllWindows()"
   ]
  },
  {
   "cell_type": "code",
   "execution_count": null,
   "id": "24c19f32",
   "metadata": {},
   "outputs": [],
   "source": [
    "import cv2\n",
    "\n",
    "# VideoCapture オブジェクトを取得します\n",
    "capture = cv2.VideoCapture(1)\n",
    "\n",
    "while(True):\n",
    "    ret, frame = capture.read()\n",
    "    # resize the window\n",
    "    windowsize = (800, 600)\n",
    "    frame = cv2.resize(frame, windowsize)\n",
    "\n",
    "    cv2.imshow('title',frame)\n",
    "    if cv2.waitKey(1) & 0xFF == ord('q'):\n",
    "        break\n",
    "\n",
    "capture.release()\n",
    "cv2.destroyAllWindows()"
   ]
  }
 ],
 "metadata": {
  "kernelspec": {
   "display_name": "torch_gpu_6",
   "language": "python",
   "name": "torch_gpu_6"
  },
  "language_info": {
   "codemirror_mode": {
    "name": "ipython",
    "version": 3
   },
   "file_extension": ".py",
   "mimetype": "text/x-python",
   "name": "python",
   "nbconvert_exporter": "python",
   "pygments_lexer": "ipython3",
   "version": "3.8.0"
  }
 },
 "nbformat": 4,
 "nbformat_minor": 5
}
