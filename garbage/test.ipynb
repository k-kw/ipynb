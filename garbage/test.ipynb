{
 "cells": [
  {
   "cell_type": "code",
   "execution_count": 1,
   "metadata": {},
   "outputs": [],
   "source": [
    "import torch\n",
    "import torch.nn as nn\n",
    "import torch.nn.functional as F\n",
    "torch.manual_seed(0)\n",
    "from torch.autograd import Variable\n",
    "#from torchsummary import summary\n",
    "import torch.optim as optim\n",
    "import time\n",
    "import matplotlib\n",
    "from torch.utils.data import DataLoader\n",
    "import torch.utils.data as data\n",
    "import numpy as np\n",
    "import pandas as pd\n",
    "import py_func.Deep_learning_torch_func as DL\n",
    "from torchvision.datasets import ImageFolder\n",
    "from torchvision import transforms\n",
    "import py_func.models_func as my_model\n",
    "import py_func.dat_rb_func as drb"
   ]
  },
  {
   "cell_type": "code",
   "execution_count": 7,
   "metadata": {},
   "outputs": [],
   "source": [
    "fm = drb.bin_read('./dat/bindat/1byte/fm_128_1.dat', 1,70000,128,128)"
   ]
  },
  {
   "cell_type": "code",
   "execution_count": 8,
   "metadata": {},
   "outputs": [],
   "source": [
    "for i,bin in enumerate(fm):\n",
    "    drb.array_to_grayjpeg(128,128,bin,str(i),'./grayimg/fm')"
   ]
  },
  {
   "cell_type": "code",
   "execution_count": null,
   "metadata": {},
   "outputs": [],
   "source": []
  },
  {
   "cell_type": "code",
   "execution_count": null,
   "metadata": {},
   "outputs": [],
   "source": []
  },
  {
   "cell_type": "code",
   "execution_count": null,
   "metadata": {},
   "outputs": [],
   "source": [
    "import torch.nn as nn"
   ]
  },
  {
   "cell_type": "code",
   "execution_count": null,
   "metadata": {},
   "outputs": [],
   "source": [
    "import torch\n",
    "import torch.nn as nn\n",
    "\n",
    "\n",
    "def conv3x3(in_channels, out_channels, stride=1):\n",
    "    return nn.Conv2d(in_channels,out_channels,kernel_size=3,stride=stride,padding=1,bias=False,)\n",
    "\n",
    "\n",
    "def conv1x1(in_channels, out_channels, stride=1):\n",
    "    return nn.Conv2d(in_channels, out_channels, kernel_size=1, stride=stride, bias=False)\n",
    "\n",
    "\n",
    "class BasicBlock(nn.Module):\n",
    "    expansion = 1  # 出力のチャンネル数を入力のチャンネル数の何倍に拡大するか\n",
    "\n",
    "    def __init__(self,in_channels,channels,stride=1):\n",
    "        super().__init__()\n",
    "        self.conv1 = conv3x3(in_channels, channels, stride)\n",
    "        self.bn1 = nn.BatchNorm2d(channels)\n",
    "        self.relu = nn.ReLU(inplace=True)\n",
    "        self.conv2 = conv3x3(channels, channels)\n",
    "        self.bn2 = nn.BatchNorm2d(channels)\n",
    "\n",
    "        # 入力と出力のチャンネル数が異なる場合、x をダウンサンプリングする。\n",
    "        if in_channels != channels * self.expansion:\n",
    "            self.shortcut = nn.Sequential(\n",
    "                conv1x1(in_channels, channels * self.expansion, stride),\n",
    "                nn.BatchNorm2d(channels * self.expansion),\n",
    "            )\n",
    "        else:\n",
    "            self.shortcut = nn.Sequential()\n",
    "\n",
    "    def forward(self, x):\n",
    "        out = self.conv1(x)\n",
    "        out = self.bn1(out)\n",
    "        out = self.relu(out)\n",
    "\n",
    "        out = self.conv2(out)\n",
    "        out = self.bn2(out)\n",
    "\n",
    "        out += self.shortcut(x)\n",
    "\n",
    "        out = self.relu(out)\n",
    "\n",
    "        return out\n",
    "    \n",
    "    \n",
    "class Bottleneck(nn.Module):\n",
    "    expansion = 4  # 出力のチャンネル数を入力のチャンネル数の何倍に拡大するか\n",
    "\n",
    "    def __init__(self, in_channels, channels, stride=1):\n",
    "        print(in_channels, out_channes)\n",
    "        super().__init__()\n",
    "        self.conv1 = conv1x1(in_channels, channels)\n",
    "        self.bn1 = nn.BatchNorm2d(channels)\n",
    "        self.conv2 = conv3x3(channels, channels, stride)\n",
    "        self.bn2 = nn.BatchNorm2d(channels)\n",
    "        self.conv3 = conv1x1(channels, channels * self.expansion)\n",
    "        self.bn3 = nn.BatchNorm2d(channels * self.expansion)\n",
    "        self.relu = nn.ReLU(inplace=True)\n",
    "\n",
    "        # 入力と出力のチャンネル数が異なる場合、x をダウンサンプリングする。\n",
    "        if in_channels != channels * self.expansion:\n",
    "            self.shortcut = nn.Sequential(\n",
    "                conv1x1(in_channels, channels * self.expansion, stride),\n",
    "                nn.BatchNorm2d(channels * self.expansion),\n",
    "            )\n",
    "        else:\n",
    "            self.shortcut = nn.Sequential()\n",
    "\n",
    "    def forward(self, x):\n",
    "        out = self.conv1(x)\n",
    "        out = self.bn1(out)\n",
    "        out = self.relu(out)\n",
    "\n",
    "        out = self.conv2(out)\n",
    "        out = self.bn2(out)\n",
    "        out = self.relu(out)\n",
    "\n",
    "        out = self.conv3(out)\n",
    "        out = self.bn3(out)\n",
    "\n",
    "        out += self.shortcut(x)\n",
    "\n",
    "        out = self.relu(out)\n",
    "\n",
    "        return out\n",
    "    \n",
    "class ResNet(nn.Module):\n",
    "    def __init__(self, block, layers, num_classes=1000):\n",
    "        super().__init__()\n",
    "\n",
    "        self.in_channels = 64\n",
    "        self.conv1 = nn.Conv2d(\n",
    "            3, self.in_channels, kernel_size=7, stride=2, padding=3, bias=False\n",
    "        )\n",
    "        self.bn1 = nn.BatchNorm2d(self.in_channels)\n",
    "        self.relu = nn.ReLU(inplace=True)\n",
    "        self.maxpool = nn.MaxPool2d(kernel_size=3, stride=2, padding=1)\n",
    "        self.layer1 = self._make_layer(block, 64, layers[0], stride=1)\n",
    "        self.layer2 = self._make_layer(block, 128, layers[1], stride=2)\n",
    "        self.layer3 = self._make_layer(block, 256, layers[2], stride=2)\n",
    "        self.layer4 = self._make_layer(block, 512, layers[3], stride=2)\n",
    "        self.avgpool = nn.AdaptiveAvgPool2d((1, 1))\n",
    "        self.fc = nn.Linear(512 * block.expansion, num_classes)\n",
    "\n",
    "        # 重みを初期化する。\n",
    "        for m in self.modules():\n",
    "            if isinstance(m, nn.Conv2d):\n",
    "                nn.init.kaiming_normal_(m.weight, mode=\"fan_out\", nonlinearity=\"relu\")\n",
    "            elif isinstance(m, nn.BatchNorm2d):\n",
    "                nn.init.constant_(m.weight, 1)\n",
    "                nn.init.constant_(m.bias, 0)\n",
    "\n",
    "    def _make_layer(self, block, channels, blocks, stride):\n",
    "        layers = []\n",
    "\n",
    "        # 最初の Residual Block\n",
    "        layers.append(block(self.in_channels, channels, stride))\n",
    "\n",
    "        # 残りの Residual Block\n",
    "        self.in_channels = channels * block.expansion\n",
    "        for _ in range(1, blocks):\n",
    "            layers.append(block(self.in_channels, channels))\n",
    "\n",
    "        return nn.Sequential(*layers)\n",
    "\n",
    "    def forward(self, x):\n",
    "        x = self.conv1(x)\n",
    "        x = self.bn1(x)\n",
    "        x = self.relu(x)\n",
    "        x = self.maxpool(x)\n",
    "\n",
    "        x = self.layer1(x)\n",
    "        x = self.layer2(x)\n",
    "        x = self.layer3(x)\n",
    "        x = self.layer4(x)\n",
    "\n",
    "        x = self.avgpool(x)\n",
    "        x = torch.flatten(x, 1)\n",
    "        x = self.fc(x)\n",
    "\n",
    "        return x\n",
    "    \n",
    "def resnet18():\n",
    "    return ResNet(BasicBlock, [2, 2, 2, 2])\n",
    "\n",
    "\n",
    "def resnet34():\n",
    "    return ResNet(BasicBlock, [3, 4, 6, 3])\n",
    "\n",
    "\n",
    "def resnet50():\n",
    "    return ResNet(Bottleneck, [3, 4, 6, 3])\n",
    "\n",
    "\n",
    "def resnet101():\n",
    "    return ResNet(Bottleneck, [3, 4, 23, 3])\n",
    "\n",
    "\n",
    "def resnet152():\n",
    "    return ResNet(Bottleneck, [3, 8, 36, 3])"
   ]
  },
  {
   "cell_type": "code",
   "execution_count": null,
   "metadata": {},
   "outputs": [],
   "source": []
  },
  {
   "cell_type": "code",
   "execution_count": null,
   "metadata": {},
   "outputs": [],
   "source": []
  },
  {
   "cell_type": "code",
   "execution_count": null,
   "metadata": {},
   "outputs": [],
   "source": []
  },
  {
   "cell_type": "code",
   "execution_count": null,
   "metadata": {},
   "outputs": [],
   "source": []
  },
  {
   "cell_type": "code",
   "execution_count": 9,
   "metadata": {},
   "outputs": [],
   "source": [
    "SX=256 #画像サイズ\n",
    "N_m=70000 #データ数\n",
    "N_c=60000\n",
    "N_t=12966 \n",
    "N_val=500"
   ]
  },
  {
   "cell_type": "code",
   "execution_count": 10,
   "metadata": {},
   "outputs": [],
   "source": [
    "dp='./simdat/1byte/in_10class_256_0.2_0.1_sim_val.dat'\n",
    "\n",
    "dp_label='./label/in_10class_256_label_val.dat'\n",
    "\n",
    "in10_val=drb.sim_label_read(dp,SX,N_val,False,1)\n",
    "\n",
    "label_in_val=drb.sim_label_read(dp_label,1,N_val,True,4)"
   ]
  },
  {
   "cell_type": "code",
   "execution_count": 11,
   "metadata": {},
   "outputs": [],
   "source": [
    "in10_val=in10_val.reshape(N_val,1,16,16)\n",
    "label_in_val=label_in_val.reshape(N_val,)"
   ]
  },
  {
   "cell_type": "code",
   "execution_count": 12,
   "metadata": {},
   "outputs": [],
   "source": [
    "in10_val = torch.tensor(in10_val, dtype=torch.float32)\n",
    "label_in_val=label_in_val.astype(int)\n",
    "label_in_val=torch.tensor(label_in_val, dtype=torch.int64)"
   ]
  },
  {
   "cell_type": "code",
   "execution_count": null,
   "metadata": {},
   "outputs": [],
   "source": [
    "in_set_v = torch.utils.data.TensorDataset(in10_val, label_in_val)\n"
   ]
  },
  {
   "cell_type": "code",
   "execution_count": null,
   "metadata": {},
   "outputs": [],
   "source": []
  },
  {
   "cell_type": "code",
   "execution_count": null,
   "metadata": {},
   "outputs": [],
   "source": []
  },
  {
   "cell_type": "code",
   "execution_count": null,
   "metadata": {},
   "outputs": [],
   "source": []
  },
  {
   "cell_type": "code",
   "execution_count": 8,
   "metadata": {},
   "outputs": [],
   "source": [
    "valdat=drb.sim_label_read(,256,500,False,1)"
   ]
  },
  {
   "cell_type": "code",
   "execution_count": null,
   "metadata": {},
   "outputs": [],
   "source": []
  },
  {
   "cell_type": "code",
   "execution_count": null,
   "metadata": {},
   "outputs": [],
   "source": []
  },
  {
   "cell_type": "code",
   "execution_count": null,
   "metadata": {},
   "outputs": [],
   "source": [
    "vallist=DL.val_model(model)"
   ]
  },
  {
   "cell_type": "code",
   "execution_count": 5,
   "metadata": {},
   "outputs": [
    {
     "data": {
      "text/plain": [
       "<All keys matched successfully>"
      ]
     },
     "execution_count": 5,
     "metadata": {},
     "output_type": "execute_result"
    }
   ],
   "source": [
    "model_path='./torch_pth/sim/in_256cnn_0.2_0.1_e50_b256_lr0.1_norm.pth'\n",
    "model=my_model.simnet_cnn_256(10)\n",
    "model.load_state_dict(torch.load(model_path))"
   ]
  },
  {
   "cell_type": "code",
   "execution_count": null,
   "metadata": {},
   "outputs": [],
   "source": []
  },
  {
   "cell_type": "code",
   "execution_count": null,
   "metadata": {},
   "outputs": [],
   "source": []
  },
  {
   "cell_type": "code",
   "execution_count": null,
   "metadata": {},
   "outputs": [],
   "source": []
  },
  {
   "cell_type": "code",
   "execution_count": null,
   "metadata": {},
   "outputs": [],
   "source": []
  },
  {
   "cell_type": "code",
   "execution_count": null,
   "metadata": {},
   "outputs": [],
   "source": [
    "DL.val_model()"
   ]
  },
  {
   "cell_type": "code",
   "execution_count": null,
   "metadata": {},
   "outputs": [],
   "source": []
  },
  {
   "cell_type": "code",
   "execution_count": null,
   "metadata": {},
   "outputs": [],
   "source": []
  },
  {
   "cell_type": "code",
   "execution_count": null,
   "metadata": {},
   "outputs": [],
   "source": []
  },
  {
   "cell_type": "code",
   "execution_count": null,
   "metadata": {},
   "outputs": [],
   "source": []
  },
  {
   "cell_type": "code",
   "execution_count": null,
   "metadata": {
    "id": "GHjIduvvOgHd"
   },
   "outputs": [],
   "source": [
    "class Human:\n",
    "    def __init__(self,name):\n",
    "        self.name = name\n",
    "\n",
    "class Greet(Human):\n",
    "    def __init__(self, name, age):\n",
    "        super(Greet,self).__init__(name)\n",
    "        self.age = age\n",
    "    \n",
    "    def hello(self):\n",
    "        print(self.name, 'さん こんにちは！')\n"
   ]
  },
  {
   "cell_type": "code",
   "execution_count": null,
   "metadata": {
    "id": "pAgiXN49PFVd"
   },
   "outputs": [],
   "source": [
    "messi=Human(name='messi')"
   ]
  },
  {
   "cell_type": "code",
   "execution_count": null,
   "metadata": {
    "colab": {
     "base_uri": "https://localhost:8080/",
     "height": 36
    },
    "executionInfo": {
     "elapsed": 315,
     "status": "ok",
     "timestamp": 1630917182154,
     "user": {
      "displayName": "川本航旗",
      "photoUrl": "https://lh3.googleusercontent.com/a/default-user=s64",
      "userId": "16564860867479776447"
     },
     "user_tz": -540
    },
    "id": "g1GKpNddPNFB",
    "outputId": "41990775-407d-4638-bd37-33490e060255"
   },
   "outputs": [
    {
     "data": {
      "application/vnd.google.colaboratory.intrinsic+json": {
       "type": "string"
      },
      "text/plain": [
       "'messi'"
      ]
     },
     "execution_count": 4,
     "metadata": {},
     "output_type": "execute_result"
    }
   ],
   "source": [
    "messi.name"
   ]
  },
  {
   "cell_type": "code",
   "execution_count": null,
   "metadata": {
    "id": "wS5RFmM7PT90"
   },
   "outputs": [],
   "source": [
    "messigreet=Greet(name='messi',age=34)"
   ]
  },
  {
   "cell_type": "code",
   "execution_count": null,
   "metadata": {
    "colab": {
     "base_uri": "https://localhost:8080/"
    },
    "executionInfo": {
     "elapsed": 533,
     "status": "ok",
     "timestamp": 1630917340927,
     "user": {
      "displayName": "川本航旗",
      "photoUrl": "https://lh3.googleusercontent.com/a/default-user=s64",
      "userId": "16564860867479776447"
     },
     "user_tz": -540
    },
    "id": "fCXXxyaPPhyv",
    "outputId": "7438cedf-eb71-4db9-fee7-249c3394f238"
   },
   "outputs": [
    {
     "name": "stdout",
     "output_type": "stream",
     "text": [
      "messi さん こんにちは！\n"
     ]
    }
   ],
   "source": [
    "messigreet.hello()"
   ]
  },
  {
   "cell_type": "code",
   "execution_count": null,
   "metadata": {
    "colab": {
     "base_uri": "https://localhost:8080/"
    },
    "executionInfo": {
     "elapsed": 412,
     "status": "ok",
     "timestamp": 1630917360599,
     "user": {
      "displayName": "川本航旗",
      "photoUrl": "https://lh3.googleusercontent.com/a/default-user=s64",
      "userId": "16564860867479776447"
     },
     "user_tz": -540
    },
    "id": "HkHqrUsTPy6s",
    "outputId": "41809328-7773-41c3-f049-61bf40529016"
   },
   "outputs": [
    {
     "data": {
      "text/plain": [
       "34"
      ]
     },
     "execution_count": 11,
     "metadata": {},
     "output_type": "execute_result"
    }
   ],
   "source": [
    "messigreet.age"
   ]
  },
  {
   "cell_type": "code",
   "execution_count": null,
   "metadata": {
    "colab": {
     "base_uri": "https://localhost:8080/",
     "height": 36
    },
    "executionInfo": {
     "elapsed": 322,
     "status": "ok",
     "timestamp": 1630917382665,
     "user": {
      "displayName": "川本航旗",
      "photoUrl": "https://lh3.googleusercontent.com/a/default-user=s64",
      "userId": "16564860867479776447"
     },
     "user_tz": -540
    },
    "id": "EgFJ5CUGP8ad",
    "outputId": "0280e39d-aef0-4005-e54d-4fd19e05fa95"
   },
   "outputs": [
    {
     "data": {
      "application/vnd.google.colaboratory.intrinsic+json": {
       "type": "string"
      },
      "text/plain": [
       "'messi'"
      ]
     },
     "execution_count": 12,
     "metadata": {},
     "output_type": "execute_result"
    }
   ],
   "source": [
    "messigreet.name"
   ]
  },
  {
   "cell_type": "code",
   "execution_count": null,
   "metadata": {
    "id": "mLiO_6tgQE8Q"
   },
   "outputs": [],
   "source": [
    "class Human:\n",
    "    def __init__(self,name):\n",
    "        self.name = name\n",
    "\n",
    "class Greet(Human):\n",
    "    def __init__(self, name, age):\n",
    "        super().__init__(name)\n",
    "        self.age = age\n",
    "    \n",
    "    def hello(self):\n",
    "        print(self.name, 'さん こんにちは！')\n"
   ]
  },
  {
   "cell_type": "code",
   "execution_count": null,
   "metadata": {
    "id": "6gYe84x9QQJV"
   },
   "outputs": [],
   "source": [
    "messigreet=Greet(name='messi',age=34)"
   ]
  },
  {
   "cell_type": "code",
   "execution_count": null,
   "metadata": {
    "colab": {
     "base_uri": "https://localhost:8080/"
    },
    "executionInfo": {
     "elapsed": 348,
     "status": "ok",
     "timestamp": 1630917510111,
     "user": {
      "displayName": "川本航旗",
      "photoUrl": "https://lh3.googleusercontent.com/a/default-user=s64",
      "userId": "16564860867479776447"
     },
     "user_tz": -540
    },
    "id": "yt9Ms8zOQgDp",
    "outputId": "91fc2ce5-49ea-4545-e39f-f2494c10e2c7"
   },
   "outputs": [
    {
     "name": "stdout",
     "output_type": "stream",
     "text": [
      "messi さん こんにちは！\n"
     ]
    }
   ],
   "source": [
    "messigreet.hello()"
   ]
  },
  {
   "cell_type": "code",
   "execution_count": null,
   "metadata": {
    "colab": {
     "base_uri": "https://localhost:8080/",
     "height": 36
    },
    "executionInfo": {
     "elapsed": 335,
     "status": "ok",
     "timestamp": 1630917520373,
     "user": {
      "displayName": "川本航旗",
      "photoUrl": "https://lh3.googleusercontent.com/a/default-user=s64",
      "userId": "16564860867479776447"
     },
     "user_tz": -540
    },
    "id": "XZ-ednULQkDG",
    "outputId": "d53aadef-140a-40ec-c026-2119f685cd5c"
   },
   "outputs": [
    {
     "data": {
      "application/vnd.google.colaboratory.intrinsic+json": {
       "type": "string"
      },
      "text/plain": [
       "'messi'"
      ]
     },
     "execution_count": 16,
     "metadata": {},
     "output_type": "execute_result"
    }
   ],
   "source": [
    "messigreet.name"
   ]
  },
  {
   "cell_type": "code",
   "execution_count": null,
   "metadata": {
    "id": "3SKx7Q5BQmji"
   },
   "outputs": [],
   "source": [
    "class Human:\n",
    "    def __init__(self,name):\n",
    "        self.name = name\n",
    "\n",
    "class Greet(Human):\n",
    "    def __init__(self, name, age):\n",
    "        super().__init__(name)\n",
    "        self.age = age\n",
    "    \n",
    "    def hello(self):\n",
    "        print(self.name, 'さん こんにちは！')\n"
   ]
  },
  {
   "cell_type": "code",
   "execution_count": null,
   "metadata": {
    "id": "EdwTIwukQqxQ"
   },
   "outputs": [],
   "source": [
    "messigreet=Greet(name='messi',age=34)"
   ]
  },
  {
   "cell_type": "code",
   "execution_count": null,
   "metadata": {
    "colab": {
     "base_uri": "https://localhost:8080/",
     "height": 36
    },
    "executionInfo": {
     "elapsed": 349,
     "status": "ok",
     "timestamp": 1630917709545,
     "user": {
      "displayName": "川本航旗",
      "photoUrl": "https://lh3.googleusercontent.com/a/default-user=s64",
      "userId": "16564860867479776447"
     },
     "user_tz": -540
    },
    "id": "D0etNsPsQvjc",
    "outputId": "fbeae00a-5103-421b-dee9-c291fe04b42e"
   },
   "outputs": [
    {
     "data": {
      "application/vnd.google.colaboratory.intrinsic+json": {
       "type": "string"
      },
      "text/plain": [
       "'messi'"
      ]
     },
     "execution_count": 27,
     "metadata": {},
     "output_type": "execute_result"
    }
   ],
   "source": [
    "messigreet.name"
   ]
  },
  {
   "cell_type": "code",
   "execution_count": null,
   "metadata": {
    "id": "0LVbOZHxQ7S7"
   },
   "outputs": [],
   "source": [
    "psg=['neymar','embappe','messi','ramos']"
   ]
  },
  {
   "cell_type": "code",
   "execution_count": null,
   "metadata": {
    "colab": {
     "base_uri": "https://localhost:8080/"
    },
    "executionInfo": {
     "elapsed": 266,
     "status": "ok",
     "timestamp": 1630992805500,
     "user": {
      "displayName": "川本航旗",
      "photoUrl": "https://lh3.googleusercontent.com/a/default-user=s64",
      "userId": "16564860867479776447"
     },
     "user_tz": -540
    },
    "id": "lG1r2tf5vnca",
    "outputId": "3bac64d0-04fd-4464-9459-98e36d4d06ce"
   },
   "outputs": [
    {
     "name": "stdout",
     "output_type": "stream",
     "text": [
      "0\n",
      "neymar\n",
      "1\n",
      "embappe\n",
      "2\n",
      "messi\n",
      "3\n",
      "ramos\n"
     ]
    }
   ],
   "source": [
    "for i,j in enumerate(psg):\n",
    "  print(i)\n",
    "  print(j)"
   ]
  },
  {
   "cell_type": "code",
   "execution_count": 1,
   "metadata": {
    "colab": {
     "base_uri": "https://localhost:8080/"
    },
    "executionInfo": {
     "elapsed": 5,
     "status": "ok",
     "timestamp": 1632286630922,
     "user": {
      "displayName": "川本航旗",
      "photoUrl": "https://lh3.googleusercontent.com/a/default-user=s64",
      "userId": "16564860867479776447"
     },
     "user_tz": -540
    },
    "id": "tW8UenZ0vyv0",
    "outputId": "e82de79d-488a-4470-8d46-ebe8e7d8abf4"
   },
   "outputs": [
    {
     "name": "stdout",
     "output_type": "stream",
     "text": [
      "[1, 2, 3, 4, 5, [6, 7, 8, 9]]\n"
     ]
    }
   ],
   "source": [
    "a=[1,2,3,4,5]\n",
    "b=[6,7,8,9]\n",
    "a.append(b)\n",
    "print(a)"
   ]
  },
  {
   "cell_type": "code",
   "execution_count": 2,
   "metadata": {
    "executionInfo": {
     "elapsed": 214,
     "status": "ok",
     "timestamp": 1632286670630,
     "user": {
      "displayName": "川本航旗",
      "photoUrl": "https://lh3.googleusercontent.com/a/default-user=s64",
      "userId": "16564860867479776447"
     },
     "user_tz": -540
    },
    "id": "BVc3RG8U3U1K"
   },
   "outputs": [],
   "source": [
    "a=[1,2,3,4,5]\n",
    "b=[6,7,8,9]\n",
    "c=[]\n",
    "c.append(a)\n",
    "c.append(b)"
   ]
  },
  {
   "cell_type": "code",
   "execution_count": 3,
   "metadata": {
    "colab": {
     "base_uri": "https://localhost:8080/"
    },
    "executionInfo": {
     "elapsed": 258,
     "status": "ok",
     "timestamp": 1632286676317,
     "user": {
      "displayName": "川本航旗",
      "photoUrl": "https://lh3.googleusercontent.com/a/default-user=s64",
      "userId": "16564860867479776447"
     },
     "user_tz": -540
    },
    "id": "OQSIS3fJ3fw-",
    "outputId": "753d9885-8013-40bf-b0b8-2146da1de6bf"
   },
   "outputs": [
    {
     "name": "stdout",
     "output_type": "stream",
     "text": [
      "[[1, 2, 3, 4, 5], [6, 7, 8, 9]]\n"
     ]
    }
   ],
   "source": [
    "print(c)"
   ]
  },
  {
   "cell_type": "code",
   "execution_count": 4,
   "metadata": {
    "colab": {
     "base_uri": "https://localhost:8080/",
     "height": 209
    },
    "executionInfo": {
     "elapsed": 281,
     "status": "error",
     "timestamp": 1632286957843,
     "user": {
      "displayName": "川本航旗",
      "photoUrl": "https://lh3.googleusercontent.com/a/default-user=s64",
      "userId": "16564860867479776447"
     },
     "user_tz": -540
    },
    "id": "VXJ_SfBb3hG0",
    "outputId": "28dbc1c5-e666-4478-b385-001148a721ac"
   },
   "outputs": [
    {
     "ename": "TypeError",
     "evalue": "ignored",
     "output_type": "error",
     "traceback": [
      "\u001b[0;31m---------------------------------------------------------------------------\u001b[0m",
      "\u001b[0;31mTypeError\u001b[0m                                 Traceback (most recent call last)",
      "\u001b[0;32m<ipython-input-4-0f348898d726>\u001b[0m in \u001b[0;36m<module>\u001b[0;34m()\u001b[0m\n\u001b[1;32m      2\u001b[0m \u001b[0mb\u001b[0m\u001b[0;34m=\u001b[0m\u001b[0;34m[\u001b[0m\u001b[0;36m6\u001b[0m\u001b[0;34m,\u001b[0m\u001b[0;36m7\u001b[0m\u001b[0;34m,\u001b[0m\u001b[0;36m8\u001b[0m\u001b[0;34m,\u001b[0m\u001b[0;36m9\u001b[0m\u001b[0;34m]\u001b[0m\u001b[0;34m\u001b[0m\u001b[0;34m\u001b[0m\u001b[0m\n\u001b[1;32m      3\u001b[0m \u001b[0mc\u001b[0m\u001b[0;34m=\u001b[0m\u001b[0;34m[\u001b[0m\u001b[0;34m]\u001b[0m\u001b[0;34m\u001b[0m\u001b[0;34m\u001b[0m\u001b[0m\n\u001b[0;32m----> 4\u001b[0;31m \u001b[0mc\u001b[0m\u001b[0;34m.\u001b[0m\u001b[0mappend\u001b[0m\u001b[0;34m(\u001b[0m\u001b[0ma\u001b[0m\u001b[0;34m,\u001b[0m\u001b[0mb\u001b[0m\u001b[0;34m)\u001b[0m\u001b[0;34m\u001b[0m\u001b[0;34m\u001b[0m\u001b[0m\n\u001b[0m",
      "\u001b[0;31mTypeError\u001b[0m: append() takes exactly one argument (2 given)"
     ]
    }
   ],
   "source": [
    "a=[1,2,3,4,5]\n",
    "b=[6,7,8,9]\n",
    "c=[]\n",
    "c.append(a,b)"
   ]
  },
  {
   "cell_type": "code",
   "execution_count": null,
   "metadata": {
    "id": "qfzT_mm34l3X"
   },
   "outputs": [],
   "source": []
  }
 ],
 "metadata": {
  "colab": {
   "authorship_tag": "ABX9TyOlvaBmkAMKusbSvqxc7wx9",
   "collapsed_sections": [],
   "name": "test.ipynb",
   "provenance": []
  },
  "kernelspec": {
   "display_name": "Python 3 (ipykernel)",
   "language": "python",
   "name": "python3"
  },
  "language_info": {
   "codemirror_mode": {
    "name": "ipython",
    "version": 3
   },
   "file_extension": ".py",
   "mimetype": "text/x-python",
   "name": "python",
   "nbconvert_exporter": "python",
   "pygments_lexer": "ipython3",
   "version": "3.8.0"
  }
 },
 "nbformat": 4,
 "nbformat_minor": 1
}
