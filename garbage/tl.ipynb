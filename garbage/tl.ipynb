{
 "cells": [
  {
   "cell_type": "code",
   "execution_count": 1,
   "id": "dea8832a",
   "metadata": {},
   "outputs": [],
   "source": [
    "import torch\n",
    "import torch.nn as nn\n",
    "import torch.nn.functional as F\n",
    "torch.manual_seed(0)\n",
    "from torch.autograd import Variable\n",
    "#from torchsummary import summary\n",
    "import torch.optim as optim\n",
    "import time\n",
    "import matplotlib\n",
    "from torch.utils.data import DataLoader\n",
    "import torch.utils.data as data\n",
    "import numpy as np\n",
    "import pandas as pd\n",
    "import py_func.Deep_learning_torch_func as DL\n",
    "import py_func.dat_rb_func as drb\n",
    "from torchvision.datasets import ImageFolder\n",
    "from torchvision import transforms\n",
    "import py_func.torch_prepro_func as tpf\n",
    "import py_func.models_func as my_model"
   ]
  },
  {
   "cell_type": "code",
   "execution_count": 2,
   "id": "e13a1c34",
   "metadata": {},
   "outputs": [
    {
     "data": {
      "text/plain": [
       "<All keys matched successfully>"
      ]
     },
     "execution_count": 2,
     "metadata": {},
     "output_type": "execute_result"
    }
   ],
   "source": [
    "device = torch.device('cuda:0' if torch.cuda.is_available() else 'cpu')\n",
    "model_path='./torch_pth/sim/m_128cnn_0.2_0.1_e50_b128_lr0.01.pth'\n",
    "model=my_model.simnet_cnn_128(10)\n",
    "model.load_state_dict(torch.load(model_path))\n",
    "md.to(device)"
   ]
  },
  {
   "cell_type": "code",
   "execution_count": null,
   "id": "1154802c",
   "metadata": {},
   "outputs": [],
   "source": []
  }
 ],
 "metadata": {
  "kernelspec": {
   "display_name": "torch_gpu_6",
   "language": "python",
   "name": "torch_gpu_6"
  },
  "language_info": {
   "codemirror_mode": {
    "name": "ipython",
    "version": 3
   },
   "file_extension": ".py",
   "mimetype": "text/x-python",
   "name": "python",
   "nbconvert_exporter": "python",
   "pygments_lexer": "ipython3",
   "version": "3.8.0"
  }
 },
 "nbformat": 4,
 "nbformat_minor": 5
}
