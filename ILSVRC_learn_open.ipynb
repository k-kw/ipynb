{
 "cells": [
  {
   "cell_type": "code",
   "execution_count": 1,
   "id": "4f698ecf",
   "metadata": {},
   "outputs": [],
   "source": [
    "import tarfile\n",
    "import os"
   ]
  },
  {
   "cell_type": "code",
   "execution_count": 2,
   "id": "2e151151",
   "metadata": {
    "scrolled": true
   },
   "outputs": [],
   "source": [
    "tardirpath=r\"./ILSVRC2012_learn\"\n",
    "files = os.listdir(tardirpath)\n",
    "for file in files:\n",
    "    tar=os.path.splitext(file)\n",
    "    #print(tar)\n",
    "    if (tar[1] == '.tar'):\n",
    "        #print(tar[0])\n",
    "        tarfilepath=\"./ILSVRC2012_learn/\"+file\n",
    "        openpath=\"./ILSVRC2012_learn_sample/\"+tar[0]\n",
    "        with tarfile.open(tarfilepath,'r') as tar:\n",
    "            tar.extractall(path=openpath)"
   ]
  },
  {
   "cell_type": "code",
   "execution_count": 4,
   "id": "c459f5a3",
   "metadata": {},
   "outputs": [],
   "source": [
    "# openpath=r\"./ILSVRC2012_learn_sample/n01443537\"\n",
    "# with tarfile.open(tarfilepath,'r') as tar:\n",
    "#     tar.extractall(path=openpath)"
   ]
  }
 ],
 "metadata": {
  "kernelspec": {
   "display_name": "Python 3 (ipykernel)",
   "language": "python",
   "name": "python3"
  },
  "language_info": {
   "codemirror_mode": {
    "name": "ipython",
    "version": 3
   },
   "file_extension": ".py",
   "mimetype": "text/x-python",
   "name": "python",
   "nbconvert_exporter": "python",
   "pygments_lexer": "ipython3",
   "version": "3.8.0"
  }
 },
 "nbformat": 4,
 "nbformat_minor": 5
}
