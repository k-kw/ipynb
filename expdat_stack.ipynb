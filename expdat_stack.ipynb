{
 "cells": [
  {
   "cell_type": "code",
   "execution_count": 1,
   "id": "7870fd4b",
   "metadata": {},
   "outputs": [],
   "source": [
    "import numpy as np\n",
    "import sys,os\n",
    "sys.path.append(os.pardir)\n",
    "\n",
    "import py_func.Deep_learning_torch_func as DL\n",
    "import py_func.models_func as my_model\n",
    "import py_func.dat_rb_func as drb\n",
    "import py_func.my_numpy_class as mnc"
   ]
  },
  {
   "cell_type": "code",
   "execution_count": 3,
   "id": "2d56351e",
   "metadata": {},
   "outputs": [
    {
     "data": {
      "text/plain": [
       "(15000, 1600)"
      ]
     },
     "execution_count": 3,
     "metadata": {},
     "output_type": "execute_result"
    }
   ],
   "source": [
    "read = mnc.My_numpy(1, '../dat/expedat/expedata_before_stack/fm_1_5000_slt0.6_N3_lsd.dat')\n",
    "read.simread(3*5000, 1600)\n",
    "read.data.shape"
   ]
  },
  {
   "cell_type": "code",
   "execution_count": 5,
   "id": "1e5bf787",
   "metadata": {},
   "outputs": [
    {
     "data": {
      "text/plain": [
       "(15000, 1600)"
      ]
     },
     "execution_count": 5,
     "metadata": {},
     "output_type": "execute_result"
    }
   ],
   "source": [
    "read2 = mnc.My_numpy(1, '../dat/expedat/expedata_before_stack/fm_5001_10000_slt0.6_N3_lsd.dat')\n",
    "read2.simread(3*5000, 1600)\n",
    "read2.data.shape"
   ]
  },
  {
   "cell_type": "code",
   "execution_count": 6,
   "id": "d67d38ec",
   "metadata": {},
   "outputs": [
    {
     "data": {
      "text/plain": [
       "(15000, 1600)"
      ]
     },
     "execution_count": 6,
     "metadata": {},
     "output_type": "execute_result"
    }
   ],
   "source": [
    "read3 = mnc.My_numpy(1, '../dat/expedat/expedata_before_stack/fm_10001_15000_slt0.6_N3_lsd.dat')\n",
    "read3.simread(3*5000, 1600)\n",
    "read3.data.shape"
   ]
  },
  {
   "cell_type": "code",
   "execution_count": 7,
   "id": "e174a2fa",
   "metadata": {},
   "outputs": [
    {
     "data": {
      "text/plain": [
       "(15000, 1600)"
      ]
     },
     "execution_count": 7,
     "metadata": {},
     "output_type": "execute_result"
    }
   ],
   "source": [
    "read4 = mnc.My_numpy(1, '../dat/expedat/expedata_before_stack/fm_15001_20000_slt0.6_N3_lsd.dat')\n",
    "read4.simread(3*5000, 1600)\n",
    "read4.data.shape"
   ]
  },
  {
   "cell_type": "code",
   "execution_count": 8,
   "id": "c4597e88",
   "metadata": {},
   "outputs": [
    {
     "data": {
      "text/plain": [
       "(60000, 1600)"
      ]
     },
     "execution_count": 8,
     "metadata": {},
     "output_type": "execute_result"
    }
   ],
   "source": [
    "read.data = np.vstack((read.data, read2.data, read3.data, read4.data))\n",
    "read.data.shape"
   ]
  },
  {
   "cell_type": "code",
   "execution_count": 9,
   "id": "21718ceb",
   "metadata": {},
   "outputs": [],
   "source": [
    "wrb = mnc.My_numpy(1, '../dat/expedat/fm/fm_1_20000_slt0.6_N3_lsd.dat')\n",
    "wrb.writebin(read.data)"
   ]
  },
  {
   "cell_type": "code",
   "execution_count": 10,
   "id": "c31a7be4",
   "metadata": {},
   "outputs": [],
   "source": [
    "meandata = read.data.reshape(20000,3,1600)\n",
    "meandata = np.mean(meandata, axis = 1)"
   ]
  },
  {
   "cell_type": "code",
   "execution_count": 11,
   "id": "faafe856",
   "metadata": {},
   "outputs": [
    {
     "data": {
      "text/plain": [
       "(20000, 1600)"
      ]
     },
     "execution_count": 11,
     "metadata": {},
     "output_type": "execute_result"
    }
   ],
   "source": [
    "meandata.shape"
   ]
  },
  {
   "cell_type": "code",
   "execution_count": 12,
   "id": "13be7047",
   "metadata": {},
   "outputs": [],
   "source": [
    "wrb2 = mnc.My_numpy(1, '../dat/expedat/fm/fm_1_20000_slt0.6_N3_lsd_mean.dat')\n",
    "wrb2.writebin(meandata)"
   ]
  },
  {
   "cell_type": "code",
   "execution_count": 13,
   "id": "f01cdf25",
   "metadata": {},
   "outputs": [
    {
     "data": {
      "text/plain": [
       "(9000, 1600)"
      ]
     },
     "execution_count": 13,
     "metadata": {},
     "output_type": "execute_result"
    }
   ],
   "source": [
    "read5 = mnc.My_numpy(1, '../dat/expedat/expedata_before_stack/fm_20001_23000_slt0.6_N3_lsd.dat')\n",
    "read5.simread(3*3000, 1600)\n",
    "read5.data.shape"
   ]
  },
  {
   "cell_type": "code",
   "execution_count": 14,
   "id": "5970cac9",
   "metadata": {},
   "outputs": [
    {
     "data": {
      "text/plain": [
       "(69000, 1600)"
      ]
     },
     "execution_count": 14,
     "metadata": {},
     "output_type": "execute_result"
    }
   ],
   "source": [
    "read.data = np.vstack((read.data, read5.data))\n",
    "read.data.shape"
   ]
  },
  {
   "cell_type": "code",
   "execution_count": 15,
   "id": "05fa062d",
   "metadata": {},
   "outputs": [],
   "source": [
    "wrb3 = mnc.My_numpy(1, '../dat/expedat/fm/fm_1_23000_slt0.6_N3_lsd.dat')\n",
    "wrb3.writebin(read.data)"
   ]
  },
  {
   "cell_type": "code",
   "execution_count": 16,
   "id": "a8465983",
   "metadata": {},
   "outputs": [
    {
     "data": {
      "text/plain": [
       "(23000, 1600)"
      ]
     },
     "execution_count": 16,
     "metadata": {},
     "output_type": "execute_result"
    }
   ],
   "source": [
    "meandata = read.data.reshape(23000,3,1600)\n",
    "meandata = np.mean(meandata, axis = 1)\n",
    "meandata.shape"
   ]
  },
  {
   "cell_type": "code",
   "execution_count": 17,
   "id": "cdc6a5d6",
   "metadata": {},
   "outputs": [],
   "source": [
    "wrb4 = mnc.My_numpy(1, '../dat/expedat/fm/fm_1_23000_slt0.6_N3_lsd_mean.dat')\n",
    "wrb4.writebin(meandata)"
   ]
  },
  {
   "cell_type": "code",
   "execution_count": null,
   "id": "51b4878c",
   "metadata": {},
   "outputs": [],
   "source": []
  },
  {
   "cell_type": "code",
   "execution_count": null,
   "id": "662fbb42",
   "metadata": {},
   "outputs": [],
   "source": []
  },
  {
   "cell_type": "code",
   "execution_count": null,
   "id": "d7dbb42d",
   "metadata": {},
   "outputs": [],
   "source": []
  },
  {
   "cell_type": "code",
   "execution_count": null,
   "id": "fe9407a6",
   "metadata": {},
   "outputs": [],
   "source": []
  },
  {
   "cell_type": "code",
   "execution_count": null,
   "id": "254f6702",
   "metadata": {},
   "outputs": [],
   "source": []
  },
  {
   "cell_type": "code",
   "execution_count": null,
   "id": "583ac61d",
   "metadata": {},
   "outputs": [],
   "source": []
  },
  {
   "cell_type": "code",
   "execution_count": null,
   "id": "33aa73d4",
   "metadata": {},
   "outputs": [],
   "source": []
  },
  {
   "cell_type": "code",
   "execution_count": 2,
   "id": "0171d7f1",
   "metadata": {},
   "outputs": [
    {
     "data": {
      "text/plain": [
       "((20000, 1600), 15)"
      ]
     },
     "execution_count": 2,
     "metadata": {},
     "output_type": "execute_result"
    }
   ],
   "source": [
    "read = mnc.My_numpy(1, '../dat/expedata/m_23001_25000_fps2_N10_lsd.dat')\n",
    "read.simread(20000, 1600)\n",
    "read.data.shape, read.data[19999][1599]"
   ]
  },
  {
   "cell_type": "code",
   "execution_count": 3,
   "id": "2094d845",
   "metadata": {},
   "outputs": [
    {
     "data": {
      "text/plain": [
       "((20000, 1600), 7)"
      ]
     },
     "execution_count": 3,
     "metadata": {},
     "output_type": "execute_result"
    }
   ],
   "source": [
    "read2 = mnc.My_numpy(1, '../dat/expedata/m_25001_27000_fps2_N10_lsd.dat')\n",
    "read2.simread(20000, 1600)\n",
    "read2.data.shape, read2.data[19999][1599]"
   ]
  },
  {
   "cell_type": "code",
   "execution_count": 4,
   "id": "3bafb1ed",
   "metadata": {},
   "outputs": [
    {
     "data": {
      "text/plain": [
       "((30000, 1600), 32)"
      ]
     },
     "execution_count": 4,
     "metadata": {},
     "output_type": "execute_result"
    }
   ],
   "source": [
    "read3 = mnc.My_numpy(1, '../dat/expedata/m_27001_30000_fps2_N10_lsd.dat')\n",
    "read3.simread(30000, 1600)\n",
    "read3.data.shape, read3.data[29999][1599]"
   ]
  },
  {
   "cell_type": "code",
   "execution_count": 5,
   "id": "77d4702d",
   "metadata": {},
   "outputs": [
    {
     "data": {
      "text/plain": [
       "((40000, 1600), 15, 7)"
      ]
     },
     "execution_count": 5,
     "metadata": {},
     "output_type": "execute_result"
    }
   ],
   "source": [
    "read.data = np.vstack((read.data, read2.data))\n",
    "read.data.shape, read.data[19999][1599], read.data[39999][1599]"
   ]
  },
  {
   "cell_type": "code",
   "execution_count": 6,
   "id": "b66e1e18",
   "metadata": {},
   "outputs": [
    {
     "data": {
      "text/plain": [
       "((70000, 1600), 15, 7, 32)"
      ]
     },
     "execution_count": 6,
     "metadata": {},
     "output_type": "execute_result"
    }
   ],
   "source": [
    "read.data = np.vstack((read.data, read3.data))\n",
    "read.data.shape, read.data[19999][1599], read.data[39999][1599], read.data[69999][1599]"
   ]
  },
  {
   "cell_type": "code",
   "execution_count": 7,
   "id": "8cdd6b57",
   "metadata": {},
   "outputs": [],
   "source": [
    "wrb = mnc.My_numpy(1, '../dat/expedata/m_23001_30000_fps2_N10_lsd.dat')\n",
    "wrb.writebin(read.data)"
   ]
  },
  {
   "cell_type": "code",
   "execution_count": 8,
   "id": "c391c513",
   "metadata": {},
   "outputs": [
    {
     "data": {
      "text/plain": [
       "(7000, 10, 1600)"
      ]
     },
     "execution_count": 8,
     "metadata": {},
     "output_type": "execute_result"
    }
   ],
   "source": [
    "mean = np.reshape(read.data, (7000, 10, 1600))\n",
    "mean.shape"
   ]
  },
  {
   "cell_type": "code",
   "execution_count": 9,
   "id": "1e2a0dac",
   "metadata": {},
   "outputs": [
    {
     "data": {
      "text/plain": [
       "(7000, 1600)"
      ]
     },
     "execution_count": 9,
     "metadata": {},
     "output_type": "execute_result"
    }
   ],
   "source": [
    "mean = np.mean(mean, axis = 1)\n",
    "mean.shape"
   ]
  },
  {
   "cell_type": "code",
   "execution_count": 10,
   "id": "e5af1f1f",
   "metadata": {},
   "outputs": [],
   "source": [
    "wrb2 = mnc.My_numpy(1, '../dat/expedata/m_23001_30000_fps2_N10_lsd_mean.dat')\n",
    "wrb2.writebin(mean)"
   ]
  },
  {
   "cell_type": "code",
   "execution_count": null,
   "id": "e23ea09d",
   "metadata": {},
   "outputs": [],
   "source": []
  }
 ],
 "metadata": {
  "kernelspec": {
   "display_name": "torch_gpu_6",
   "language": "python",
   "name": "torch_gpu_6"
  },
  "language_info": {
   "codemirror_mode": {
    "name": "ipython",
    "version": 3
   },
   "file_extension": ".py",
   "mimetype": "text/x-python",
   "name": "python",
   "nbconvert_exporter": "python",
   "pygments_lexer": "ipython3",
   "version": "3.8.0"
  }
 },
 "nbformat": 4,
 "nbformat_minor": 5
}
