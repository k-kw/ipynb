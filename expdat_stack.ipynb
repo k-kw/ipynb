{
 "cells": [
  {
   "cell_type": "code",
   "execution_count": 1,
   "id": "7870fd4b",
   "metadata": {},
   "outputs": [],
   "source": [
    "import numpy as np\n",
    "import sys,os\n",
    "sys.path.append(os.pardir)\n",
    "\n",
    "import py_func.Deep_learning_torch_func as DL\n",
    "import py_func.models_func as my_model\n",
    "import py_func.dat_rb_func as drb\n",
    "import py_func.my_numpy_class as mnc"
   ]
  },
  {
   "cell_type": "code",
   "execution_count": 2,
   "id": "0171d7f1",
   "metadata": {},
   "outputs": [
    {
     "data": {
      "text/plain": [
       "((20000, 1600), 15)"
      ]
     },
     "execution_count": 2,
     "metadata": {},
     "output_type": "execute_result"
    }
   ],
   "source": [
    "read = mnc.My_numpy(1, '../dat/expedata/m_23001_25000_fps2_N10_lsd.dat')\n",
    "read.simread(20000, 1600)\n",
    "read.data.shape, read.data[19999][1599]"
   ]
  },
  {
   "cell_type": "code",
   "execution_count": 3,
   "id": "2094d845",
   "metadata": {},
   "outputs": [
    {
     "data": {
      "text/plain": [
       "((20000, 1600), 7)"
      ]
     },
     "execution_count": 3,
     "metadata": {},
     "output_type": "execute_result"
    }
   ],
   "source": [
    "read2 = mnc.My_numpy(1, '../dat/expedata/m_25001_27000_fps2_N10_lsd.dat')\n",
    "read2.simread(20000, 1600)\n",
    "read2.data.shape, read2.data[19999][1599]"
   ]
  },
  {
   "cell_type": "code",
   "execution_count": 4,
   "id": "3bafb1ed",
   "metadata": {},
   "outputs": [
    {
     "data": {
      "text/plain": [
       "((30000, 1600), 32)"
      ]
     },
     "execution_count": 4,
     "metadata": {},
     "output_type": "execute_result"
    }
   ],
   "source": [
    "read3 = mnc.My_numpy(1, '../dat/expedata/m_27001_30000_fps2_N10_lsd.dat')\n",
    "read3.simread(30000, 1600)\n",
    "read3.data.shape, read3.data[29999][1599]"
   ]
  },
  {
   "cell_type": "code",
   "execution_count": 5,
   "id": "77d4702d",
   "metadata": {},
   "outputs": [
    {
     "data": {
      "text/plain": [
       "((40000, 1600), 15, 7)"
      ]
     },
     "execution_count": 5,
     "metadata": {},
     "output_type": "execute_result"
    }
   ],
   "source": [
    "read.data = np.vstack((read.data, read2.data))\n",
    "read.data.shape, read.data[19999][1599], read.data[39999][1599]"
   ]
  },
  {
   "cell_type": "code",
   "execution_count": 6,
   "id": "b66e1e18",
   "metadata": {},
   "outputs": [
    {
     "data": {
      "text/plain": [
       "((70000, 1600), 15, 7, 32)"
      ]
     },
     "execution_count": 6,
     "metadata": {},
     "output_type": "execute_result"
    }
   ],
   "source": [
    "read.data = np.vstack((read.data, read3.data))\n",
    "read.data.shape, read.data[19999][1599], read.data[39999][1599], read.data[69999][1599]"
   ]
  },
  {
   "cell_type": "code",
   "execution_count": 7,
   "id": "8cdd6b57",
   "metadata": {},
   "outputs": [],
   "source": [
    "wrb = mnc.My_numpy(1, '../dat/expedata/m_23001_30000_fps2_N10_lsd.dat')\n",
    "wrb.writebin(read.data)"
   ]
  },
  {
   "cell_type": "code",
   "execution_count": 8,
   "id": "c391c513",
   "metadata": {},
   "outputs": [
    {
     "data": {
      "text/plain": [
       "(7000, 10, 1600)"
      ]
     },
     "execution_count": 8,
     "metadata": {},
     "output_type": "execute_result"
    }
   ],
   "source": [
    "mean = np.reshape(read.data, (7000, 10, 1600))\n",
    "mean.shape"
   ]
  },
  {
   "cell_type": "code",
   "execution_count": 9,
   "id": "1e2a0dac",
   "metadata": {},
   "outputs": [
    {
     "data": {
      "text/plain": [
       "(7000, 1600)"
      ]
     },
     "execution_count": 9,
     "metadata": {},
     "output_type": "execute_result"
    }
   ],
   "source": [
    "mean = np.mean(mean, axis = 1)\n",
    "mean.shape"
   ]
  },
  {
   "cell_type": "code",
   "execution_count": 10,
   "id": "e5af1f1f",
   "metadata": {},
   "outputs": [],
   "source": [
    "wrb2 = mnc.My_numpy(1, '../dat/expedata/m_23001_30000_fps2_N10_lsd_mean.dat')\n",
    "wrb2.writebin(mean)"
   ]
  },
  {
   "cell_type": "code",
   "execution_count": null,
   "id": "e23ea09d",
   "metadata": {},
   "outputs": [],
   "source": []
  }
 ],
 "metadata": {
  "kernelspec": {
   "display_name": "mytorch",
   "language": "python",
   "name": "mytorch"
  },
  "language_info": {
   "codemirror_mode": {
    "name": "ipython",
    "version": 3
   },
   "file_extension": ".py",
   "mimetype": "text/x-python",
   "name": "python",
   "nbconvert_exporter": "python",
   "pygments_lexer": "ipython3",
   "version": "3.8.8"
  }
 },
 "nbformat": 4,
 "nbformat_minor": 5
}
