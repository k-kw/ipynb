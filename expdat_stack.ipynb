{
 "cells": [
  {
   "cell_type": "code",
   "execution_count": 1,
   "id": "7870fd4b",
   "metadata": {},
   "outputs": [],
   "source": [
    "import numpy as np\n",
    "import sys,os\n",
    "sys.path.append(os.pardir)\n",
    "\n",
    "import py_func.Deep_learning_torch_func as DL\n",
    "import py_func.models_func as my_model\n",
    "import py_func.dat_rb_func as drb\n",
    "import py_func.my_numpy_class as mnc"
   ]
  },
  {
   "cell_type": "code",
   "execution_count": 2,
   "id": "3d5a9bd5",
   "metadata": {},
   "outputs": [
    {
     "data": {
      "text/plain": [
       "(15000, 1600)"
      ]
     },
     "execution_count": 2,
     "metadata": {},
     "output_type": "execute_result"
    }
   ],
   "source": [
    "read = mnc.My_numpy(1, '../dat/expedat/expedata_before_stack/m_now/m_1_5000_slt0.6_N3_lsd.dat')\n",
    "read.simread(3*5000, 1600)\n",
    "read.data.shape"
   ]
  },
  {
   "cell_type": "code",
   "execution_count": 3,
   "id": "4ac99863",
   "metadata": {},
   "outputs": [
    {
     "data": {
      "text/plain": [
       "array([122, 105,  31, ...,  16,   6,  19])"
      ]
     },
     "execution_count": 3,
     "metadata": {},
     "output_type": "execute_result"
    }
   ],
   "source": [
    "read.data[14999]"
   ]
  },
  {
   "cell_type": "code",
   "execution_count": 4,
   "id": "d0e1a8cc",
   "metadata": {},
   "outputs": [
    {
     "data": {
      "text/plain": [
       "(15000, 1600)"
      ]
     },
     "execution_count": 4,
     "metadata": {},
     "output_type": "execute_result"
    }
   ],
   "source": [
    "read2 = mnc.My_numpy(1, '../dat/expedat/expedata_before_stack/m_now/m_5001_10000_slt0.6_N3_lsd.dat')\n",
    "read2.simread(3*5000, 1600)\n",
    "read2.data.shape"
   ]
  },
  {
   "cell_type": "code",
   "execution_count": 5,
   "id": "b410ba39",
   "metadata": {},
   "outputs": [
    {
     "data": {
      "text/plain": [
       "(15000, 1600)"
      ]
     },
     "execution_count": 5,
     "metadata": {},
     "output_type": "execute_result"
    }
   ],
   "source": [
    "read3 = mnc.My_numpy(1, '../dat/expedat/expedata_before_stack/m_now/m_10001_15000_slt0.6_N3_lsd.dat')\n",
    "read3.simread(3*5000, 1600)\n",
    "read3.data.shape"
   ]
  },
  {
   "cell_type": "code",
   "execution_count": 6,
   "id": "ec371d97",
   "metadata": {},
   "outputs": [
    {
     "data": {
      "text/plain": [
       "(15000, 1600)"
      ]
     },
     "execution_count": 6,
     "metadata": {},
     "output_type": "execute_result"
    }
   ],
   "source": [
    "read4 = mnc.My_numpy(1, '../dat/expedat/expedata_before_stack/m_now/m_15001_20000_slt0.6_N3_lsd.dat')\n",
    "read4.simread(3*5000, 1600)\n",
    "read4.data.shape"
   ]
  },
  {
   "cell_type": "code",
   "execution_count": 7,
   "id": "953fe585",
   "metadata": {},
   "outputs": [
    {
     "data": {
      "text/plain": [
       "(15000, 1600)"
      ]
     },
     "execution_count": 7,
     "metadata": {},
     "output_type": "execute_result"
    }
   ],
   "source": [
    "read5 = mnc.My_numpy(1, '../dat/expedat/expedata_before_stack/m_now/m_20001_25000_slt0.6_N3_lsd.dat')\n",
    "read5.simread(3*5000, 1600)\n",
    "read5.data.shape"
   ]
  },
  {
   "cell_type": "code",
   "execution_count": 8,
   "id": "c8679e5e",
   "metadata": {},
   "outputs": [
    {
     "data": {
      "text/plain": [
       "(15000, 1600)"
      ]
     },
     "execution_count": 8,
     "metadata": {},
     "output_type": "execute_result"
    }
   ],
   "source": [
    "read6 = mnc.My_numpy(1, '../dat/expedat/expedata_before_stack/m_now/m_25001_30000_slt0.6_N3_lsd.dat')\n",
    "read6.simread(3*5000, 1600)\n",
    "read6.data.shape"
   ]
  },
  {
   "cell_type": "code",
   "execution_count": 9,
   "id": "ff70e644",
   "metadata": {},
   "outputs": [
    {
     "data": {
      "text/plain": [
       "(15000, 1600)"
      ]
     },
     "execution_count": 9,
     "metadata": {},
     "output_type": "execute_result"
    }
   ],
   "source": [
    "read7 = mnc.My_numpy(1, '../dat/expedat/expedata_before_stack/m_now/m_30001_35000_slt0.6_N3_lsd.dat')\n",
    "read7.simread(3*5000, 1600)\n",
    "read7.data.shape"
   ]
  },
  {
   "cell_type": "code",
   "execution_count": 10,
   "id": "4c6c0a4c",
   "metadata": {},
   "outputs": [
    {
     "data": {
      "text/plain": [
       "(15000, 1600)"
      ]
     },
     "execution_count": 10,
     "metadata": {},
     "output_type": "execute_result"
    }
   ],
   "source": [
    "read8 = mnc.My_numpy(1, '../dat/expedat/expedata_before_stack/m_now/m_35001_40000_slt0.6_N3_lsd.dat')\n",
    "read8.simread(3*5000, 1600)\n",
    "read8.data.shape"
   ]
  },
  {
   "cell_type": "code",
   "execution_count": 11,
   "id": "ae0f17fc",
   "metadata": {},
   "outputs": [
    {
     "data": {
      "text/plain": [
       "(15000, 1600)"
      ]
     },
     "execution_count": 11,
     "metadata": {},
     "output_type": "execute_result"
    }
   ],
   "source": [
    "read9 = mnc.My_numpy(1, '../dat/expedat/expedata_before_stack/m_now/m_40001_45000_slt0.6_N3_lsd.dat')\n",
    "read9.simread(3*5000, 1600)\n",
    "read9.data.shape"
   ]
  },
  {
   "cell_type": "code",
   "execution_count": 12,
   "id": "565876c8",
   "metadata": {},
   "outputs": [
    {
     "data": {
      "text/plain": [
       "(15000, 1600)"
      ]
     },
     "execution_count": 12,
     "metadata": {},
     "output_type": "execute_result"
    }
   ],
   "source": [
    "read10 = mnc.My_numpy(1, '../dat/expedat/expedata_before_stack/m_now/m_45001_50000_slt0.6_N3_lsd.dat')\n",
    "read10.simread(3*5000, 1600)\n",
    "read10.data.shape"
   ]
  },
  {
   "cell_type": "code",
   "execution_count": 14,
   "id": "4c7ddae7",
   "metadata": {},
   "outputs": [
    {
     "data": {
      "text/plain": [
       "(15000, 1600)"
      ]
     },
     "execution_count": 14,
     "metadata": {},
     "output_type": "execute_result"
    }
   ],
   "source": [
    "read11 = mnc.My_numpy(1, '../dat/expedat/expedata_before_stack/m_now/m_50001_55000_slt0.6_N3_lsd.dat')\n",
    "read11.simread(3*5000, 1600)\n",
    "read11.data.shape"
   ]
  },
  {
   "cell_type": "code",
   "execution_count": 15,
   "id": "bf04c507",
   "metadata": {},
   "outputs": [
    {
     "data": {
      "text/plain": [
       "(15000, 1600)"
      ]
     },
     "execution_count": 15,
     "metadata": {},
     "output_type": "execute_result"
    }
   ],
   "source": [
    "read12 = mnc.My_numpy(1, '../dat/expedat/expedata_before_stack/m_now/m_55001_60000_slt0.6_N3_lsd.dat')\n",
    "read12.simread(3*5000, 1600)\n",
    "read12.data.shape"
   ]
  },
  {
   "cell_type": "code",
   "execution_count": 16,
   "id": "f5ea1734",
   "metadata": {},
   "outputs": [
    {
     "data": {
      "text/plain": [
       "array([95, 36, 54, ..., 15,  0, 44])"
      ]
     },
     "execution_count": 16,
     "metadata": {},
     "output_type": "execute_result"
    }
   ],
   "source": [
    "read12.data[14999]"
   ]
  },
  {
   "cell_type": "code",
   "execution_count": 17,
   "id": "340caf62",
   "metadata": {},
   "outputs": [
    {
     "data": {
      "text/plain": [
       "(15000, 1600)"
      ]
     },
     "execution_count": 17,
     "metadata": {},
     "output_type": "execute_result"
    }
   ],
   "source": [
    "read13 = mnc.My_numpy(1, '../dat/expedat/expedata_before_stack/m_now/m_60001_65000_slt0.6_N3_lsd.dat')\n",
    "read13.simread(3*5000, 1600)\n",
    "read13.data.shape"
   ]
  },
  {
   "cell_type": "code",
   "execution_count": 18,
   "id": "ac2f195e",
   "metadata": {},
   "outputs": [
    {
     "data": {
      "text/plain": [
       "(15000, 1600)"
      ]
     },
     "execution_count": 18,
     "metadata": {},
     "output_type": "execute_result"
    }
   ],
   "source": [
    "read14 = mnc.My_numpy(1, '../dat/expedat/expedata_before_stack/m_now/m_65001_70000_slt0.6_N3_lsd.dat')\n",
    "read14.simread(3*5000, 1600)\n",
    "read14.data.shape"
   ]
  },
  {
   "cell_type": "code",
   "execution_count": 19,
   "id": "838593af",
   "metadata": {},
   "outputs": [
    {
     "data": {
      "text/plain": [
       "(210000, 1600)"
      ]
     },
     "execution_count": 19,
     "metadata": {},
     "output_type": "execute_result"
    }
   ],
   "source": [
    "read.data = np.vstack((read.data, read2.data, read3.data, read4.data, read5.data, \\\n",
    "                       read6.data, read7.data, read8.data, read9.data, read10.data, read11.data, read12.data, \\\n",
    "                       read13.data, read14.data))\n",
    "read.data.shape"
   ]
  },
  {
   "cell_type": "code",
   "execution_count": 20,
   "id": "e3244574",
   "metadata": {},
   "outputs": [],
   "source": [
    "wrb = mnc.My_numpy(1, '../dat/expedat/m_now/m_1_70000_slt0.6_N3_lsd.dat')\n",
    "wrb.writebin(read.data)"
   ]
  },
  {
   "cell_type": "code",
   "execution_count": 21,
   "id": "98f1dbbe",
   "metadata": {},
   "outputs": [
    {
     "data": {
      "text/plain": [
       "(70000, 1600)"
      ]
     },
     "execution_count": 21,
     "metadata": {},
     "output_type": "execute_result"
    }
   ],
   "source": [
    "meandata = read.data.reshape(70000,3,1600)\n",
    "meandata = np.mean(meandata, axis = 1)\n",
    "meandata.shape"
   ]
  },
  {
   "cell_type": "code",
   "execution_count": 22,
   "id": "2879386f",
   "metadata": {},
   "outputs": [],
   "source": [
    "wrb2 = mnc.My_numpy(1, '../dat/expedat/m_now/m_1_70000_slt0.6_N3_lsd_mean.dat')\n",
    "wrb2.writebin(meandata)"
   ]
  },
  {
   "cell_type": "code",
   "execution_count": null,
   "id": "9ef1d276",
   "metadata": {},
   "outputs": [],
   "source": []
  },
  {
   "cell_type": "code",
   "execution_count": null,
   "id": "86f5f65b",
   "metadata": {},
   "outputs": [],
   "source": []
  },
  {
   "cell_type": "code",
   "execution_count": 3,
   "id": "2d56351e",
   "metadata": {},
   "outputs": [
    {
     "data": {
      "text/plain": [
       "(15000, 1600)"
      ]
     },
     "execution_count": 3,
     "metadata": {},
     "output_type": "execute_result"
    }
   ],
   "source": [
    "read = mnc.My_numpy(1, '../dat/expedat/expedata_before_stack/fm_1_5000_slt0.6_N3_lsd.dat')\n",
    "read.simread(3*5000, 1600)\n",
    "read.data.shape"
   ]
  },
  {
   "cell_type": "code",
   "execution_count": 5,
   "id": "1e5bf787",
   "metadata": {},
   "outputs": [
    {
     "data": {
      "text/plain": [
       "(15000, 1600)"
      ]
     },
     "execution_count": 5,
     "metadata": {},
     "output_type": "execute_result"
    }
   ],
   "source": [
    "read2 = mnc.My_numpy(1, '../dat/expedat/expedata_before_stack/fm_5001_10000_slt0.6_N3_lsd.dat')\n",
    "read2.simread(3*5000, 1600)\n",
    "read2.data.shape"
   ]
  },
  {
   "cell_type": "code",
   "execution_count": 6,
   "id": "d67d38ec",
   "metadata": {},
   "outputs": [
    {
     "data": {
      "text/plain": [
       "(15000, 1600)"
      ]
     },
     "execution_count": 6,
     "metadata": {},
     "output_type": "execute_result"
    }
   ],
   "source": [
    "read3 = mnc.My_numpy(1, '../dat/expedat/expedata_before_stack/fm_10001_15000_slt0.6_N3_lsd.dat')\n",
    "read3.simread(3*5000, 1600)\n",
    "read3.data.shape"
   ]
  },
  {
   "cell_type": "code",
   "execution_count": 7,
   "id": "e174a2fa",
   "metadata": {},
   "outputs": [
    {
     "data": {
      "text/plain": [
       "(15000, 1600)"
      ]
     },
     "execution_count": 7,
     "metadata": {},
     "output_type": "execute_result"
    }
   ],
   "source": [
    "read4 = mnc.My_numpy(1, '../dat/expedat/expedata_before_stack/fm_15001_20000_slt0.6_N3_lsd.dat')\n",
    "read4.simread(3*5000, 1600)\n",
    "read4.data.shape"
   ]
  },
  {
   "cell_type": "code",
   "execution_count": 8,
   "id": "c4597e88",
   "metadata": {},
   "outputs": [
    {
     "data": {
      "text/plain": [
       "(60000, 1600)"
      ]
     },
     "execution_count": 8,
     "metadata": {},
     "output_type": "execute_result"
    }
   ],
   "source": [
    "read.data = np.vstack((read.data, read2.data, read3.data, read4.data))\n",
    "read.data.shape"
   ]
  },
  {
   "cell_type": "code",
   "execution_count": 9,
   "id": "21718ceb",
   "metadata": {},
   "outputs": [],
   "source": [
    "wrb = mnc.My_numpy(1, '../dat/expedat/fm/fm_1_20000_slt0.6_N3_lsd.dat')\n",
    "wrb.writebin(read.data)"
   ]
  },
  {
   "cell_type": "code",
   "execution_count": 10,
   "id": "c31a7be4",
   "metadata": {},
   "outputs": [],
   "source": [
    "meandata = read.data.reshape(20000,3,1600)\n",
    "meandata = np.mean(meandata, axis = 1)"
   ]
  },
  {
   "cell_type": "code",
   "execution_count": 11,
   "id": "faafe856",
   "metadata": {},
   "outputs": [
    {
     "data": {
      "text/plain": [
       "(20000, 1600)"
      ]
     },
     "execution_count": 11,
     "metadata": {},
     "output_type": "execute_result"
    }
   ],
   "source": [
    "meandata.shape"
   ]
  },
  {
   "cell_type": "code",
   "execution_count": 12,
   "id": "13be7047",
   "metadata": {},
   "outputs": [],
   "source": [
    "wrb2 = mnc.My_numpy(1, '../dat/expedat/fm/fm_1_20000_slt0.6_N3_lsd_mean.dat')\n",
    "wrb2.writebin(meandata)"
   ]
  },
  {
   "cell_type": "code",
   "execution_count": 13,
   "id": "f01cdf25",
   "metadata": {},
   "outputs": [
    {
     "data": {
      "text/plain": [
       "(9000, 1600)"
      ]
     },
     "execution_count": 13,
     "metadata": {},
     "output_type": "execute_result"
    }
   ],
   "source": [
    "read5 = mnc.My_numpy(1, '../dat/expedat/expedata_before_stack/fm_20001_23000_slt0.6_N3_lsd.dat')\n",
    "read5.simread(3*3000, 1600)\n",
    "read5.data.shape"
   ]
  },
  {
   "cell_type": "code",
   "execution_count": 14,
   "id": "5970cac9",
   "metadata": {},
   "outputs": [
    {
     "data": {
      "text/plain": [
       "(69000, 1600)"
      ]
     },
     "execution_count": 14,
     "metadata": {},
     "output_type": "execute_result"
    }
   ],
   "source": [
    "read.data = np.vstack((read.data, read5.data))\n",
    "read.data.shape"
   ]
  },
  {
   "cell_type": "code",
   "execution_count": 15,
   "id": "05fa062d",
   "metadata": {},
   "outputs": [],
   "source": [
    "wrb3 = mnc.My_numpy(1, '../dat/expedat/fm/fm_1_23000_slt0.6_N3_lsd.dat')\n",
    "wrb3.writebin(read.data)"
   ]
  },
  {
   "cell_type": "code",
   "execution_count": 16,
   "id": "a8465983",
   "metadata": {},
   "outputs": [
    {
     "data": {
      "text/plain": [
       "(23000, 1600)"
      ]
     },
     "execution_count": 16,
     "metadata": {},
     "output_type": "execute_result"
    }
   ],
   "source": [
    "meandata = read.data.reshape(23000,3,1600)\n",
    "meandata = np.mean(meandata, axis = 1)\n",
    "meandata.shape"
   ]
  },
  {
   "cell_type": "code",
   "execution_count": 17,
   "id": "cdc6a5d6",
   "metadata": {},
   "outputs": [],
   "source": [
    "wrb4 = mnc.My_numpy(1, '../dat/expedat/fm/fm_1_23000_slt0.6_N3_lsd_mean.dat')\n",
    "wrb4.writebin(meandata)"
   ]
  },
  {
   "cell_type": "code",
   "execution_count": null,
   "id": "51b4878c",
   "metadata": {},
   "outputs": [],
   "source": []
  },
  {
   "cell_type": "code",
   "execution_count": null,
   "id": "662fbb42",
   "metadata": {},
   "outputs": [],
   "source": []
  },
  {
   "cell_type": "code",
   "execution_count": null,
   "id": "d7dbb42d",
   "metadata": {},
   "outputs": [],
   "source": []
  },
  {
   "cell_type": "code",
   "execution_count": null,
   "id": "fe9407a6",
   "metadata": {},
   "outputs": [],
   "source": []
  },
  {
   "cell_type": "code",
   "execution_count": null,
   "id": "254f6702",
   "metadata": {},
   "outputs": [],
   "source": []
  },
  {
   "cell_type": "code",
   "execution_count": null,
   "id": "583ac61d",
   "metadata": {},
   "outputs": [],
   "source": []
  },
  {
   "cell_type": "code",
   "execution_count": null,
   "id": "33aa73d4",
   "metadata": {},
   "outputs": [],
   "source": []
  },
  {
   "cell_type": "code",
   "execution_count": 2,
   "id": "0171d7f1",
   "metadata": {},
   "outputs": [
    {
     "data": {
      "text/plain": [
       "((20000, 1600), 15)"
      ]
     },
     "execution_count": 2,
     "metadata": {},
     "output_type": "execute_result"
    }
   ],
   "source": [
    "read = mnc.My_numpy(1, '../dat/expedata/m_23001_25000_fps2_N10_lsd.dat')\n",
    "read.simread(20000, 1600)\n",
    "read.data.shape, read.data[19999][1599]"
   ]
  },
  {
   "cell_type": "code",
   "execution_count": 3,
   "id": "2094d845",
   "metadata": {},
   "outputs": [
    {
     "data": {
      "text/plain": [
       "((20000, 1600), 7)"
      ]
     },
     "execution_count": 3,
     "metadata": {},
     "output_type": "execute_result"
    }
   ],
   "source": [
    "read2 = mnc.My_numpy(1, '../dat/expedata/m_25001_27000_fps2_N10_lsd.dat')\n",
    "read2.simread(20000, 1600)\n",
    "read2.data.shape, read2.data[19999][1599]"
   ]
  },
  {
   "cell_type": "code",
   "execution_count": 4,
   "id": "3bafb1ed",
   "metadata": {},
   "outputs": [
    {
     "data": {
      "text/plain": [
       "((30000, 1600), 32)"
      ]
     },
     "execution_count": 4,
     "metadata": {},
     "output_type": "execute_result"
    }
   ],
   "source": [
    "read3 = mnc.My_numpy(1, '../dat/expedata/m_27001_30000_fps2_N10_lsd.dat')\n",
    "read3.simread(30000, 1600)\n",
    "read3.data.shape, read3.data[29999][1599]"
   ]
  },
  {
   "cell_type": "code",
   "execution_count": 5,
   "id": "77d4702d",
   "metadata": {},
   "outputs": [
    {
     "data": {
      "text/plain": [
       "((40000, 1600), 15, 7)"
      ]
     },
     "execution_count": 5,
     "metadata": {},
     "output_type": "execute_result"
    }
   ],
   "source": [
    "read.data = np.vstack((read.data, read2.data))\n",
    "read.data.shape, read.data[19999][1599], read.data[39999][1599]"
   ]
  },
  {
   "cell_type": "code",
   "execution_count": 6,
   "id": "b66e1e18",
   "metadata": {},
   "outputs": [
    {
     "data": {
      "text/plain": [
       "((70000, 1600), 15, 7, 32)"
      ]
     },
     "execution_count": 6,
     "metadata": {},
     "output_type": "execute_result"
    }
   ],
   "source": [
    "read.data = np.vstack((read.data, read3.data))\n",
    "read.data.shape, read.data[19999][1599], read.data[39999][1599], read.data[69999][1599]"
   ]
  },
  {
   "cell_type": "code",
   "execution_count": 7,
   "id": "8cdd6b57",
   "metadata": {},
   "outputs": [],
   "source": [
    "wrb = mnc.My_numpy(1, '../dat/expedata/m_23001_30000_fps2_N10_lsd.dat')\n",
    "wrb.writebin(read.data)"
   ]
  },
  {
   "cell_type": "code",
   "execution_count": 8,
   "id": "c391c513",
   "metadata": {},
   "outputs": [
    {
     "data": {
      "text/plain": [
       "(7000, 10, 1600)"
      ]
     },
     "execution_count": 8,
     "metadata": {},
     "output_type": "execute_result"
    }
   ],
   "source": [
    "mean = np.reshape(read.data, (7000, 10, 1600))\n",
    "mean.shape"
   ]
  },
  {
   "cell_type": "code",
   "execution_count": 9,
   "id": "1e2a0dac",
   "metadata": {},
   "outputs": [
    {
     "data": {
      "text/plain": [
       "(7000, 1600)"
      ]
     },
     "execution_count": 9,
     "metadata": {},
     "output_type": "execute_result"
    }
   ],
   "source": [
    "mean = np.mean(mean, axis = 1)\n",
    "mean.shape"
   ]
  },
  {
   "cell_type": "code",
   "execution_count": 10,
   "id": "e5af1f1f",
   "metadata": {},
   "outputs": [],
   "source": [
    "wrb2 = mnc.My_numpy(1, '../dat/expedata/m_23001_30000_fps2_N10_lsd_mean.dat')\n",
    "wrb2.writebin(mean)"
   ]
  },
  {
   "cell_type": "code",
   "execution_count": null,
   "id": "e23ea09d",
   "metadata": {},
   "outputs": [],
   "source": []
  }
 ],
 "metadata": {
  "kernelspec": {
   "display_name": "torch_gpu_6",
   "language": "python",
   "name": "torch_gpu_6"
  },
  "language_info": {
   "codemirror_mode": {
    "name": "ipython",
    "version": 3
   },
   "file_extension": ".py",
   "mimetype": "text/x-python",
   "name": "python",
   "nbconvert_exporter": "python",
   "pygments_lexer": "ipython3",
   "version": "3.8.0"
  }
 },
 "nbformat": 4,
 "nbformat_minor": 5
}
