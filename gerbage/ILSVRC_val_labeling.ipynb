{
 "cells": [
  {
   "cell_type": "code",
   "execution_count": 2,
   "id": "f04fa137",
   "metadata": {},
   "outputs": [],
   "source": [
    "import os\n",
    "import shutil\n",
    "import scipy.io\n",
    "val_labelpath = './ILSVRC2012_devkit_t12/data/ILSVRC2012_validation_ground_truth.txt'\n",
    "meta_path = './ILSVRC2012_devkit_t12/data/meta.mat'\n",
    "with open (val_labelpath,'r') as f:\n",
    "    id=f.read().split()\n",
    "meta = scipy.io.loadmat(meta_path, squeeze_me=True)\n",
    "id_to_wnid = {m[0]: m[1] for m in meta['synsets']}"
   ]
  },
  {
   "cell_type": "code",
   "execution_count": 21,
   "id": "76e06142",
   "metadata": {},
   "outputs": [],
   "source": [
    "for i in range(50000):\n",
    "    num=str(i+1)\n",
    "    WNID=id_to_wnid[int(id[i])]\n",
    "    beforepath='.\\\\ILSVRC2012_val\\\\ILSVRC2012_val_' + num.zfill(8) + '.JPEG'  #valimageパス\n",
    "    afterpath='.\\\\ILSVRC2012_val_wnid\\\\'+WNID+'\\\\'                            #valiamge移動先\n",
    "    if not os.path.exists(afterpath):\n",
    "        os.makedirs(afterpath)\n",
    "    shutil.move(beforepath, afterpath)"
   ]
  },
  {
   "cell_type": "code",
   "execution_count": null,
   "id": "cced2e42",
   "metadata": {},
   "outputs": [],
   "source": []
  }
 ],
 "metadata": {
  "kernelspec": {
   "display_name": "Python 3",
   "language": "python",
   "name": "python3"
  },
  "language_info": {
   "codemirror_mode": {
    "name": "ipython",
    "version": 3
   },
   "file_extension": ".py",
   "mimetype": "text/x-python",
   "name": "python",
   "nbconvert_exporter": "python",
   "pygments_lexer": "ipython3",
   "version": "3.8.8"
  }
 },
 "nbformat": 4,
 "nbformat_minor": 5
}
