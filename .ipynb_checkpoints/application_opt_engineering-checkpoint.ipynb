{
 "cells": [
  {
   "cell_type": "code",
   "execution_count": 1,
   "id": "ca143049",
   "metadata": {},
   "outputs": [],
   "source": [
    "import numpy as np"
   ]
  },
  {
   "cell_type": "code",
   "execution_count": 5,
   "id": "64b88515",
   "metadata": {},
   "outputs": [],
   "source": [
    "import math"
   ]
  },
  {
   "cell_type": "code",
   "execution_count": 2,
   "id": "6375bac8",
   "metadata": {},
   "outputs": [],
   "source": [
    "n1 = 1\n",
    "n2 = 1.3"
   ]
  },
  {
   "cell_type": "code",
   "execution_count": 3,
   "id": "c2219399",
   "metadata": {},
   "outputs": [],
   "source": [
    "fai1 = np.arange(0, np.pi/2+0.0001, 0.0001, dtype = float)"
   ]
  },
  {
   "cell_type": "code",
   "execution_count": 4,
   "id": "783e39e2",
   "metadata": {},
   "outputs": [
    {
     "data": {
      "text/plain": [
       "array([0.0000e+00, 1.0000e-04, 2.0000e-04, ..., 1.5706e+00, 1.5707e+00,\n",
       "       1.5708e+00])"
      ]
     },
     "execution_count": 4,
     "metadata": {},
     "output_type": "execute_result"
    }
   ],
   "source": [
    "fai1"
   ]
  },
  {
   "cell_type": "code",
   "execution_count": 5,
   "id": "27cb361d",
   "metadata": {},
   "outputs": [
    {
     "data": {
      "text/plain": [
       "(15709,)"
      ]
     },
     "execution_count": 5,
     "metadata": {},
     "output_type": "execute_result"
    }
   ],
   "source": [
    "fai1.shape"
   ]
  },
  {
   "cell_type": "code",
   "execution_count": 6,
   "id": "f10bd5ed",
   "metadata": {},
   "outputs": [],
   "source": [
    "rp = ((n2/n1)*np.cos(fai1)-np.sqrt(1-((n1/n2)**2)*((np.sin(fai1))**2)))/((n2/n1)*np.cos(fai1)+np.sqrt(1-((n1/n2)**2)*((np.sin(fai1))**2)))"
   ]
  },
  {
   "cell_type": "code",
   "execution_count": 7,
   "id": "8eab43fc",
   "metadata": {},
   "outputs": [],
   "source": [
    "Rp = np.abs(rp)**2"
   ]
  },
  {
   "cell_type": "code",
   "execution_count": 8,
   "id": "2631e24a",
   "metadata": {},
   "outputs": [],
   "source": [
    "import matplotlib.pyplot as plt"
   ]
  },
  {
   "cell_type": "code",
   "execution_count": 9,
   "id": "e4345c3f",
   "metadata": {},
   "outputs": [
    {
     "data": {
      "text/plain": [
       "array([0.00000000e+00, 5.72957795e-03, 1.14591559e-02, ...,\n",
       "       8.99887513e+01, 8.99944809e+01, 9.00002105e+01])"
      ]
     },
     "execution_count": 9,
     "metadata": {},
     "output_type": "execute_result"
    }
   ],
   "source": [
    "fai1*180/np.pi"
   ]
  },
  {
   "cell_type": "code",
   "execution_count": 10,
   "id": "09de26df",
   "metadata": {},
   "outputs": [
    {
     "data": {
      "image/png": "[encoded data removed]",
      "text/plain": [
       "<Figure size 432x288 with 1 Axes>"
      ]
     },
     "metadata": {
      "needs_background": "light"
     },
     "output_type": "display_data"
    }
   ],
   "source": [
    "plt.xticks([10, 20, 30, 40, 50, 60, 70, 80, 90])\n",
    "plt.plot(fai1*180/np.pi, Rp)\n",
    "# fig = plt.figure()\n",
    "# fig.savefig(\"../Rp.jpg\")\n",
    "plt.savefig(\"../Rp.jpg\")"
   ]
  },
  {
   "cell_type": "code",
   "execution_count": 11,
   "id": "4cf6a2ee",
   "metadata": {},
   "outputs": [
    {
     "data": {
      "image/png": "[encoded data removed]",
      "text/plain": [
       "<Figure size 432x288 with 1 Axes>"
      ]
     },
     "metadata": {
      "needs_background": "light"
     },
     "output_type": "display_data"
    }
   ],
   "source": [
    "plt.xticks([10, 20, 30, 40, 50, 60, 70, 80])\n",
    "plt.plot(fai1*180/np.pi, Rp)\n",
    "# fig = plt.figure()\n",
    "# fig.savefig(\"../Rp.jpg\")\n",
    "plt.savefig(\"../Rp_expand.jpg\")"
   ]
  },
  {
   "cell_type": "code",
   "execution_count": 12,
   "id": "9dae80e8",
   "metadata": {},
   "outputs": [
    {
     "data": {
      "text/plain": [
       "(15709,)"
      ]
     },
     "execution_count": 12,
     "metadata": {},
     "output_type": "execute_result"
    }
   ],
   "source": [
    "Rp.shape"
   ]
  },
  {
   "cell_type": "code",
   "execution_count": 14,
   "id": "1ab27d80",
   "metadata": {},
   "outputs": [],
   "source": [
    "axisx = fai1*180/np.pi"
   ]
  },
  {
   "cell_type": "code",
   "execution_count": 19,
   "id": "0af71ec3",
   "metadata": {},
   "outputs": [
    {
     "data": {
      "image/png": "[encoded data removed]",
      "text/plain": [
       "<Figure size 432x288 with 1 Axes>"
      ]
     },
     "metadata": {
      "needs_background": "light"
     },
     "output_type": "display_data"
    }
   ],
   "source": [
    "plt.xticks([20, 30, 40, 50, 60, 70, 80])\n",
    "plt.plot(axisx[int(axisx.shape[0]*2/9):int(axisx.shape[0]*6/9)], Rp[int(Rp.shape[0]*2/9):int(Rp.shape[0]*6/9)])\n",
    "# fig = plt.figure()\n",
    "# fig.savefig(\"../Rp.jpg\")\n",
    "plt.savefig(\"../Rp_expand.jpg\")"
   ]
  },
  {
   "cell_type": "code",
   "execution_count": null,
   "id": "925aa6be",
   "metadata": {},
   "outputs": [],
   "source": []
  }
 ],
 "metadata": {
  "kernelspec": {
   "display_name": "mytorch",
   "language": "python",
   "name": "mytorch"
  },
  "language_info": {
   "codemirror_mode": {
    "name": "ipython",
    "version": 3
   },
   "file_extension": ".py",
   "mimetype": "text/x-python",
   "name": "python",
   "nbconvert_exporter": "python",
   "pygments_lexer": "ipython3",
   "version": "3.8.8"
  }
 },
 "nbformat": 4,
 "nbformat_minor": 5
}
