{
 "cells": [
  {
   "cell_type": "code",
   "execution_count": 1,
   "id": "803dead6",
   "metadata": {},
   "outputs": [],
   "source": [
    "import torch\n",
    "import torch.nn as nn\n",
    "import torch.nn.functional as F\n",
    "from torch.autograd import Variable\n",
    "from torchinfo import summary\n",
    "import torch.optim as optim\n",
    "from torch.utils.data import DataLoader,Dataset\n",
    "import torch.utils.data as data\n",
    "from torchvision import transforms\n",
    "import torchvision\n",
    "import torchvision.utils as utils\n",
    "\n",
    "\n",
    "#カレントディレクトリがipynbの場所になってる\n",
    "#\n",
    "import sys,os\n",
    "sys.path.append(os.pardir)\n",
    "\n",
    "import py_func.Deep_learning_torch_func as DL\n",
    "import py_func.models_func as my_model\n",
    "import py_func.dat_rb_func as drb\n",
    "import py_func.my_numpy_class as mnc\n",
    "import py_func.my_torch_class as mtc\n",
    "import py_func.models_func as my_model\n",
    "import py_func.Deep_learning_torch_func as DL\n",
    "import py_func.dat_rb_func as drb\n",
    "\n",
    "from torchinfo import summary\n",
    "\n",
    "from torch.optim import lr_scheduler\n",
    "\n",
    "import numpy as np"
   ]
  },
  {
   "cell_type": "code",
   "execution_count": 2,
   "id": "225b3c75",
   "metadata": {},
   "outputs": [],
   "source": [
    "import torchvision.transforms as transforms\n",
    "import torchvision.datasets as dset\n"
   ]
  },
  {
   "cell_type": "code",
   "execution_count": 3,
   "id": "023ee7f8",
   "metadata": {},
   "outputs": [],
   "source": [
    "import py_func.gan.gan_model as ganmd\n",
    "import py_func.gan.gan_func as ganf"
   ]
  },
  {
   "cell_type": "code",
   "execution_count": null,
   "id": "b6f341a5",
   "metadata": {},
   "outputs": [],
   "source": [
    "##########----------------------------DCGAN------------------------------###############"
   ]
  },
  {
   "cell_type": "code",
   "execution_count": 46,
   "id": "eb9ba861",
   "metadata": {},
   "outputs": [],
   "source": [
    "chlist = [100, 512, 256, 128, 1]\n",
    "klist = [3, 3, 4, 4]\n",
    "strdlist = [1, 2, 2, 2]\n",
    "padlist = [0, 0, 1, 1]\n",
    "opadlist = [0, 0, 0, 0]\n",
    "\n",
    "gene = ganmd.Generator(chlist, klist, strdlist, padlist, opadlist)"
   ]
  },
  {
   "cell_type": "code",
   "execution_count": 47,
   "id": "d754c2a3",
   "metadata": {
    "scrolled": true
   },
   "outputs": [
    {
     "data": {
      "text/plain": [
       "Generator(\n",
       "  (Deconvs): Sequential(\n",
       "    (0): Convtp_Bn_ReLu(\n",
       "      (Deconv): Sequential(\n",
       "        (0): ConvTranspose2d(100, 512, kernel_size=(3, 3), stride=(1, 1))\n",
       "        (1): BatchNorm2d(512, eps=1e-05, momentum=0.1, affine=True, track_running_stats=True)\n",
       "        (2): ReLU()\n",
       "      )\n",
       "    )\n",
       "    (1): Convtp_Bn_ReLu(\n",
       "      (Deconv): Sequential(\n",
       "        (0): ConvTranspose2d(512, 256, kernel_size=(3, 3), stride=(2, 2))\n",
       "        (1): BatchNorm2d(256, eps=1e-05, momentum=0.1, affine=True, track_running_stats=True)\n",
       "        (2): ReLU()\n",
       "      )\n",
       "    )\n",
       "    (2): Convtp_Bn_ReLu(\n",
       "      (Deconv): Sequential(\n",
       "        (0): ConvTranspose2d(256, 128, kernel_size=(4, 4), stride=(2, 2), padding=(1, 1))\n",
       "        (1): BatchNorm2d(128, eps=1e-05, momentum=0.1, affine=True, track_running_stats=True)\n",
       "        (2): ReLU()\n",
       "      )\n",
       "    )\n",
       "    (3): Convtp_Tanh(\n",
       "      (Deconv): Sequential(\n",
       "        (0): ConvTranspose2d(128, 1, kernel_size=(4, 4), stride=(2, 2), padding=(1, 1))\n",
       "        (1): Tanh()\n",
       "      )\n",
       "    )\n",
       "  )\n",
       ")"
      ]
     },
     "execution_count": 47,
     "metadata": {},
     "output_type": "execute_result"
    }
   ],
   "source": [
    "gene"
   ]
  },
  {
   "cell_type": "code",
   "execution_count": 48,
   "id": "5d542f65",
   "metadata": {
    "scrolled": true
   },
   "outputs": [
    {
     "data": {
      "text/plain": [
       "===============================================================================================\n",
       "Layer (type:depth-idx)                        Output Shape              Param #\n",
       "===============================================================================================\n",
       "Generator                                     --                        --\n",
       "├─Sequential: 1-1                             [1, 1, 28, 28]            --\n",
       "│    └─Convtp_Bn_ReLu: 2-1                    [1, 512, 3, 3]            --\n",
       "│    │    └─Sequential: 3-1                   [1, 512, 3, 3]            --\n",
       "│    │    │    └─ConvTranspose2d: 4-1         [1, 512, 3, 3]            461,312\n",
       "│    │    │    └─BatchNorm2d: 4-2             [1, 512, 3, 3]            1,024\n",
       "│    │    │    └─ReLU: 4-3                    [1, 512, 3, 3]            --\n",
       "│    └─Convtp_Bn_ReLu: 2-2                    [1, 256, 7, 7]            --\n",
       "│    │    └─Sequential: 3-2                   [1, 256, 7, 7]            --\n",
       "│    │    │    └─ConvTranspose2d: 4-4         [1, 256, 7, 7]            1,179,904\n",
       "│    │    │    └─BatchNorm2d: 4-5             [1, 256, 7, 7]            512\n",
       "│    │    │    └─ReLU: 4-6                    [1, 256, 7, 7]            --\n",
       "│    └─Convtp_Bn_ReLu: 2-3                    [1, 128, 14, 14]          --\n",
       "│    │    └─Sequential: 3-3                   [1, 128, 14, 14]          --\n",
       "│    │    │    └─ConvTranspose2d: 4-7         [1, 128, 14, 14]          524,416\n",
       "│    │    │    └─BatchNorm2d: 4-8             [1, 128, 14, 14]          256\n",
       "│    │    │    └─ReLU: 4-9                    [1, 128, 14, 14]          --\n",
       "│    └─Convtp_Tanh: 2-4                       [1, 1, 28, 28]            --\n",
       "│    │    └─Sequential: 3-4                   [1, 1, 28, 28]            --\n",
       "│    │    │    └─ConvTranspose2d: 4-10        [1, 1, 28, 28]            2,049\n",
       "│    │    │    └─Tanh: 4-11                   [1, 1, 28, 28]            --\n",
       "===============================================================================================\n",
       "Total params: 2,169,473\n",
       "Trainable params: 2,169,473\n",
       "Non-trainable params: 0\n",
       "Total mult-adds (M): 166.36\n",
       "===============================================================================================\n",
       "Input size (MB): 0.00\n",
       "Forward/backward pass size (MB): 0.68\n",
       "Params size (MB): 8.68\n",
       "Estimated Total Size (MB): 9.36\n",
       "==============================================================================================="
      ]
     },
     "execution_count": 48,
     "metadata": {},
     "output_type": "execute_result"
    }
   ],
   "source": [
    "summary(model = gene, input_size = (1, 100, 1, 1), depth = 4)"
   ]
  },
  {
   "cell_type": "code",
   "execution_count": 49,
   "id": "4edd7fa8",
   "metadata": {},
   "outputs": [],
   "source": [
    "chlist = [1, 128, 256, 512, 1]\n",
    "klist = [4, 4, 3, 3]\n",
    "strdlist = [2, 2, 2, 1]\n",
    "padlist = [1, 1, 0, 0]\n",
    "ngsllist = [0.2, 0.2, 0.2, 0]\n",
    "\n",
    "disc = ganmd.Discriminator(chlist, klist, strdlist, padlist, ngsllist)"
   ]
  },
  {
   "cell_type": "code",
   "execution_count": 50,
   "id": "418cd0ba",
   "metadata": {
    "scrolled": true
   },
   "outputs": [
    {
     "data": {
      "text/plain": [
       "Discriminator(\n",
       "  (Convs): Sequential(\n",
       "    (0): Conv_LeakyReLU(\n",
       "      (CNN): Sequential(\n",
       "        (0): Conv2d(1, 128, kernel_size=(4, 4), stride=(2, 2), padding=(1, 1))\n",
       "        (1): LeakyReLU(negative_slope=0.2)\n",
       "      )\n",
       "    )\n",
       "    (1): Conv_Bn_LeakyReLU(\n",
       "      (CNN): Sequential(\n",
       "        (0): Conv2d(128, 256, kernel_size=(4, 4), stride=(2, 2), padding=(1, 1))\n",
       "        (1): BatchNorm2d(256, eps=1e-05, momentum=0.1, affine=True, track_running_stats=True)\n",
       "        (2): LeakyReLU(negative_slope=0.2)\n",
       "      )\n",
       "    )\n",
       "    (2): Conv_Bn_LeakyReLU(\n",
       "      (CNN): Sequential(\n",
       "        (0): Conv2d(256, 512, kernel_size=(3, 3), stride=(2, 2))\n",
       "        (1): BatchNorm2d(512, eps=1e-05, momentum=0.1, affine=True, track_running_stats=True)\n",
       "        (2): LeakyReLU(negative_slope=0.2)\n",
       "      )\n",
       "    )\n",
       "    (3): Conv_Sigmoid(\n",
       "      (CNN): Sequential(\n",
       "        (0): Conv2d(512, 1, kernel_size=(3, 3), stride=(1, 1))\n",
       "        (1): Sigmoid()\n",
       "      )\n",
       "    )\n",
       "  )\n",
       ")"
      ]
     },
     "execution_count": 50,
     "metadata": {},
     "output_type": "execute_result"
    }
   ],
   "source": [
    "disc"
   ]
  },
  {
   "cell_type": "code",
   "execution_count": 51,
   "id": "f052a501",
   "metadata": {
    "scrolled": true
   },
   "outputs": [
    {
     "data": {
      "text/plain": [
       "==========================================================================================\n",
       "Layer (type:depth-idx)                   Output Shape              Param #\n",
       "==========================================================================================\n",
       "Discriminator                            --                        --\n",
       "├─Sequential: 1-1                        [1, 1, 1, 1]              --\n",
       "│    └─Conv_LeakyReLU: 2-1               [1, 128, 14, 14]          --\n",
       "│    │    └─Sequential: 3-1              [1, 128, 14, 14]          --\n",
       "│    │    │    └─Conv2d: 4-1             [1, 128, 14, 14]          2,176\n",
       "│    │    │    └─LeakyReLU: 4-2          [1, 128, 14, 14]          --\n",
       "│    └─Conv_Bn_LeakyReLU: 2-2            [1, 256, 7, 7]            --\n",
       "│    │    └─Sequential: 3-2              [1, 256, 7, 7]            --\n",
       "│    │    │    └─Conv2d: 4-3             [1, 256, 7, 7]            524,544\n",
       "│    │    │    └─BatchNorm2d: 4-4        [1, 256, 7, 7]            512\n",
       "│    │    │    └─LeakyReLU: 4-5          [1, 256, 7, 7]            --\n",
       "│    └─Conv_Bn_LeakyReLU: 2-3            [1, 512, 3, 3]            --\n",
       "│    │    └─Sequential: 3-3              [1, 512, 3, 3]            --\n",
       "│    │    │    └─Conv2d: 4-6             [1, 512, 3, 3]            1,180,160\n",
       "│    │    │    └─BatchNorm2d: 4-7        [1, 512, 3, 3]            1,024\n",
       "│    │    │    └─LeakyReLU: 4-8          [1, 512, 3, 3]            --\n",
       "│    └─Conv_Sigmoid: 2-4                 [1, 1, 1, 1]              --\n",
       "│    │    └─Sequential: 3-4              [1, 1, 1, 1]              --\n",
       "│    │    │    └─Conv2d: 4-9             [1, 1, 1, 1]              4,609\n",
       "│    │    │    └─Sigmoid: 4-10           [1, 1, 1, 1]              --\n",
       "==========================================================================================\n",
       "Total params: 1,713,025\n",
       "Trainable params: 1,713,025\n",
       "Non-trainable params: 0\n",
       "Total mult-adds (M): 36.76\n",
       "==========================================================================================\n",
       "Input size (MB): 0.00\n",
       "Forward/backward pass size (MB): 0.48\n",
       "Params size (MB): 6.85\n",
       "Estimated Total Size (MB): 7.33\n",
       "=========================================================================================="
      ]
     },
     "execution_count": 51,
     "metadata": {},
     "output_type": "execute_result"
    }
   ],
   "source": [
    "summary(model = disc, input_size = (1, 1, 28, 28), depth = 4)"
   ]
  },
  {
   "cell_type": "code",
   "execution_count": null,
   "id": "0a5d66f3",
   "metadata": {},
   "outputs": [],
   "source": []
  },
  {
   "cell_type": "code",
   "execution_count": 4,
   "id": "bac88b33",
   "metadata": {
    "scrolled": true
   },
   "outputs": [],
   "source": [
    "dataset = dset.MNIST(root='./mnist_root', download=True, train=True,\n",
    "                      transform=transforms.Compose([\n",
    "                          transforms.ToTensor(),\n",
    "                          transforms.Normalize((0.5,), (0.5,)) ])) "
   ]
  },
  {
   "cell_type": "code",
   "execution_count": 11,
   "id": "1791121d",
   "metadata": {},
   "outputs": [],
   "source": [
    "batch_size = 256\n",
    "workers = 2\n",
    "\n",
    "#num_workersは、ミニバッチを返す時の並列実行数、高速化のため\n",
    "#最大でCPUの論理コア数\n",
    "dl = DataLoader(dataset, batch_size = batch_size, shuffle=True, num_workers=int(workers))\n",
    "\n",
    "\n",
    "criterion = nn.BCELoss()\n",
    "nz = 100\n",
    "device = torch.device('cuda:0' if torch.cuda.is_available() else 'cpu')\n",
    "\n",
    "fixed_noise = torch.randn(batch_size, nz, 1, 1, device=device)\n",
    "\n",
    "\n",
    "# オプティマイザ−のセットアップ\n",
    "lr = 0.0002\n",
    "beta1 = 0.5\n",
    "optimizerD = optim.Adam(disc.parameters(), lr=lr, betas=(beta1, 0.999), weight_decay=1e-5)  # 識別器D用\n",
    "optimizerG = optim.Adam(gene.parameters(), lr=lr, betas=(beta1, 0.999), weight_decay=1e-5)  # 生成器G用"
   ]
  },
  {
   "cell_type": "code",
   "execution_count": 17,
   "id": "f71bcb39",
   "metadata": {},
   "outputs": [
    {
     "data": {
      "text/plain": [
       "<generator object Module.children at 0x000002088B5BBF20>"
      ]
     },
     "execution_count": 17,
     "metadata": {},
     "output_type": "execute_result"
    }
   ],
   "source": [
    "gene.children()"
   ]
  },
  {
   "cell_type": "code",
   "execution_count": 18,
   "id": "16deae31",
   "metadata": {},
   "outputs": [],
   "source": [
    "children = gene.children()"
   ]
  },
  {
   "cell_type": "code",
   "execution_count": 20,
   "id": "7241f708",
   "metadata": {},
   "outputs": [
    {
     "name": "stdout",
     "output_type": "stream",
     "text": [
      "<generator object Module.children at 0x00000208934DD120>\n"
     ]
    }
   ],
   "source": [
    "print(children)"
   ]
  },
  {
   "cell_type": "code",
   "execution_count": 23,
   "id": "df5789f6",
   "metadata": {},
   "outputs": [
    {
     "data": {
      "text/plain": [
       "ConvTranspose2d(100, 512, kernel_size=(3, 3), stride=(1, 1))"
      ]
     },
     "execution_count": 23,
     "metadata": {},
     "output_type": "execute_result"
    }
   ],
   "source": [
    "gene.Deconvs[0].Deconv[0]"
   ]
  },
  {
   "cell_type": "code",
   "execution_count": 15,
   "id": "95b57e81",
   "metadata": {},
   "outputs": [],
   "source": []
  },
  {
   "cell_type": "code",
   "execution_count": 15,
   "id": "e0a79b1b",
   "metadata": {
    "scrolled": true
   },
   "outputs": [
    {
     "name": "stdout",
     "output_type": "stream",
     "text": [
      "[1/30][1/235] Loss_D: 1.355 Loss_G: 1.388 D(x): 0.532 D(G(z)): 0.500/0.260\n",
      "[1/30][65/235] Loss_D: 0.004 Loss_G: 6.837 D(x): 0.998 D(G(z)): 0.002/0.001\n",
      "[1/30][129/235] Loss_D: 0.003 Loss_G: 7.296 D(x): 0.999 D(G(z)): 0.002/0.001\n",
      "[1/30][193/235] Loss_D: 0.763 Loss_G: 3.102 D(x): 0.534 D(G(z)): 0.044/0.052\n",
      "[2/30][1/235] Loss_D: 0.490 Loss_G: 3.035 D(x): 0.751 D(G(z)): 0.129/0.071\n",
      "[2/30][65/235] Loss_D: 0.733 Loss_G: 2.387 D(x): 0.573 D(G(z)): 0.078/0.118\n",
      "[2/30][129/235] Loss_D: 1.642 Loss_G: 0.536 D(x): 0.252 D(G(z)): 0.042/0.615\n",
      "[2/30][193/235] Loss_D: 0.846 Loss_G: 1.422 D(x): 0.685 D(G(z)): 0.345/0.264\n",
      "[3/30][1/235] Loss_D: 0.820 Loss_G: 1.317 D(x): 0.654 D(G(z)): 0.296/0.296\n",
      "[3/30][65/235] Loss_D: 0.837 Loss_G: 1.205 D(x): 0.595 D(G(z)): 0.241/0.325\n",
      "[3/30][129/235] Loss_D: 1.263 Loss_G: 0.610 D(x): 0.354 D(G(z)): 0.127/0.565\n",
      "[3/30][193/235] Loss_D: 0.776 Loss_G: 0.697 D(x): 0.579 D(G(z)): 0.166/0.519\n",
      "[4/30][1/235] Loss_D: 0.983 Loss_G: 1.930 D(x): 0.834 D(G(z)): 0.523/0.164\n",
      "[4/30][65/235] Loss_D: 0.966 Loss_G: 1.373 D(x): 0.645 D(G(z)): 0.376/0.275\n",
      "[4/30][129/235] Loss_D: 0.832 Loss_G: 1.685 D(x): 0.727 D(G(z)): 0.370/0.209\n",
      "[4/30][193/235] Loss_D: 0.897 Loss_G: 1.065 D(x): 0.581 D(G(z)): 0.258/0.370\n",
      "[5/30][1/235] Loss_D: 0.671 Loss_G: 1.597 D(x): 0.674 D(G(z)): 0.212/0.231\n",
      "[5/30][65/235] Loss_D: 0.851 Loss_G: 1.188 D(x): 0.615 D(G(z)): 0.270/0.334\n",
      "[5/30][129/235] Loss_D: 0.613 Loss_G: 1.520 D(x): 0.719 D(G(z)): 0.216/0.257\n",
      "[5/30][193/235] Loss_D: 0.783 Loss_G: 1.608 D(x): 0.661 D(G(z)): 0.264/0.234\n",
      "[6/30][1/235] Loss_D: 0.802 Loss_G: 1.195 D(x): 0.566 D(G(z)): 0.139/0.345\n",
      "[6/30][65/235] Loss_D: 0.671 Loss_G: 1.154 D(x): 0.638 D(G(z)): 0.151/0.363\n",
      "[6/30][129/235] Loss_D: 0.774 Loss_G: 1.982 D(x): 0.820 D(G(z)): 0.404/0.166\n",
      "[6/30][193/235] Loss_D: 1.111 Loss_G: 0.290 D(x): 0.415 D(G(z)): 0.102/0.764\n",
      "[7/30][1/235] Loss_D: 0.784 Loss_G: 1.188 D(x): 0.609 D(G(z)): 0.193/0.342\n",
      "[7/30][65/235] Loss_D: 0.660 Loss_G: 1.576 D(x): 0.725 D(G(z)): 0.250/0.248\n",
      "[7/30][129/235] Loss_D: 0.792 Loss_G: 2.408 D(x): 0.836 D(G(z)): 0.411/0.123\n",
      "[7/30][193/235] Loss_D: 1.135 Loss_G: 0.790 D(x): 0.410 D(G(z)): 0.110/0.505\n",
      "[8/30][1/235] Loss_D: 0.701 Loss_G: 1.457 D(x): 0.674 D(G(z)): 0.219/0.273\n",
      "[8/30][65/235] Loss_D: 0.663 Loss_G: 1.393 D(x): 0.672 D(G(z)): 0.194/0.290\n",
      "[8/30][129/235] Loss_D: 0.639 Loss_G: 1.904 D(x): 0.745 D(G(z)): 0.251/0.187\n",
      "[8/30][193/235] Loss_D: 0.791 Loss_G: 0.799 D(x): 0.582 D(G(z)): 0.156/0.503\n",
      "[9/30][1/235] Loss_D: 0.560 Loss_G: 1.341 D(x): 0.691 D(G(z)): 0.139/0.306\n",
      "[9/30][65/235] Loss_D: 0.635 Loss_G: 2.326 D(x): 0.769 D(G(z)): 0.272/0.129\n",
      "[9/30][129/235] Loss_D: 0.634 Loss_G: 1.609 D(x): 0.719 D(G(z)): 0.234/0.236\n",
      "[9/30][193/235] Loss_D: 0.735 Loss_G: 1.427 D(x): 0.633 D(G(z)): 0.178/0.280\n",
      "[10/30][1/235] Loss_D: 0.796 Loss_G: 1.096 D(x): 0.595 D(G(z)): 0.170/0.390\n",
      "[10/30][65/235] Loss_D: 0.754 Loss_G: 1.286 D(x): 0.628 D(G(z)): 0.180/0.317\n",
      "[10/30][129/235] Loss_D: 0.585 Loss_G: 2.071 D(x): 0.836 D(G(z)): 0.301/0.158\n",
      "[10/30][193/235] Loss_D: 0.753 Loss_G: 3.429 D(x): 0.904 D(G(z)): 0.440/0.044\n",
      "[11/30][1/235] Loss_D: 0.967 Loss_G: 2.849 D(x): 0.856 D(G(z)): 0.491/0.093\n",
      "[11/30][65/235] Loss_D: 0.812 Loss_G: 2.563 D(x): 0.868 D(G(z)): 0.440/0.104\n",
      "[11/30][129/235] Loss_D: 0.631 Loss_G: 1.495 D(x): 0.750 D(G(z)): 0.255/0.267\n",
      "[11/30][193/235] Loss_D: 0.687 Loss_G: 1.049 D(x): 0.618 D(G(z)): 0.130/0.411\n",
      "[12/30][1/235] Loss_D: 1.061 Loss_G: 3.244 D(x): 0.920 D(G(z)): 0.573/0.055\n",
      "[12/30][65/235] Loss_D: 0.964 Loss_G: 3.017 D(x): 0.928 D(G(z)): 0.524/0.070\n",
      "[12/30][129/235] Loss_D: 1.048 Loss_G: 0.966 D(x): 0.417 D(G(z)): 0.056/0.445\n",
      "[12/30][193/235] Loss_D: 0.872 Loss_G: 1.867 D(x): 0.732 D(G(z)): 0.374/0.190\n",
      "[13/30][1/235] Loss_D: 0.649 Loss_G: 1.195 D(x): 0.670 D(G(z)): 0.176/0.356\n",
      "[13/30][65/235] Loss_D: 0.550 Loss_G: 1.842 D(x): 0.737 D(G(z)): 0.187/0.199\n",
      "[13/30][129/235] Loss_D: 0.828 Loss_G: 2.413 D(x): 0.868 D(G(z)): 0.436/0.117\n",
      "[13/30][193/235] Loss_D: 1.035 Loss_G: 3.253 D(x): 0.920 D(G(z)): 0.541/0.059\n",
      "[14/30][1/235] Loss_D: 1.044 Loss_G: 2.845 D(x): 0.902 D(G(z)): 0.551/0.081\n",
      "[14/30][65/235] Loss_D: 0.716 Loss_G: 1.775 D(x): 0.720 D(G(z)): 0.270/0.215\n",
      "[14/30][129/235] Loss_D: 0.747 Loss_G: 1.448 D(x): 0.632 D(G(z)): 0.194/0.283\n",
      "[14/30][193/235] Loss_D: 0.745 Loss_G: 1.453 D(x): 0.604 D(G(z)): 0.153/0.280\n",
      "[15/30][1/235] Loss_D: 0.702 Loss_G: 1.148 D(x): 0.625 D(G(z)): 0.148/0.383\n",
      "[15/30][65/235] Loss_D: 1.197 Loss_G: 1.350 D(x): 0.463 D(G(z)): 0.206/0.332\n",
      "[15/30][129/235] Loss_D: 0.663 Loss_G: 1.666 D(x): 0.658 D(G(z)): 0.171/0.235\n",
      "[15/30][193/235] Loss_D: 0.751 Loss_G: 0.963 D(x): 0.600 D(G(z)): 0.132/0.439\n",
      "[16/30][1/235] Loss_D: 0.517 Loss_G: 2.542 D(x): 0.812 D(G(z)): 0.237/0.106\n",
      "[16/30][65/235] Loss_D: 0.674 Loss_G: 1.384 D(x): 0.591 D(G(z)): 0.084/0.308\n",
      "[16/30][129/235] Loss_D: 2.177 Loss_G: 0.082 D(x): 0.178 D(G(z)): 0.027/0.926\n",
      "[16/30][193/235] Loss_D: 0.710 Loss_G: 1.876 D(x): 0.734 D(G(z)): 0.285/0.210\n",
      "[17/30][1/235] Loss_D: 0.525 Loss_G: 2.480 D(x): 0.874 D(G(z)): 0.286/0.117\n",
      "[17/30][65/235] Loss_D: 0.695 Loss_G: 2.571 D(x): 0.869 D(G(z)): 0.383/0.104\n",
      "[17/30][129/235] Loss_D: 0.604 Loss_G: 1.765 D(x): 0.751 D(G(z)): 0.234/0.219\n",
      "[17/30][193/235] Loss_D: 0.766 Loss_G: 1.060 D(x): 0.582 D(G(z)): 0.141/0.399\n",
      "[18/30][1/235] Loss_D: 0.637 Loss_G: 2.287 D(x): 0.739 D(G(z)): 0.232/0.143\n",
      "[18/30][65/235] Loss_D: 1.160 Loss_G: 3.661 D(x): 0.939 D(G(z)): 0.601/0.038\n",
      "[18/30][129/235] Loss_D: 0.514 Loss_G: 1.599 D(x): 0.758 D(G(z)): 0.175/0.259\n",
      "[18/30][193/235] Loss_D: 1.575 Loss_G: 0.401 D(x): 0.272 D(G(z)): 0.046/0.718\n",
      "[19/30][1/235] Loss_D: 0.557 Loss_G: 2.061 D(x): 0.790 D(G(z)): 0.226/0.170\n",
      "[19/30][65/235] Loss_D: 0.671 Loss_G: 2.780 D(x): 0.860 D(G(z)): 0.370/0.083\n",
      "[19/30][129/235] Loss_D: 0.560 Loss_G: 1.671 D(x): 0.755 D(G(z)): 0.206/0.239\n",
      "[19/30][193/235] Loss_D: 0.618 Loss_G: 1.585 D(x): 0.727 D(G(z)): 0.214/0.260\n",
      "[20/30][1/235] Loss_D: 0.778 Loss_G: 1.282 D(x): 0.588 D(G(z)): 0.108/0.348\n",
      "[20/30][65/235] Loss_D: 0.616 Loss_G: 1.608 D(x): 0.684 D(G(z)): 0.166/0.251\n",
      "[20/30][129/235] Loss_D: 0.582 Loss_G: 2.723 D(x): 0.850 D(G(z)): 0.296/0.095\n",
      "[20/30][193/235] Loss_D: 0.455 Loss_G: 2.314 D(x): 0.811 D(G(z)): 0.188/0.136\n",
      "[21/30][1/235] Loss_D: 0.843 Loss_G: 1.324 D(x): 0.558 D(G(z)): 0.136/0.334\n",
      "[21/30][65/235] Loss_D: 0.621 Loss_G: 1.670 D(x): 0.722 D(G(z)): 0.212/0.246\n",
      "[21/30][129/235] Loss_D: 0.523 Loss_G: 1.916 D(x): 0.810 D(G(z)): 0.240/0.187\n",
      "[21/30][193/235] Loss_D: 0.678 Loss_G: 2.514 D(x): 0.838 D(G(z)): 0.343/0.106\n",
      "[22/30][1/235] Loss_D: 1.167 Loss_G: 1.599 D(x): 0.468 D(G(z)): 0.156/0.277\n",
      "[22/30][65/235] Loss_D: 0.558 Loss_G: 1.596 D(x): 0.692 D(G(z)): 0.126/0.253\n",
      "[22/30][129/235] Loss_D: 0.534 Loss_G: 2.497 D(x): 0.791 D(G(z)): 0.223/0.114\n",
      "[22/30][193/235] Loss_D: 0.933 Loss_G: 3.735 D(x): 0.851 D(G(z)): 0.466/0.038\n",
      "[23/30][1/235] Loss_D: 0.415 Loss_G: 2.504 D(x): 0.804 D(G(z)): 0.153/0.119\n",
      "[23/30][65/235] Loss_D: 0.653 Loss_G: 1.237 D(x): 0.620 D(G(z)): 0.106/0.349\n",
      "[23/30][129/235] Loss_D: 0.591 Loss_G: 2.647 D(x): 0.862 D(G(z)): 0.317/0.099\n",
      "[23/30][193/235] Loss_D: 0.529 Loss_G: 1.627 D(x): 0.714 D(G(z)): 0.133/0.257\n",
      "[24/30][1/235] Loss_D: 0.560 Loss_G: 1.815 D(x): 0.740 D(G(z)): 0.167/0.224\n",
      "[24/30][65/235] Loss_D: 0.555 Loss_G: 1.461 D(x): 0.697 D(G(z)): 0.129/0.294\n",
      "[24/30][129/235] Loss_D: 0.504 Loss_G: 2.168 D(x): 0.810 D(G(z)): 0.216/0.156\n",
      "[24/30][193/235] Loss_D: 0.425 Loss_G: 2.151 D(x): 0.773 D(G(z)): 0.126/0.153\n",
      "[25/30][1/235] Loss_D: 0.724 Loss_G: 2.782 D(x): 0.916 D(G(z)): 0.413/0.100\n",
      "[25/30][65/235] Loss_D: 0.563 Loss_G: 1.909 D(x): 0.756 D(G(z)): 0.211/0.199\n",
      "[25/30][129/235] Loss_D: 0.514 Loss_G: 1.691 D(x): 0.760 D(G(z)): 0.174/0.229\n",
      "[25/30][193/235] Loss_D: 0.457 Loss_G: 2.580 D(x): 0.851 D(G(z)): 0.222/0.106\n",
      "[26/30][1/235] Loss_D: 0.618 Loss_G: 2.938 D(x): 0.901 D(G(z)): 0.348/0.074\n",
      "[26/30][65/235] Loss_D: 0.400 Loss_G: 2.449 D(x): 0.834 D(G(z)): 0.168/0.124\n",
      "[26/30][129/235] Loss_D: 0.530 Loss_G: 2.080 D(x): 0.699 D(G(z)): 0.121/0.175\n",
      "[26/30][193/235] Loss_D: 0.497 Loss_G: 1.483 D(x): 0.701 D(G(z)): 0.096/0.293\n",
      "[27/30][1/235] Loss_D: 0.637 Loss_G: 1.536 D(x): 0.689 D(G(z)): 0.175/0.272\n",
      "[27/30][65/235] Loss_D: 0.484 Loss_G: 2.587 D(x): 0.773 D(G(z)): 0.159/0.114\n",
      "[27/30][129/235] Loss_D: 0.637 Loss_G: 1.632 D(x): 0.687 D(G(z)): 0.176/0.237\n"
     ]
    },
    {
     "name": "stdout",
     "output_type": "stream",
     "text": [
      "[27/30][193/235] Loss_D: 0.504 Loss_G: 2.247 D(x): 0.772 D(G(z)): 0.176/0.145\n",
      "[28/30][1/235] Loss_D: 0.448 Loss_G: 3.165 D(x): 0.859 D(G(z)): 0.222/0.064\n",
      "[28/30][65/235] Loss_D: 0.706 Loss_G: 0.817 D(x): 0.571 D(G(z)): 0.062/0.503\n",
      "[28/30][129/235] Loss_D: 1.099 Loss_G: 3.560 D(x): 0.898 D(G(z)): 0.551/0.047\n",
      "[28/30][193/235] Loss_D: 0.517 Loss_G: 1.688 D(x): 0.749 D(G(z)): 0.159/0.263\n",
      "[29/30][1/235] Loss_D: 0.494 Loss_G: 1.820 D(x): 0.720 D(G(z)): 0.106/0.217\n",
      "[29/30][65/235] Loss_D: 0.876 Loss_G: 3.975 D(x): 0.967 D(G(z)): 0.504/0.037\n",
      "[29/30][129/235] Loss_D: 0.475 Loss_G: 1.403 D(x): 0.719 D(G(z)): 0.095/0.307\n",
      "[29/30][193/235] Loss_D: 0.780 Loss_G: 2.536 D(x): 0.779 D(G(z)): 0.352/0.117\n",
      "[30/30][1/235] Loss_D: 0.402 Loss_G: 2.265 D(x): 0.816 D(G(z)): 0.144/0.147\n",
      "[30/30][65/235] Loss_D: 0.533 Loss_G: 2.476 D(x): 0.904 D(G(z)): 0.308/0.124\n",
      "[30/30][129/235] Loss_D: 0.607 Loss_G: 1.980 D(x): 0.677 D(G(z)): 0.140/0.197\n",
      "[30/30][193/235] Loss_D: 0.625 Loss_G: 1.474 D(x): 0.604 D(G(z)): 0.051/0.291\n"
     ]
    }
   ],
   "source": [
    "epochs = 30\n",
    "criterion = nn.BCELoss()    # バイナリークロスエントロピー（Sigmoid関数無し）\n",
    "outf = '../GAN'\n",
    "dispinterval = 64\n",
    "testgen_interval = 5\n",
    "\n",
    "\n",
    "D_losses, G_losses, D_x_out, D_G_z1_out, D_G_z2_out = ganf.train_gan(epochs, dl, device, nz, disc, gene, criterion, \\\n",
    "                                                     optimizerG, optimizerD, \n",
    "                                                     dispinterval,\n",
    "                                                     testgen_interval, fixed_noise, outf)"
   ]
  },
  {
   "cell_type": "code",
   "execution_count": 45,
   "id": "3f03fcce",
   "metadata": {},
   "outputs": [],
   "source": []
  },
  {
   "cell_type": "code",
   "execution_count": 16,
   "id": "b048e5b0",
   "metadata": {
    "scrolled": true
   },
   "outputs": [
    {
     "data": {
      "image/png": "[encoded data removed]",
      "text/plain": [
       "<Figure size 864x576 with 2 Axes>"
      ]
     },
     "metadata": {
      "needs_background": "light"
     },
     "output_type": "display_data"
    }
   ],
   "source": [
    "ganf.display_GAN_curv(12, 8, 10, 10, D_losses, G_losses, D_x_out, D_G_z1_out, D_G_z2_out)"
   ]
  },
  {
   "cell_type": "code",
   "execution_count": null,
   "id": "335dd1b7",
   "metadata": {},
   "outputs": [],
   "source": []
  },
  {
   "cell_type": "code",
   "execution_count": 14,
   "id": "c924f57a",
   "metadata": {
    "scrolled": true
   },
   "outputs": [],
   "source": [
    "fmset = dset.FashionMNIST(root='./fashionmnist_root', download=True, train=True,\n",
    "                      transform=transforms.Compose([\n",
    "                          transforms.ToTensor(),\n",
    "                          transforms.Normalize((0.5,), (0.5,)) ])) "
   ]
  },
  {
   "cell_type": "code",
   "execution_count": 52,
   "id": "cb456f0f",
   "metadata": {},
   "outputs": [],
   "source": [
    "batch_size = 256\n",
    "workers = 2\n",
    "\n",
    "#num_workersは、ミニバッチを返す時の並列実行数、高速化のため\n",
    "#最大でCPUの論理コア数\n",
    "dl = DataLoader(fmset, batch_size = batch_size, shuffle=True, num_workers=int(workers))\n",
    "\n",
    "\n",
    "criterion = nn.BCELoss()\n",
    "nz = 100\n",
    "device = torch.device('cuda:0' if torch.cuda.is_available() else 'cpu')\n",
    "\n",
    "fixed_noise = torch.randn(batch_size, nz, 1, 1, device=device)\n",
    "\n",
    "\n",
    "# オプティマイザ−のセットアップ\n",
    "lr = 0.0002\n",
    "beta1 = 0.5\n",
    "optimizerD = optim.Adam(disc.parameters(), lr=lr, betas=(beta1, 0.999), weight_decay=1e-5)  # 識別器D用\n",
    "optimizerG = optim.Adam(gene.parameters(), lr=lr, betas=(beta1, 0.999), weight_decay=1e-5)  # 生成器G用"
   ]
  },
  {
   "cell_type": "code",
   "execution_count": 53,
   "id": "0cef5bf5",
   "metadata": {
    "scrolled": true
   },
   "outputs": [
    {
     "name": "stdout",
     "output_type": "stream",
     "text": [
      "[1/30][1/235] Loss_D: 1.441 Loss_G: 1.756 D(x): 0.489 D(G(z)): 0.494/0.181\n",
      "[1/30][65/235] Loss_D: 0.038 Loss_G: 5.983 D(x): 0.970 D(G(z)): 0.003/0.003\n",
      "[1/30][129/235] Loss_D: 0.351 Loss_G: 2.773 D(x): 0.894 D(G(z)): 0.199/0.067\n",
      "[1/30][193/235] Loss_D: 0.972 Loss_G: 1.741 D(x): 0.565 D(G(z)): 0.256/0.211\n",
      "[2/30][1/235] Loss_D: 0.663 Loss_G: 2.026 D(x): 0.682 D(G(z)): 0.197/0.151\n",
      "[2/30][65/235] Loss_D: 0.790 Loss_G: 3.093 D(x): 0.800 D(G(z)): 0.395/0.059\n",
      "[2/30][129/235] Loss_D: 0.783 Loss_G: 1.124 D(x): 0.598 D(G(z)): 0.132/0.367\n",
      "[2/30][193/235] Loss_D: 0.619 Loss_G: 1.776 D(x): 0.683 D(G(z)): 0.173/0.197\n",
      "[3/30][1/235] Loss_D: 0.748 Loss_G: 2.581 D(x): 0.752 D(G(z)): 0.329/0.094\n",
      "[3/30][65/235] Loss_D: 0.802 Loss_G: 1.821 D(x): 0.690 D(G(z)): 0.304/0.194\n",
      "[3/30][129/235] Loss_D: 0.817 Loss_G: 1.496 D(x): 0.594 D(G(z)): 0.199/0.261\n",
      "[3/30][193/235] Loss_D: 0.815 Loss_G: 2.318 D(x): 0.749 D(G(z)): 0.368/0.119\n",
      "[4/30][1/235] Loss_D: 0.791 Loss_G: 1.536 D(x): 0.637 D(G(z)): 0.246/0.245\n",
      "[4/30][65/235] Loss_D: 0.921 Loss_G: 2.153 D(x): 0.792 D(G(z)): 0.455/0.141\n",
      "[4/30][129/235] Loss_D: 0.888 Loss_G: 1.206 D(x): 0.579 D(G(z)): 0.202/0.339\n",
      "[4/30][193/235] Loss_D: 0.815 Loss_G: 1.601 D(x): 0.674 D(G(z)): 0.302/0.235\n",
      "[5/30][1/235] Loss_D: 0.831 Loss_G: 2.704 D(x): 0.825 D(G(z)): 0.437/0.084\n",
      "[5/30][65/235] Loss_D: 0.886 Loss_G: 1.299 D(x): 0.575 D(G(z)): 0.233/0.310\n",
      "[5/30][129/235] Loss_D: 0.840 Loss_G: 1.908 D(x): 0.747 D(G(z)): 0.385/0.179\n",
      "[5/30][193/235] Loss_D: 0.973 Loss_G: 1.168 D(x): 0.551 D(G(z)): 0.257/0.342\n",
      "[6/30][1/235] Loss_D: 0.898 Loss_G: 1.300 D(x): 0.610 D(G(z)): 0.289/0.302\n",
      "[6/30][65/235] Loss_D: 0.926 Loss_G: 1.634 D(x): 0.657 D(G(z)): 0.330/0.233\n",
      "[6/30][129/235] Loss_D: 0.847 Loss_G: 1.462 D(x): 0.604 D(G(z)): 0.234/0.266\n",
      "[6/30][193/235] Loss_D: 0.880 Loss_G: 1.361 D(x): 0.601 D(G(z)): 0.259/0.295\n",
      "[7/30][1/235] Loss_D: 1.324 Loss_G: 2.772 D(x): 0.872 D(G(z)): 0.637/0.086\n",
      "[7/30][65/235] Loss_D: 0.853 Loss_G: 1.601 D(x): 0.709 D(G(z)): 0.358/0.245\n",
      "[7/30][129/235] Loss_D: 0.775 Loss_G: 1.387 D(x): 0.626 D(G(z)): 0.210/0.292\n",
      "[7/30][193/235] Loss_D: 1.090 Loss_G: 1.507 D(x): 0.501 D(G(z)): 0.187/0.265\n",
      "[8/30][1/235] Loss_D: 0.912 Loss_G: 1.712 D(x): 0.718 D(G(z)): 0.395/0.214\n",
      "[8/30][65/235] Loss_D: 0.605 Loss_G: 1.903 D(x): 0.707 D(G(z)): 0.198/0.179\n",
      "[8/30][129/235] Loss_D: 0.520 Loss_G: 2.258 D(x): 0.752 D(G(z)): 0.183/0.124\n",
      "[8/30][193/235] Loss_D: 0.778 Loss_G: 1.875 D(x): 0.667 D(G(z)): 0.257/0.191\n",
      "[9/30][1/235] Loss_D: 0.935 Loss_G: 1.045 D(x): 0.569 D(G(z)): 0.245/0.405\n",
      "[9/30][65/235] Loss_D: 0.804 Loss_G: 2.019 D(x): 0.758 D(G(z)): 0.365/0.164\n",
      "[9/30][129/235] Loss_D: 0.882 Loss_G: 1.728 D(x): 0.647 D(G(z)): 0.300/0.221\n",
      "[9/30][193/235] Loss_D: 0.844 Loss_G: 2.423 D(x): 0.810 D(G(z)): 0.421/0.120\n",
      "[10/30][1/235] Loss_D: 0.806 Loss_G: 1.717 D(x): 0.705 D(G(z)): 0.312/0.218\n",
      "[10/30][65/235] Loss_D: 0.907 Loss_G: 1.741 D(x): 0.697 D(G(z)): 0.373/0.217\n",
      "[10/30][129/235] Loss_D: 0.791 Loss_G: 1.372 D(x): 0.606 D(G(z)): 0.199/0.297\n",
      "[10/30][193/235] Loss_D: 0.763 Loss_G: 2.005 D(x): 0.710 D(G(z)): 0.304/0.157\n",
      "[11/30][1/235] Loss_D: 0.817 Loss_G: 2.279 D(x): 0.776 D(G(z)): 0.395/0.126\n",
      "[11/30][65/235] Loss_D: 0.769 Loss_G: 1.719 D(x): 0.652 D(G(z)): 0.230/0.218\n",
      "[11/30][129/235] Loss_D: 0.729 Loss_G: 1.670 D(x): 0.707 D(G(z)): 0.281/0.215\n",
      "[11/30][193/235] Loss_D: 0.883 Loss_G: 2.751 D(x): 0.789 D(G(z)): 0.434/0.083\n",
      "[12/30][1/235] Loss_D: 1.061 Loss_G: 1.211 D(x): 0.496 D(G(z)): 0.132/0.358\n",
      "[12/30][65/235] Loss_D: 0.774 Loss_G: 2.125 D(x): 0.766 D(G(z)): 0.365/0.145\n",
      "[12/30][129/235] Loss_D: 0.886 Loss_G: 1.440 D(x): 0.643 D(G(z)): 0.299/0.291\n",
      "[12/30][193/235] Loss_D: 0.828 Loss_G: 1.456 D(x): 0.602 D(G(z)): 0.220/0.279\n",
      "[13/30][1/235] Loss_D: 0.874 Loss_G: 1.816 D(x): 0.780 D(G(z)): 0.394/0.208\n",
      "[13/30][65/235] Loss_D: 0.794 Loss_G: 1.377 D(x): 0.628 D(G(z)): 0.224/0.296\n",
      "[13/30][129/235] Loss_D: 0.893 Loss_G: 2.575 D(x): 0.822 D(G(z)): 0.461/0.099\n",
      "[13/30][193/235] Loss_D: 0.747 Loss_G: 1.992 D(x): 0.702 D(G(z)): 0.284/0.173\n",
      "[14/30][1/235] Loss_D: 0.842 Loss_G: 1.173 D(x): 0.604 D(G(z)): 0.207/0.369\n",
      "[14/30][65/235] Loss_D: 0.726 Loss_G: 1.772 D(x): 0.710 D(G(z)): 0.266/0.227\n",
      "[14/30][129/235] Loss_D: 0.769 Loss_G: 2.077 D(x): 0.742 D(G(z)): 0.337/0.152\n",
      "[14/30][193/235] Loss_D: 0.837 Loss_G: 2.210 D(x): 0.747 D(G(z)): 0.357/0.169\n",
      "[15/30][1/235] Loss_D: 0.718 Loss_G: 1.549 D(x): 0.664 D(G(z)): 0.209/0.264\n",
      "[15/30][65/235] Loss_D: 0.846 Loss_G: 2.236 D(x): 0.818 D(G(z)): 0.429/0.134\n",
      "[15/30][129/235] Loss_D: 1.391 Loss_G: 1.073 D(x): 0.341 D(G(z)): 0.100/0.382\n",
      "[15/30][193/235] Loss_D: 0.721 Loss_G: 2.128 D(x): 0.809 D(G(z)): 0.355/0.164\n",
      "[16/30][1/235] Loss_D: 1.122 Loss_G: 3.568 D(x): 0.870 D(G(z)): 0.569/0.043\n",
      "[16/30][65/235] Loss_D: 0.637 Loss_G: 1.904 D(x): 0.755 D(G(z)): 0.259/0.199\n",
      "[16/30][129/235] Loss_D: 0.776 Loss_G: 1.969 D(x): 0.744 D(G(z)): 0.336/0.169\n",
      "[16/30][193/235] Loss_D: 0.779 Loss_G: 1.362 D(x): 0.638 D(G(z)): 0.228/0.311\n",
      "[17/30][1/235] Loss_D: 0.826 Loss_G: 1.328 D(x): 0.631 D(G(z)): 0.244/0.319\n",
      "[17/30][65/235] Loss_D: 0.851 Loss_G: 1.625 D(x): 0.712 D(G(z)): 0.333/0.246\n",
      "[17/30][129/235] Loss_D: 0.802 Loss_G: 1.800 D(x): 0.669 D(G(z)): 0.262/0.211\n",
      "[17/30][193/235] Loss_D: 0.867 Loss_G: 2.457 D(x): 0.771 D(G(z)): 0.401/0.117\n",
      "[18/30][1/235] Loss_D: 0.825 Loss_G: 2.623 D(x): 0.826 D(G(z)): 0.416/0.100\n",
      "[18/30][65/235] Loss_D: 0.905 Loss_G: 1.438 D(x): 0.569 D(G(z)): 0.174/0.330\n",
      "[18/30][129/235] Loss_D: 0.699 Loss_G: 2.158 D(x): 0.747 D(G(z)): 0.285/0.150\n",
      "[18/30][193/235] Loss_D: 0.793 Loss_G: 1.882 D(x): 0.693 D(G(z)): 0.271/0.209\n",
      "[19/30][1/235] Loss_D: 0.806 Loss_G: 1.904 D(x): 0.703 D(G(z)): 0.305/0.196\n",
      "[19/30][65/235] Loss_D: 0.714 Loss_G: 1.295 D(x): 0.619 D(G(z)): 0.163/0.327\n",
      "[19/30][129/235] Loss_D: 0.738 Loss_G: 1.932 D(x): 0.725 D(G(z)): 0.279/0.178\n",
      "[19/30][193/235] Loss_D: 0.752 Loss_G: 2.417 D(x): 0.802 D(G(z)): 0.370/0.111\n",
      "[20/30][1/235] Loss_D: 0.688 Loss_G: 1.807 D(x): 0.728 D(G(z)): 0.262/0.229\n",
      "[20/30][65/235] Loss_D: 0.744 Loss_G: 2.317 D(x): 0.762 D(G(z)): 0.316/0.133\n",
      "[20/30][129/235] Loss_D: 0.707 Loss_G: 1.636 D(x): 0.683 D(G(z)): 0.236/0.244\n",
      "[20/30][193/235] Loss_D: 0.779 Loss_G: 1.223 D(x): 0.616 D(G(z)): 0.185/0.346\n",
      "[21/30][1/235] Loss_D: 0.812 Loss_G: 1.786 D(x): 0.667 D(G(z)): 0.245/0.248\n",
      "[21/30][65/235] Loss_D: 0.884 Loss_G: 1.662 D(x): 0.652 D(G(z)): 0.276/0.259\n",
      "[21/30][129/235] Loss_D: 0.744 Loss_G: 0.834 D(x): 0.570 D(G(z)): 0.099/0.481\n",
      "[21/30][193/235] Loss_D: 0.720 Loss_G: 2.661 D(x): 0.836 D(G(z)): 0.374/0.099\n",
      "[22/30][1/235] Loss_D: 0.689 Loss_G: 1.551 D(x): 0.660 D(G(z)): 0.184/0.266\n",
      "[22/30][65/235] Loss_D: 0.720 Loss_G: 2.411 D(x): 0.834 D(G(z)): 0.366/0.118\n",
      "[22/30][129/235] Loss_D: 0.689 Loss_G: 2.112 D(x): 0.740 D(G(z)): 0.280/0.164\n",
      "[22/30][193/235] Loss_D: 0.780 Loss_G: 1.571 D(x): 0.629 D(G(z)): 0.196/0.272\n",
      "[23/30][1/235] Loss_D: 0.672 Loss_G: 1.899 D(x): 0.738 D(G(z)): 0.259/0.188\n",
      "[23/30][65/235] Loss_D: 0.673 Loss_G: 2.030 D(x): 0.735 D(G(z)): 0.249/0.177\n",
      "[23/30][129/235] Loss_D: 0.591 Loss_G: 1.799 D(x): 0.729 D(G(z)): 0.207/0.202\n",
      "[23/30][193/235] Loss_D: 0.768 Loss_G: 1.690 D(x): 0.620 D(G(z)): 0.152/0.262\n",
      "[24/30][1/235] Loss_D: 0.803 Loss_G: 2.742 D(x): 0.843 D(G(z)): 0.415/0.101\n",
      "[24/30][65/235] Loss_D: 0.902 Loss_G: 1.161 D(x): 0.578 D(G(z)): 0.203/0.392\n",
      "[24/30][129/235] Loss_D: 0.686 Loss_G: 2.071 D(x): 0.726 D(G(z)): 0.251/0.165\n",
      "[24/30][193/235] Loss_D: 0.838 Loss_G: 1.195 D(x): 0.555 D(G(z)): 0.141/0.366\n",
      "[25/30][1/235] Loss_D: 0.817 Loss_G: 2.404 D(x): 0.872 D(G(z)): 0.423/0.130\n",
      "[25/30][65/235] Loss_D: 0.752 Loss_G: 2.620 D(x): 0.869 D(G(z)): 0.402/0.099\n",
      "[25/30][129/235] Loss_D: 0.728 Loss_G: 2.279 D(x): 0.780 D(G(z)): 0.323/0.153\n",
      "[25/30][193/235] Loss_D: 0.832 Loss_G: 1.944 D(x): 0.764 D(G(z)): 0.369/0.179\n",
      "[26/30][1/235] Loss_D: 0.773 Loss_G: 1.771 D(x): 0.654 D(G(z)): 0.209/0.228\n",
      "[26/30][65/235] Loss_D: 0.623 Loss_G: 2.284 D(x): 0.853 D(G(z)): 0.332/0.139\n",
      "[26/30][129/235] Loss_D: 0.857 Loss_G: 2.559 D(x): 0.769 D(G(z)): 0.363/0.141\n",
      "[26/30][193/235] Loss_D: 0.608 Loss_G: 2.473 D(x): 0.771 D(G(z)): 0.246/0.136\n",
      "[27/30][1/235] Loss_D: 0.671 Loss_G: 2.862 D(x): 0.838 D(G(z)): 0.343/0.082\n",
      "[27/30][65/235] Loss_D: 0.637 Loss_G: 2.139 D(x): 0.743 D(G(z)): 0.231/0.159\n",
      "[27/30][129/235] Loss_D: 0.705 Loss_G: 2.494 D(x): 0.828 D(G(z)): 0.360/0.108\n"
     ]
    },
    {
     "name": "stdout",
     "output_type": "stream",
     "text": [
      "[27/30][193/235] Loss_D: 0.624 Loss_G: 1.779 D(x): 0.730 D(G(z)): 0.222/0.219\n",
      "[28/30][1/235] Loss_D: 0.548 Loss_G: 2.837 D(x): 0.803 D(G(z)): 0.235/0.106\n",
      "[28/30][65/235] Loss_D: 0.706 Loss_G: 2.433 D(x): 0.817 D(G(z)): 0.341/0.118\n",
      "[28/30][129/235] Loss_D: 0.652 Loss_G: 2.633 D(x): 0.864 D(G(z)): 0.349/0.099\n",
      "[28/30][193/235] Loss_D: 1.500 Loss_G: 1.154 D(x): 0.305 D(G(z)): 0.030/0.460\n",
      "[29/30][1/235] Loss_D: 0.733 Loss_G: 2.082 D(x): 0.755 D(G(z)): 0.278/0.185\n",
      "[29/30][65/235] Loss_D: 0.639 Loss_G: 2.760 D(x): 0.832 D(G(z)): 0.322/0.085\n",
      "[29/30][129/235] Loss_D: 0.499 Loss_G: 1.910 D(x): 0.771 D(G(z)): 0.181/0.205\n",
      "[29/30][193/235] Loss_D: 0.680 Loss_G: 1.658 D(x): 0.716 D(G(z)): 0.231/0.237\n",
      "[30/30][1/235] Loss_D: 0.757 Loss_G: 1.828 D(x): 0.657 D(G(z)): 0.193/0.245\n",
      "[30/30][65/235] Loss_D: 0.915 Loss_G: 1.292 D(x): 0.509 D(G(z)): 0.086/0.366\n",
      "[30/30][129/235] Loss_D: 0.754 Loss_G: 2.675 D(x): 0.828 D(G(z)): 0.378/0.095\n",
      "[30/30][193/235] Loss_D: 0.559 Loss_G: 2.524 D(x): 0.786 D(G(z)): 0.236/0.114\n"
     ]
    }
   ],
   "source": [
    "epochs = 30\n",
    "criterion = nn.BCELoss()    # バイナリークロスエントロピー（Sigmoid関数無し）\n",
    "outf = '../GAN/DCGAN/fashion'\n",
    "dispinterval = 64\n",
    "testgen_interval = 5\n",
    "\n",
    "\n",
    "D_losses, G_losses, D_x_out, D_G_z1_out, D_G_z2_out = ganf.train_gan(epochs, dl, device, nz, disc, gene, criterion, \\\n",
    "                                                     optimizerG, optimizerD, \n",
    "                                                     dispinterval,\n",
    "                                                     testgen_interval, fixed_noise, outf)"
   ]
  },
  {
   "cell_type": "code",
   "execution_count": 54,
   "id": "b8c00496",
   "metadata": {
    "scrolled": true
   },
   "outputs": [
    {
     "data": {
      "image/png": "[encoded data removed]",
      "text/plain": [
       "<Figure size 864x576 with 2 Axes>"
      ]
     },
     "metadata": {
      "needs_background": "light"
     },
     "output_type": "display_data"
    }
   ],
   "source": [
    "ganf.display_GAN_curv(12, 8, 10, 10, D_losses, G_losses, D_x_out, D_G_z1_out, D_G_z2_out)"
   ]
  },
  {
   "cell_type": "code",
   "execution_count": null,
   "id": "1226a850",
   "metadata": {},
   "outputs": [],
   "source": []
  },
  {
   "cell_type": "code",
   "execution_count": null,
   "id": "d24383d1",
   "metadata": {},
   "outputs": [],
   "source": []
  },
  {
   "cell_type": "code",
   "execution_count": null,
   "id": "b1f253db",
   "metadata": {},
   "outputs": [],
   "source": []
  },
  {
   "cell_type": "code",
   "execution_count": 4,
   "id": "2286955f",
   "metadata": {},
   "outputs": [
    {
     "name": "stdout",
     "output_type": "stream",
     "text": [
      "Files already downloaded and verified\n"
     ]
    }
   ],
   "source": [
    "cifarset = dset.CIFAR10(root='./cifar10_root', download=True, train=True,\n",
    "                      transform=transforms.Compose([\n",
    "                          transforms.ToTensor(),\n",
    "                          transforms.Normalize((0.5, 0.5, 0.5), (0.5, 0.5, 0.5)) ])) "
   ]
  },
  {
   "cell_type": "code",
   "execution_count": 19,
   "id": "299b3c04",
   "metadata": {},
   "outputs": [
    {
     "data": {
      "text/plain": [
       "50000"
      ]
     },
     "execution_count": 19,
     "metadata": {},
     "output_type": "execute_result"
    }
   ],
   "source": [
    "len(cifarset)"
   ]
  },
  {
   "cell_type": "code",
   "execution_count": 21,
   "id": "1689f38e",
   "metadata": {},
   "outputs": [
    {
     "data": {
      "text/plain": [
       "(2, torch.Size([3, 32, 32]))"
      ]
     },
     "execution_count": 21,
     "metadata": {},
     "output_type": "execute_result"
    }
   ],
   "source": [
    "len(cifarset[0]), cifarset[0][0].shape"
   ]
  },
  {
   "cell_type": "code",
   "execution_count": 41,
   "id": "3d02c2bd",
   "metadata": {
    "scrolled": true
   },
   "outputs": [
    {
     "data": {
      "text/plain": [
       "===============================================================================================\n",
       "Layer (type:depth-idx)                        Output Shape              Param #\n",
       "===============================================================================================\n",
       "Generator                                     --                        --\n",
       "├─Sequential: 1-1                             [1, 3, 32, 32]            --\n",
       "│    └─Convtp_Bn_ReLu: 2-1                    [1, 512, 3, 3]            --\n",
       "│    │    └─Sequential: 3-1                   [1, 512, 3, 3]            --\n",
       "│    │    │    └─ConvTranspose2d: 4-1         [1, 512, 3, 3]            461,312\n",
       "│    │    │    └─BatchNorm2d: 4-2             [1, 512, 3, 3]            1,024\n",
       "│    │    │    └─ReLU: 4-3                    [1, 512, 3, 3]            --\n",
       "│    └─Convtp_Bn_ReLu: 2-2                    [1, 256, 8, 8]            --\n",
       "│    │    └─Sequential: 3-2                   [1, 256, 8, 8]            --\n",
       "│    │    │    └─ConvTranspose2d: 4-4         [1, 256, 8, 8]            2,097,408\n",
       "│    │    │    └─BatchNorm2d: 4-5             [1, 256, 8, 8]            512\n",
       "│    │    │    └─ReLU: 4-6                    [1, 256, 8, 8]            --\n",
       "│    └─Convtp_Bn_ReLu: 2-3                    [1, 128, 16, 16]          --\n",
       "│    │    └─Sequential: 3-3                   [1, 128, 16, 16]          --\n",
       "│    │    │    └─ConvTranspose2d: 4-7         [1, 128, 16, 16]          524,416\n",
       "│    │    │    └─BatchNorm2d: 4-8             [1, 128, 16, 16]          256\n",
       "│    │    │    └─ReLU: 4-9                    [1, 128, 16, 16]          --\n",
       "│    └─Convtp_Tanh: 2-4                       [1, 3, 32, 32]            --\n",
       "│    │    └─Sequential: 3-4                   [1, 3, 32, 32]            --\n",
       "│    │    │    └─ConvTranspose2d: 4-10        [1, 3, 32, 32]            6,147\n",
       "│    │    │    └─Tanh: 4-11                   [1, 3, 32, 32]            --\n",
       "===============================================================================================\n",
       "Total params: 3,091,075\n",
       "Trainable params: 3,091,075\n",
       "Non-trainable params: 0\n",
       "Total mult-adds (M): 278.93\n",
       "===============================================================================================\n",
       "Input size (MB): 0.00\n",
       "Forward/backward pass size (MB): 0.88\n",
       "Params size (MB): 12.36\n",
       "Estimated Total Size (MB): 13.25\n",
       "==============================================================================================="
      ]
     },
     "execution_count": 41,
     "metadata": {},
     "output_type": "execute_result"
    }
   ],
   "source": [
    "chlist = [100, 512, 256, 128, 3]\n",
    "klist = [3, 4, 4, 4]\n",
    "strdlist = [1, 2, 2, 2]\n",
    "padlist = [0, 0, 1, 1]\n",
    "opadlist = [0, 0, 0, 0]\n",
    "\n",
    "gencifar = ganmd.Generator(chlist, klist, strdlist, padlist, opadlist)\n",
    "\n",
    "summary(model = gencifar, input_size = (1, 100, 1, 1), depth = 4)"
   ]
  },
  {
   "cell_type": "code",
   "execution_count": 42,
   "id": "74db0de6",
   "metadata": {
    "scrolled": true
   },
   "outputs": [
    {
     "data": {
      "text/plain": [
       "==========================================================================================\n",
       "Layer (type:depth-idx)                   Output Shape              Param #\n",
       "==========================================================================================\n",
       "Discriminator                            --                        --\n",
       "├─Sequential: 1-1                        [1, 1, 1, 1]              --\n",
       "│    └─Conv_LeakyReLU: 2-1               [1, 128, 16, 16]          --\n",
       "│    │    └─Sequential: 3-1              [1, 128, 16, 16]          --\n",
       "│    │    │    └─Conv2d: 4-1             [1, 128, 16, 16]          6,272\n",
       "│    │    │    └─LeakyReLU: 4-2          [1, 128, 16, 16]          --\n",
       "│    └─Conv_Bn_LeakyReLU: 2-2            [1, 256, 8, 8]            --\n",
       "│    │    └─Sequential: 3-2              [1, 256, 8, 8]            --\n",
       "│    │    │    └─Conv2d: 4-3             [1, 256, 8, 8]            524,544\n",
       "│    │    │    └─BatchNorm2d: 4-4        [1, 256, 8, 8]            512\n",
       "│    │    │    └─LeakyReLU: 4-5          [1, 256, 8, 8]            --\n",
       "│    └─Conv_Bn_LeakyReLU: 2-3            [1, 512, 3, 3]            --\n",
       "│    │    └─Sequential: 3-3              [1, 512, 3, 3]            --\n",
       "│    │    │    └─Conv2d: 4-6             [1, 512, 3, 3]            1,180,160\n",
       "│    │    │    └─BatchNorm2d: 4-7        [1, 512, 3, 3]            1,024\n",
       "│    │    │    └─LeakyReLU: 4-8          [1, 512, 3, 3]            --\n",
       "│    └─Conv_Sigmoid: 2-4                 [1, 1, 1, 1]              --\n",
       "│    │    └─Sequential: 3-4              [1, 1, 1, 1]              --\n",
       "│    │    │    └─Conv2d: 4-9             [1, 1, 1, 1]              4,609\n",
       "│    │    │    └─Sigmoid: 4-10           [1, 1, 1, 1]              --\n",
       "==========================================================================================\n",
       "Total params: 1,717,121\n",
       "Trainable params: 1,717,121\n",
       "Non-trainable params: 0\n",
       "Total mult-adds (M): 45.80\n",
       "==========================================================================================\n",
       "Input size (MB): 0.01\n",
       "Forward/backward pass size (MB): 0.60\n",
       "Params size (MB): 6.87\n",
       "Estimated Total Size (MB): 7.48\n",
       "=========================================================================================="
      ]
     },
     "execution_count": 42,
     "metadata": {},
     "output_type": "execute_result"
    }
   ],
   "source": [
    "chlist = [3, 128, 256, 512, 1]\n",
    "klist = [4, 4, 3, 3]\n",
    "strdlist = [2, 2, 2, 1]\n",
    "padlist = [1, 1, 0, 0]\n",
    "ngsllist = [0.2, 0.2, 0.2, 0]\n",
    "\n",
    "discifar = ganmd.Discriminator(chlist, klist, strdlist, padlist, ngsllist)\n",
    "\n",
    "summary(model = discifar, input_size = (1, 3, 32, 32), depth = 4)"
   ]
  },
  {
   "cell_type": "code",
   "execution_count": null,
   "id": "8cdfb411",
   "metadata": {},
   "outputs": [],
   "source": []
  },
  {
   "cell_type": "code",
   "execution_count": 43,
   "id": "0f0f23ec",
   "metadata": {},
   "outputs": [],
   "source": [
    "batch_size = 256\n",
    "workers = 2\n",
    "\n",
    "#num_workersは、ミニバッチを返す時の並列実行数、高速化のため\n",
    "#最大でCPUの論理コア数\n",
    "dl = DataLoader(cifarset, batch_size = batch_size, shuffle=True, num_workers=int(workers))\n",
    "\n",
    "\n",
    "criterion = nn.BCELoss()\n",
    "nz = 100\n",
    "device = torch.device('cuda:0' if torch.cuda.is_available() else 'cpu')\n",
    "\n",
    "fixed_noise = torch.randn(batch_size, nz, 1, 1, device=device)\n",
    "\n",
    "\n",
    "# オプティマイザ−のセットアップ\n",
    "lr = 0.0002\n",
    "beta1 = 0.5\n",
    "optimizerD = optim.Adam(discifar.parameters(), lr=lr, betas=(beta1, 0.999), weight_decay=1e-5)  # 識別器D用\n",
    "optimizerG = optim.Adam(gencifar.parameters(), lr=lr, betas=(beta1, 0.999), weight_decay=1e-5)  # 生成器G用"
   ]
  },
  {
   "cell_type": "code",
   "execution_count": 44,
   "id": "8d8e5221",
   "metadata": {
    "scrolled": true
   },
   "outputs": [
    {
     "name": "stdout",
     "output_type": "stream",
     "text": [
      "[1/30][1/196] Loss_D: 1.432 Loss_G: 2.132 D(x): 0.521 D(G(z)): 0.525/0.125\n",
      "[1/30][65/196] Loss_D: 0.054 Loss_G: 6.585 D(x): 0.963 D(G(z)): 0.015/0.001\n",
      "[1/30][129/196] Loss_D: 0.117 Loss_G: 4.024 D(x): 0.941 D(G(z)): 0.048/0.020\n",
      "[1/30][193/196] Loss_D: 0.572 Loss_G: 1.758 D(x): 0.673 D(G(z)): 0.009/0.253\n",
      "[2/30][1/196] Loss_D: 0.203 Loss_G: 3.503 D(x): 0.920 D(G(z)): 0.093/0.041\n",
      "[2/30][65/196] Loss_D: 0.380 Loss_G: 4.821 D(x): 0.924 D(G(z)): 0.225/0.012\n",
      "[2/30][129/196] Loss_D: 0.569 Loss_G: 3.580 D(x): 0.790 D(G(z)): 0.215/0.044\n",
      "[2/30][193/196] Loss_D: 0.555 Loss_G: 2.711 D(x): 0.837 D(G(z)): 0.281/0.083\n",
      "[3/30][1/196] Loss_D: 0.660 Loss_G: 3.377 D(x): 0.839 D(G(z)): 0.344/0.044\n",
      "[3/30][65/196] Loss_D: 1.651 Loss_G: 3.573 D(x): 0.299 D(G(z)): 0.011/0.045\n",
      "[3/30][129/196] Loss_D: 0.607 Loss_G: 4.178 D(x): 0.814 D(G(z)): 0.277/0.023\n",
      "[3/30][193/196] Loss_D: 0.453 Loss_G: 3.367 D(x): 0.788 D(G(z)): 0.138/0.053\n",
      "[4/30][1/196] Loss_D: 0.515 Loss_G: 3.935 D(x): 0.781 D(G(z)): 0.181/0.033\n",
      "[4/30][65/196] Loss_D: 0.356 Loss_G: 3.271 D(x): 0.829 D(G(z)): 0.121/0.050\n",
      "[4/30][129/196] Loss_D: 0.706 Loss_G: 3.916 D(x): 0.779 D(G(z)): 0.203/0.061\n",
      "[4/30][193/196] Loss_D: 0.584 Loss_G: 3.593 D(x): 0.767 D(G(z)): 0.199/0.043\n",
      "[5/30][1/196] Loss_D: 0.380 Loss_G: 3.635 D(x): 0.847 D(G(z)): 0.158/0.037\n",
      "[5/30][65/196] Loss_D: 0.623 Loss_G: 5.898 D(x): 0.642 D(G(z)): 0.005/0.005\n",
      "[5/30][129/196] Loss_D: 1.099 Loss_G: 7.750 D(x): 0.944 D(G(z)): 0.597/0.001\n",
      "[5/30][193/196] Loss_D: 0.533 Loss_G: 4.209 D(x): 0.949 D(G(z)): 0.328/0.026\n",
      "[6/30][1/196] Loss_D: 1.370 Loss_G: 6.638 D(x): 0.942 D(G(z)): 0.655/0.003\n",
      "[6/30][65/196] Loss_D: 0.216 Loss_G: 5.056 D(x): 0.852 D(G(z)): 0.025/0.011\n",
      "[6/30][129/196] Loss_D: 0.146 Loss_G: 4.031 D(x): 0.906 D(G(z)): 0.031/0.030\n",
      "[6/30][193/196] Loss_D: 0.450 Loss_G: 2.590 D(x): 0.743 D(G(z)): 0.049/0.120\n",
      "[7/30][1/196] Loss_D: 0.312 Loss_G: 3.919 D(x): 0.790 D(G(z)): 0.020/0.040\n",
      "[7/30][65/196] Loss_D: 1.014 Loss_G: 5.366 D(x): 0.975 D(G(z)): 0.568/0.009\n",
      "[7/30][129/196] Loss_D: 0.265 Loss_G: 4.456 D(x): 0.817 D(G(z)): 0.022/0.017\n",
      "[7/30][193/196] Loss_D: 0.157 Loss_G: 3.990 D(x): 0.896 D(G(z)): 0.032/0.025\n",
      "[8/30][1/196] Loss_D: 0.268 Loss_G: 6.380 D(x): 0.803 D(G(z)): 0.002/0.003\n",
      "[8/30][65/196] Loss_D: 0.924 Loss_G: 5.150 D(x): 0.878 D(G(z)): 0.481/0.010\n",
      "[8/30][129/196] Loss_D: 0.759 Loss_G: 6.786 D(x): 0.538 D(G(z)): 0.002/0.002\n",
      "[8/30][193/196] Loss_D: 0.155 Loss_G: 6.209 D(x): 0.869 D(G(z)): 0.003/0.004\n",
      "[9/30][1/196] Loss_D: 0.093 Loss_G: 3.918 D(x): 0.951 D(G(z)): 0.035/0.035\n",
      "[9/30][65/196] Loss_D: 0.516 Loss_G: 4.338 D(x): 0.941 D(G(z)): 0.341/0.020\n",
      "[9/30][129/196] Loss_D: 0.170 Loss_G: 3.506 D(x): 0.967 D(G(z)): 0.108/0.055\n",
      "[9/30][193/196] Loss_D: 0.082 Loss_G: 7.324 D(x): 0.927 D(G(z)): 0.002/0.001\n",
      "[10/30][1/196] Loss_D: 0.091 Loss_G: 5.361 D(x): 0.923 D(G(z)): 0.006/0.011\n",
      "[10/30][65/196] Loss_D: 0.053 Loss_G: 5.063 D(x): 0.956 D(G(z)): 0.006/0.010\n",
      "[10/30][129/196] Loss_D: 0.229 Loss_G: 4.598 D(x): 0.975 D(G(z)): 0.173/0.015\n",
      "[10/30][193/196] Loss_D: 0.906 Loss_G: 5.850 D(x): 0.974 D(G(z)): 0.484/0.006\n",
      "[11/30][1/196] Loss_D: 0.581 Loss_G: 4.727 D(x): 0.965 D(G(z)): 0.370/0.016\n",
      "[11/30][65/196] Loss_D: 0.239 Loss_G: 8.710 D(x): 0.830 D(G(z)): 0.000/0.000\n",
      "[11/30][129/196] Loss_D: 0.041 Loss_G: 4.704 D(x): 0.974 D(G(z)): 0.013/0.016\n",
      "[11/30][193/196] Loss_D: 0.072 Loss_G: 4.483 D(x): 0.959 D(G(z)): 0.028/0.017\n",
      "[12/30][1/196] Loss_D: 0.183 Loss_G: 4.198 D(x): 0.938 D(G(z)): 0.101/0.022\n",
      "[12/30][65/196] Loss_D: 0.053 Loss_G: 4.949 D(x): 0.962 D(G(z)): 0.013/0.011\n",
      "[12/30][129/196] Loss_D: 0.076 Loss_G: 4.842 D(x): 0.954 D(G(z)): 0.025/0.013\n",
      "[12/30][193/196] Loss_D: 0.195 Loss_G: 3.740 D(x): 0.880 D(G(z)): 0.051/0.039\n",
      "[13/30][1/196] Loss_D: 0.132 Loss_G: 4.630 D(x): 0.907 D(G(z)): 0.023/0.019\n",
      "[13/30][65/196] Loss_D: 0.344 Loss_G: 5.200 D(x): 0.982 D(G(z)): 0.249/0.011\n",
      "[13/30][129/196] Loss_D: 0.145 Loss_G: 4.008 D(x): 0.920 D(G(z)): 0.051/0.030\n",
      "[13/30][193/196] Loss_D: 0.124 Loss_G: 3.732 D(x): 0.963 D(G(z)): 0.075/0.033\n",
      "[14/30][1/196] Loss_D: 0.169 Loss_G: 4.096 D(x): 0.950 D(G(z)): 0.103/0.026\n",
      "[14/30][65/196] Loss_D: 1.263 Loss_G: 4.645 D(x): 0.957 D(G(z)): 0.578/0.027\n",
      "[14/30][129/196] Loss_D: 0.099 Loss_G: 4.079 D(x): 0.954 D(G(z)): 0.048/0.025\n",
      "[14/30][193/196] Loss_D: 0.040 Loss_G: 5.170 D(x): 0.977 D(G(z)): 0.015/0.012\n",
      "[15/30][1/196] Loss_D: 0.050 Loss_G: 4.827 D(x): 0.966 D(G(z)): 0.014/0.016\n",
      "[15/30][65/196] Loss_D: 0.490 Loss_G: 8.388 D(x): 0.982 D(G(z)): 0.334/0.001\n",
      "[15/30][129/196] Loss_D: 0.254 Loss_G: 4.557 D(x): 0.945 D(G(z)): 0.127/0.042\n",
      "[15/30][193/196] Loss_D: 2.663 Loss_G: 11.200 D(x): 0.995 D(G(z)): 0.814/0.000\n",
      "[16/30][1/196] Loss_D: 1.743 Loss_G: 2.046 D(x): 0.323 D(G(z)): 0.010/0.275\n",
      "[16/30][65/196] Loss_D: 0.087 Loss_G: 4.644 D(x): 0.943 D(G(z)): 0.021/0.018\n",
      "[16/30][129/196] Loss_D: 0.032 Loss_G: 5.875 D(x): 0.974 D(G(z)): 0.005/0.005\n",
      "[16/30][193/196] Loss_D: 0.050 Loss_G: 5.709 D(x): 0.972 D(G(z)): 0.020/0.010\n",
      "[17/30][1/196] Loss_D: 0.257 Loss_G: 6.191 D(x): 0.810 D(G(z)): 0.004/0.006\n",
      "[17/30][65/196] Loss_D: 0.163 Loss_G: 5.066 D(x): 0.946 D(G(z)): 0.088/0.014\n",
      "[17/30][129/196] Loss_D: 0.155 Loss_G: 3.689 D(x): 0.924 D(G(z)): 0.063/0.043\n",
      "[17/30][193/196] Loss_D: 0.049 Loss_G: 7.521 D(x): 0.959 D(G(z)): 0.002/0.001\n",
      "[18/30][1/196] Loss_D: 0.063 Loss_G: 4.602 D(x): 0.984 D(G(z)): 0.044/0.021\n",
      "[18/30][65/196] Loss_D: 0.047 Loss_G: 4.964 D(x): 0.972 D(G(z)): 0.016/0.013\n",
      "[18/30][129/196] Loss_D: 0.040 Loss_G: 5.455 D(x): 0.970 D(G(z)): 0.008/0.009\n",
      "[18/30][193/196] Loss_D: 0.518 Loss_G: 4.317 D(x): 0.855 D(G(z)): 0.215/0.031\n",
      "[19/30][1/196] Loss_D: 0.042 Loss_G: 6.616 D(x): 0.965 D(G(z)): 0.004/0.005\n",
      "[19/30][65/196] Loss_D: 0.102 Loss_G: 4.543 D(x): 0.971 D(G(z)): 0.066/0.018\n",
      "[19/30][129/196] Loss_D: 0.181 Loss_G: 3.584 D(x): 0.875 D(G(z)): 0.011/0.084\n",
      "[19/30][193/196] Loss_D: 0.027 Loss_G: 4.331 D(x): 0.989 D(G(z)): 0.015/0.023\n",
      "[20/30][1/196] Loss_D: 0.032 Loss_G: 6.261 D(x): 0.973 D(G(z)): 0.004/0.003\n",
      "[20/30][65/196] Loss_D: 0.045 Loss_G: 6.662 D(x): 0.961 D(G(z)): 0.003/0.003\n",
      "[20/30][129/196] Loss_D: 0.447 Loss_G: 6.931 D(x): 0.982 D(G(z)): 0.275/0.004\n",
      "[20/30][193/196] Loss_D: 0.313 Loss_G: 5.440 D(x): 0.778 D(G(z)): 0.015/0.011\n",
      "[21/30][1/196] Loss_D: 0.312 Loss_G: 5.290 D(x): 0.968 D(G(z)): 0.214/0.012\n",
      "[21/30][65/196] Loss_D: 0.080 Loss_G: 4.204 D(x): 0.986 D(G(z)): 0.062/0.025\n",
      "[21/30][129/196] Loss_D: 0.226 Loss_G: 5.530 D(x): 0.956 D(G(z)): 0.142/0.009\n",
      "[21/30][193/196] Loss_D: 0.687 Loss_G: 3.409 D(x): 0.614 D(G(z)): 0.009/0.096\n",
      "[22/30][1/196] Loss_D: 0.120 Loss_G: 4.440 D(x): 0.938 D(G(z)): 0.043/0.022\n",
      "[22/30][65/196] Loss_D: 0.091 Loss_G: 4.072 D(x): 0.954 D(G(z)): 0.040/0.029\n",
      "[22/30][129/196] Loss_D: 0.055 Loss_G: 4.623 D(x): 0.988 D(G(z)): 0.040/0.017\n",
      "[22/30][193/196] Loss_D: 0.274 Loss_G: 3.939 D(x): 0.850 D(G(z)): 0.078/0.043\n",
      "[23/30][1/196] Loss_D: 0.151 Loss_G: 4.268 D(x): 0.968 D(G(z)): 0.101/0.030\n",
      "[23/30][65/196] Loss_D: 0.269 Loss_G: 5.695 D(x): 0.799 D(G(z)): 0.007/0.010\n",
      "[23/30][129/196] Loss_D: 0.094 Loss_G: 4.443 D(x): 0.945 D(G(z)): 0.031/0.023\n",
      "[23/30][193/196] Loss_D: 0.070 Loss_G: 4.493 D(x): 0.965 D(G(z)): 0.032/0.024\n",
      "[24/30][1/196] Loss_D: 0.134 Loss_G: 4.497 D(x): 0.971 D(G(z)): 0.092/0.019\n",
      "[24/30][65/196] Loss_D: 4.922 Loss_G: 2.138 D(x): 0.054 D(G(z)): 0.000/0.256\n",
      "[24/30][129/196] Loss_D: 0.171 Loss_G: 4.191 D(x): 0.900 D(G(z)): 0.048/0.037\n",
      "[24/30][193/196] Loss_D: 0.082 Loss_G: 4.126 D(x): 0.970 D(G(z)): 0.047/0.025\n",
      "[25/30][1/196] Loss_D: 0.135 Loss_G: 3.954 D(x): 0.944 D(G(z)): 0.070/0.031\n",
      "[25/30][65/196] Loss_D: 0.222 Loss_G: 6.151 D(x): 0.826 D(G(z)): 0.002/0.005\n",
      "[25/30][129/196] Loss_D: 0.772 Loss_G: 4.873 D(x): 0.954 D(G(z)): 0.383/0.034\n",
      "[25/30][193/196] Loss_D: 0.195 Loss_G: 3.465 D(x): 0.890 D(G(z)): 0.056/0.056\n",
      "[26/30][1/196] Loss_D: 0.176 Loss_G: 4.678 D(x): 0.976 D(G(z)): 0.130/0.017\n",
      "[26/30][65/196] Loss_D: 0.353 Loss_G: 6.759 D(x): 0.974 D(G(z)): 0.248/0.002\n",
      "[26/30][129/196] Loss_D: 0.058 Loss_G: 4.429 D(x): 0.988 D(G(z)): 0.044/0.021\n",
      "[26/30][193/196] Loss_D: 0.290 Loss_G: 4.288 D(x): 0.892 D(G(z)): 0.132/0.026\n",
      "[27/30][1/196] Loss_D: 0.103 Loss_G: 4.598 D(x): 0.959 D(G(z)): 0.053/0.019\n",
      "[27/30][65/196] Loss_D: 0.206 Loss_G: 5.152 D(x): 0.948 D(G(z)): 0.128/0.010\n",
      "[27/30][129/196] Loss_D: 0.027 Loss_G: 6.307 D(x): 0.980 D(G(z)): 0.007/0.004\n"
     ]
    },
    {
     "name": "stdout",
     "output_type": "stream",
     "text": [
      "[27/30][193/196] Loss_D: 0.121 Loss_G: 4.614 D(x): 0.933 D(G(z)): 0.042/0.024\n",
      "[28/30][1/196] Loss_D: 0.185 Loss_G: 4.430 D(x): 0.911 D(G(z)): 0.067/0.026\n",
      "[28/30][65/196] Loss_D: 0.029 Loss_G: 5.179 D(x): 0.983 D(G(z)): 0.012/0.013\n",
      "[28/30][129/196] Loss_D: 0.123 Loss_G: 5.206 D(x): 0.979 D(G(z)): 0.090/0.012\n",
      "[28/30][193/196] Loss_D: 0.221 Loss_G: 5.459 D(x): 0.945 D(G(z)): 0.125/0.011\n",
      "[29/30][1/196] Loss_D: 0.188 Loss_G: 4.060 D(x): 0.887 D(G(z)): 0.045/0.034\n",
      "[29/30][65/196] Loss_D: 0.045 Loss_G: 6.141 D(x): 0.964 D(G(z)): 0.004/0.005\n",
      "[29/30][129/196] Loss_D: 0.074 Loss_G: 4.248 D(x): 0.948 D(G(z)): 0.015/0.032\n",
      "[29/30][193/196] Loss_D: 0.055 Loss_G: 5.612 D(x): 0.959 D(G(z)): 0.009/0.011\n",
      "[30/30][1/196] Loss_D: 2.958 Loss_G: 16.350 D(x): 0.982 D(G(z)): 0.697/0.000\n",
      "[30/30][65/196] Loss_D: 0.158 Loss_G: 4.949 D(x): 0.893 D(G(z)): 0.024/0.016\n",
      "[30/30][129/196] Loss_D: 0.078 Loss_G: 4.965 D(x): 0.979 D(G(z)): 0.051/0.015\n",
      "[30/30][193/196] Loss_D: 0.236 Loss_G: 4.400 D(x): 0.964 D(G(z)): 0.161/0.032\n"
     ]
    }
   ],
   "source": [
    "epochs = 30\n",
    "criterion = nn.BCELoss()    # バイナリークロスエントロピー（Sigmoid関数無し）\n",
    "outf = '../GAN/DCGAN/cifar'\n",
    "dispinterval = 64\n",
    "testgen_interval = 5\n",
    "\n",
    "\n",
    "D_losses, G_losses, D_x_out, D_G_z1_out, D_G_z2_out = ganf.train_gan(epochs, dl, device, nz, discifar, gencifar, \n",
    "                                                                     criterion, optimizerG, optimizerD, \n",
    "                                                                     dispinterval,\n",
    "                                                                     testgen_interval, fixed_noise, outf)"
   ]
  },
  {
   "cell_type": "code",
   "execution_count": null,
   "id": "ce9c309b",
   "metadata": {},
   "outputs": [],
   "source": []
  },
  {
   "cell_type": "code",
   "execution_count": null,
   "id": "fa998690",
   "metadata": {},
   "outputs": [],
   "source": []
  },
  {
   "cell_type": "code",
   "execution_count": null,
   "id": "099bf333",
   "metadata": {},
   "outputs": [],
   "source": []
  },
  {
   "cell_type": "code",
   "execution_count": null,
   "id": "b0b2ef9a",
   "metadata": {},
   "outputs": [],
   "source": []
  },
  {
   "cell_type": "code",
   "execution_count": 15,
   "id": "b8eb5b24",
   "metadata": {
    "scrolled": true
   },
   "outputs": [
    {
     "data": {
      "text/plain": [
       "===============================================================================================\n",
       "Layer (type:depth-idx)                        Output Shape              Param #\n",
       "===============================================================================================\n",
       "Generator                                     --                        --\n",
       "├─Sequential: 1-1                             [1, 1, 28, 28]            --\n",
       "│    └─Convtp_Bn_ReLu: 2-1                    [1, 512, 3, 3]            --\n",
       "│    │    └─Sequential: 3-1                   [1, 512, 3, 3]            --\n",
       "│    │    │    └─ConvTranspose2d: 4-1         [1, 512, 3, 3]            507,392\n",
       "│    │    │    └─BatchNorm2d: 4-2             [1, 512, 3, 3]            1,024\n",
       "│    │    │    └─ReLU: 4-3                    [1, 512, 3, 3]            --\n",
       "│    └─Convtp_Bn_ReLu: 2-2                    [1, 256, 7, 7]            --\n",
       "│    │    └─Sequential: 3-2                   [1, 256, 7, 7]            --\n",
       "│    │    │    └─ConvTranspose2d: 4-4         [1, 256, 7, 7]            1,179,904\n",
       "│    │    │    └─BatchNorm2d: 4-5             [1, 256, 7, 7]            512\n",
       "│    │    │    └─ReLU: 4-6                    [1, 256, 7, 7]            --\n",
       "│    └─Convtp_Bn_ReLu: 2-3                    [1, 128, 14, 14]          --\n",
       "│    │    └─Sequential: 3-3                   [1, 128, 14, 14]          --\n",
       "│    │    │    └─ConvTranspose2d: 4-7         [1, 128, 14, 14]          524,416\n",
       "│    │    │    └─BatchNorm2d: 4-8             [1, 128, 14, 14]          256\n",
       "│    │    │    └─ReLU: 4-9                    [1, 128, 14, 14]          --\n",
       "│    └─Convtp_Tanh: 2-4                       [1, 1, 28, 28]            --\n",
       "│    │    └─Sequential: 3-4                   [1, 1, 28, 28]            --\n",
       "│    │    │    └─ConvTranspose2d: 4-10        [1, 1, 28, 28]            2,049\n",
       "│    │    │    └─Tanh: 4-11                   [1, 1, 28, 28]            --\n",
       "===============================================================================================\n",
       "Total params: 2,215,553\n",
       "Trainable params: 2,215,553\n",
       "Non-trainable params: 0\n",
       "Total mult-adds (M): 166.78\n",
       "===============================================================================================\n",
       "Input size (MB): 0.00\n",
       "Forward/backward pass size (MB): 0.68\n",
       "Params size (MB): 8.86\n",
       "Estimated Total Size (MB): 9.54\n",
       "==============================================================================================="
      ]
     },
     "execution_count": 15,
     "metadata": {},
     "output_type": "execute_result"
    }
   ],
   "source": [
    "################-------------------------CGAN----------------------------#############################\n",
    "classes = 10\n",
    "nz = 100\n",
    "\n",
    "chlist = [nz + classes, 512, 256, 128, 1]\n",
    "klist = [3, 3, 4, 4]\n",
    "strdlist = [1, 2, 2, 2]\n",
    "padlist = [0, 0, 1, 1]\n",
    "opadlist = [0, 0, 0, 0]\n",
    "\n",
    "cgene = ganmd.Generator(chlist, klist, strdlist, padlist, opadlist)\n",
    "\n",
    "summary(model = cgene, input_size = (1, nz + classes, 1, 1), depth = 4)"
   ]
  },
  {
   "cell_type": "code",
   "execution_count": 16,
   "id": "90fb90ef",
   "metadata": {
    "scrolled": true
   },
   "outputs": [
    {
     "data": {
      "text/plain": [
       "==========================================================================================\n",
       "Layer (type:depth-idx)                   Output Shape              Param #\n",
       "==========================================================================================\n",
       "Discriminator                            --                        --\n",
       "├─Sequential: 1-1                        [1, 1, 1, 1]              --\n",
       "│    └─Conv_LeakyReLU: 2-1               [1, 128, 14, 14]          --\n",
       "│    │    └─Sequential: 3-1              [1, 128, 14, 14]          --\n",
       "│    │    │    └─Conv2d: 4-1             [1, 128, 14, 14]          22,656\n",
       "│    │    │    └─LeakyReLU: 4-2          [1, 128, 14, 14]          --\n",
       "│    └─Conv_Bn_LeakyReLU: 2-2            [1, 256, 7, 7]            --\n",
       "│    │    └─Sequential: 3-2              [1, 256, 7, 7]            --\n",
       "│    │    │    └─Conv2d: 4-3             [1, 256, 7, 7]            524,544\n",
       "│    │    │    └─BatchNorm2d: 4-4        [1, 256, 7, 7]            512\n",
       "│    │    │    └─LeakyReLU: 4-5          [1, 256, 7, 7]            --\n",
       "│    └─Conv_Bn_LeakyReLU: 2-3            [1, 512, 3, 3]            --\n",
       "│    │    └─Sequential: 3-3              [1, 512, 3, 3]            --\n",
       "│    │    │    └─Conv2d: 4-6             [1, 512, 3, 3]            1,180,160\n",
       "│    │    │    └─BatchNorm2d: 4-7        [1, 512, 3, 3]            1,024\n",
       "│    │    │    └─LeakyReLU: 4-8          [1, 512, 3, 3]            --\n",
       "│    └─Conv_Sigmoid: 2-4                 [1, 1, 1, 1]              --\n",
       "│    │    └─Sequential: 3-4              [1, 1, 1, 1]              --\n",
       "│    │    │    └─Conv2d: 4-9             [1, 1, 1, 1]              4,609\n",
       "│    │    │    └─Sigmoid: 4-10           [1, 1, 1, 1]              --\n",
       "==========================================================================================\n",
       "Total params: 1,733,505\n",
       "Trainable params: 1,733,505\n",
       "Non-trainable params: 0\n",
       "Total mult-adds (M): 40.77\n",
       "==========================================================================================\n",
       "Input size (MB): 0.03\n",
       "Forward/backward pass size (MB): 0.48\n",
       "Params size (MB): 6.93\n",
       "Estimated Total Size (MB): 7.44\n",
       "=========================================================================================="
      ]
     },
     "execution_count": 16,
     "metadata": {},
     "output_type": "execute_result"
    }
   ],
   "source": [
    "\n",
    "chlist = [classes + 1, 128, 256, 512, 1]\n",
    "klist = [4, 4, 3, 3]\n",
    "strdlist = [2, 2, 2, 1]\n",
    "padlist = [1, 1, 0, 0]\n",
    "ngsllist = [0.2, 0.2, 0.2, 0]\n",
    "\n",
    "cdisc = ganmd.Discriminator(chlist, klist, strdlist, padlist, ngsllist)\n",
    "\n",
    "summary(model = cdisc, input_size = (1, classes + 1, 28, 28), depth = 4)"
   ]
  },
  {
   "cell_type": "code",
   "execution_count": 17,
   "id": "8c9b20aa",
   "metadata": {},
   "outputs": [],
   "source": [
    "batch_size = 256\n",
    "workers = 2\n",
    "\n",
    "#num_workersは、ミニバッチを返す時の並列実行数、高速化のため\n",
    "#最大でCPUの論理コア数\n",
    "dl = DataLoader(dataset, batch_size = batch_size, shuffle=True, num_workers=int(workers))\n",
    "\n",
    "\n",
    "criterion = nn.BCELoss()\n",
    "nz = 100\n",
    "device = torch.device('cuda:0' if torch.cuda.is_available() else 'cpu')\n",
    "\n",
    "\n",
    "#固定ノイズ\n",
    "fixed_noise = torch.randn(batch_size, nz, 1, 1, device=device)\n",
    "# 確認用のラベル。0〜9のラベルの繰り返し\n",
    "fixed_label = [i for i in range(10)] * (batch_size // 10)\n",
    "for i in range(batch_size % 10):\n",
    "    fixed_label.append(i)\n",
    "fixed_label = torch.tensor(fixed_label, dtype=torch.long, device=device)\n",
    "# 確認用のノイズとラベルを連結\n",
    "fixed_noise_label = ganf.concat_noise_label(fixed_noise, fixed_label, device, classes)\n",
    "\n",
    "\n",
    "\n",
    "\n",
    "# オプティマイザ−のセットアップ\n",
    "lr = 0.0002\n",
    "beta1 = 0.5\n",
    "optimizerD = optim.Adam(cdisc.parameters(), lr=lr, betas=(beta1, 0.999), weight_decay=1e-5)  # 識別器D用\n",
    "optimizerG = optim.Adam(cgene.parameters(), lr=lr, betas=(beta1, 0.999), weight_decay=1e-5)  # 生成器G用"
   ]
  },
  {
   "cell_type": "code",
   "execution_count": 12,
   "id": "5cac81f2",
   "metadata": {
    "scrolled": true
   },
   "outputs": [
    {
     "name": "stdout",
     "output_type": "stream",
     "text": [
      "[1/30][1/235] Loss_D: 1.429 Loss_G: 1.247 D(x): 0.482 D(G(z)): 0.477/0.308\n",
      "[1/30][65/235] Loss_D: 0.005 Loss_G: 7.084 D(x): 0.998 D(G(z)): 0.002/0.001\n",
      "[1/30][129/235] Loss_D: 0.243 Loss_G: 4.961 D(x): 0.862 D(G(z)): 0.048/0.013\n",
      "[1/30][193/235] Loss_D: 1.175 Loss_G: 4.013 D(x): 0.826 D(G(z)): 0.523/0.032\n",
      "[2/30][1/235] Loss_D: 0.706 Loss_G: 4.392 D(x): 0.884 D(G(z)): 0.360/0.028\n",
      "[2/30][65/235] Loss_D: 0.962 Loss_G: 3.189 D(x): 0.874 D(G(z)): 0.509/0.053\n",
      "[2/30][129/235] Loss_D: 0.895 Loss_G: 1.339 D(x): 0.585 D(G(z)): 0.241/0.299\n",
      "[2/30][193/235] Loss_D: 0.628 Loss_G: 2.212 D(x): 0.755 D(G(z)): 0.253/0.139\n",
      "[3/30][1/235] Loss_D: 0.757 Loss_G: 1.836 D(x): 0.754 D(G(z)): 0.326/0.199\n",
      "[3/30][65/235] Loss_D: 0.865 Loss_G: 1.240 D(x): 0.533 D(G(z)): 0.135/0.335\n",
      "[3/30][129/235] Loss_D: 0.786 Loss_G: 1.983 D(x): 0.829 D(G(z)): 0.414/0.169\n",
      "[3/30][193/235] Loss_D: 0.712 Loss_G: 1.049 D(x): 0.711 D(G(z)): 0.281/0.377\n",
      "[4/30][1/235] Loss_D: 1.096 Loss_G: 1.100 D(x): 0.496 D(G(z)): 0.250/0.370\n",
      "[4/30][65/235] Loss_D: 1.249 Loss_G: 1.725 D(x): 0.900 D(G(z)): 0.654/0.198\n",
      "[4/30][129/235] Loss_D: 1.152 Loss_G: 1.485 D(x): 0.433 D(G(z)): 0.184/0.250\n",
      "[4/30][193/235] Loss_D: 0.790 Loss_G: 1.646 D(x): 0.666 D(G(z)): 0.300/0.211\n",
      "[5/30][1/235] Loss_D: 1.189 Loss_G: 1.229 D(x): 0.417 D(G(z)): 0.213/0.317\n",
      "[5/30][65/235] Loss_D: 1.197 Loss_G: 0.801 D(x): 0.516 D(G(z)): 0.375/0.462\n",
      "[5/30][129/235] Loss_D: 1.417 Loss_G: 0.825 D(x): 0.573 D(G(z)): 0.544/0.456\n",
      "[5/30][193/235] Loss_D: 1.069 Loss_G: 1.615 D(x): 0.401 D(G(z)): 0.091/0.217\n",
      "[6/30][1/235] Loss_D: 1.080 Loss_G: 1.439 D(x): 0.605 D(G(z)): 0.409/0.255\n",
      "[6/30][65/235] Loss_D: 1.326 Loss_G: 1.040 D(x): 0.739 D(G(z)): 0.608/0.376\n",
      "[6/30][129/235] Loss_D: 2.096 Loss_G: 1.281 D(x): 0.152 D(G(z)): 0.087/0.313\n",
      "[6/30][193/235] Loss_D: 1.216 Loss_G: 0.962 D(x): 0.727 D(G(z)): 0.573/0.398\n",
      "[7/30][1/235] Loss_D: 1.634 Loss_G: 0.646 D(x): 0.252 D(G(z)): 0.165/0.541\n",
      "[7/30][65/235] Loss_D: 0.730 Loss_G: 1.454 D(x): 0.712 D(G(z)): 0.309/0.248\n",
      "[7/30][129/235] Loss_D: 0.717 Loss_G: 1.226 D(x): 0.716 D(G(z)): 0.306/0.305\n",
      "[7/30][193/235] Loss_D: 2.358 Loss_G: 0.807 D(x): 0.803 D(G(z)): 0.865/0.466\n",
      "[8/30][1/235] Loss_D: 2.287 Loss_G: 0.659 D(x): 0.944 D(G(z)): 0.883/0.533\n",
      "[8/30][65/235] Loss_D: 1.262 Loss_G: 0.654 D(x): 0.524 D(G(z)): 0.437/0.528\n",
      "[8/30][129/235] Loss_D: 1.374 Loss_G: 0.803 D(x): 0.691 D(G(z)): 0.620/0.457\n",
      "[8/30][193/235] Loss_D: 1.128 Loss_G: 1.207 D(x): 0.593 D(G(z)): 0.432/0.311\n",
      "[9/30][1/235] Loss_D: 1.707 Loss_G: 0.438 D(x): 0.415 D(G(z)): 0.536/0.653\n",
      "[9/30][65/235] Loss_D: 0.826 Loss_G: 1.065 D(x): 0.831 D(G(z)): 0.463/0.356\n",
      "[9/30][129/235] Loss_D: 1.635 Loss_G: 0.785 D(x): 0.407 D(G(z)): 0.499/0.464\n",
      "[9/30][193/235] Loss_D: 1.614 Loss_G: 0.718 D(x): 0.531 D(G(z)): 0.605/0.496\n",
      "[10/30][1/235] Loss_D: 0.881 Loss_G: 1.152 D(x): 0.671 D(G(z)): 0.369/0.327\n",
      "[10/30][65/235] Loss_D: 1.415 Loss_G: 1.119 D(x): 0.773 D(G(z)): 0.675/0.336\n",
      "[10/30][129/235] Loss_D: 1.588 Loss_G: 0.849 D(x): 0.264 D(G(z)): 0.192/0.438\n",
      "[10/30][193/235] Loss_D: 0.714 Loss_G: 1.055 D(x): 0.870 D(G(z)): 0.406/0.360\n",
      "[11/30][1/235] Loss_D: 0.922 Loss_G: 1.110 D(x): 0.756 D(G(z)): 0.460/0.339\n",
      "[11/30][65/235] Loss_D: 1.645 Loss_G: 0.636 D(x): 0.637 D(G(z)): 0.684/0.537\n",
      "[11/30][129/235] Loss_D: 1.799 Loss_G: 0.726 D(x): 0.543 D(G(z)): 0.681/0.491\n",
      "[11/30][193/235] Loss_D: 1.091 Loss_G: 1.103 D(x): 0.543 D(G(z)): 0.364/0.340\n",
      "[12/30][1/235] Loss_D: 1.474 Loss_G: 0.700 D(x): 0.678 D(G(z)): 0.626/0.506\n",
      "[12/30][65/235] Loss_D: 1.319 Loss_G: 0.790 D(x): 0.821 D(G(z)): 0.665/0.464\n",
      "[12/30][129/235] Loss_D: 1.224 Loss_G: 0.743 D(x): 0.597 D(G(z)): 0.494/0.483\n",
      "[12/30][193/235] Loss_D: 0.976 Loss_G: 1.179 D(x): 0.545 D(G(z)): 0.293/0.315\n",
      "[13/30][1/235] Loss_D: 1.033 Loss_G: 0.907 D(x): 0.675 D(G(z)): 0.462/0.411\n",
      "[13/30][65/235] Loss_D: 1.384 Loss_G: 0.918 D(x): 0.454 D(G(z)): 0.427/0.412\n",
      "[13/30][129/235] Loss_D: 1.142 Loss_G: 1.189 D(x): 0.408 D(G(z)): 0.198/0.311\n",
      "[13/30][193/235] Loss_D: 1.210 Loss_G: 1.556 D(x): 0.352 D(G(z)): 0.128/0.222\n",
      "[14/30][1/235] Loss_D: 1.027 Loss_G: 1.190 D(x): 0.583 D(G(z)): 0.370/0.315\n",
      "[14/30][65/235] Loss_D: 0.947 Loss_G: 1.675 D(x): 0.465 D(G(z)): 0.149/0.194\n",
      "[14/30][129/235] Loss_D: 1.096 Loss_G: 0.996 D(x): 0.758 D(G(z)): 0.550/0.379\n",
      "[14/30][193/235] Loss_D: 1.552 Loss_G: 1.079 D(x): 0.254 D(G(z)): 0.144/0.349\n",
      "[15/30][1/235] Loss_D: 0.579 Loss_G: 1.280 D(x): 0.793 D(G(z)): 0.288/0.286\n",
      "[15/30][65/235] Loss_D: 0.685 Loss_G: 1.174 D(x): 0.766 D(G(z)): 0.337/0.316\n",
      "[15/30][129/235] Loss_D: 0.629 Loss_G: 1.641 D(x): 0.695 D(G(z)): 0.226/0.200\n",
      "[15/30][193/235] Loss_D: 1.393 Loss_G: 0.867 D(x): 0.380 D(G(z)): 0.328/0.426\n",
      "[16/30][1/235] Loss_D: 2.166 Loss_G: 0.260 D(x): 0.829 D(G(z)): 0.856/0.773\n",
      "[16/30][65/235] Loss_D: 1.090 Loss_G: 1.158 D(x): 0.489 D(G(z)): 0.299/0.327\n",
      "[16/30][129/235] Loss_D: 0.999 Loss_G: 1.203 D(x): 0.643 D(G(z)): 0.420/0.306\n",
      "[16/30][193/235] Loss_D: 1.257 Loss_G: 0.969 D(x): 0.658 D(G(z)): 0.561/0.383\n",
      "[17/30][1/235] Loss_D: 0.812 Loss_G: 1.074 D(x): 0.758 D(G(z)): 0.404/0.353\n",
      "[17/30][65/235] Loss_D: 0.737 Loss_G: 1.228 D(x): 0.643 D(G(z)): 0.250/0.299\n",
      "[17/30][129/235] Loss_D: 1.793 Loss_G: 0.536 D(x): 0.419 D(G(z)): 0.589/0.588\n",
      "[17/30][193/235] Loss_D: 0.527 Loss_G: 1.964 D(x): 0.683 D(G(z)): 0.131/0.147\n",
      "[18/30][1/235] Loss_D: 1.000 Loss_G: 1.038 D(x): 0.704 D(G(z)): 0.471/0.359\n",
      "[18/30][65/235] Loss_D: 1.490 Loss_G: 0.748 D(x): 0.405 D(G(z)): 0.425/0.478\n",
      "[18/30][129/235] Loss_D: 2.490 Loss_G: 0.354 D(x): 0.254 D(G(z)): 0.643/0.705\n",
      "[18/30][193/235] Loss_D: 1.002 Loss_G: 0.838 D(x): 0.652 D(G(z)): 0.418/0.442\n",
      "[19/30][1/235] Loss_D: 0.604 Loss_G: 2.021 D(x): 0.643 D(G(z)): 0.137/0.139\n",
      "[19/30][65/235] Loss_D: 1.589 Loss_G: 0.750 D(x): 0.428 D(G(z)): 0.512/0.477\n",
      "[19/30][129/235] Loss_D: 1.492 Loss_G: 1.387 D(x): 0.292 D(G(z)): 0.178/0.264\n",
      "[19/30][193/235] Loss_D: 1.018 Loss_G: 1.089 D(x): 0.526 D(G(z)): 0.305/0.341\n",
      "[20/30][1/235] Loss_D: 1.019 Loss_G: 0.951 D(x): 0.501 D(G(z)): 0.272/0.390\n",
      "[20/30][65/235] Loss_D: 0.599 Loss_G: 1.419 D(x): 0.844 D(G(z)): 0.344/0.249\n",
      "[20/30][129/235] Loss_D: 0.781 Loss_G: 1.296 D(x): 0.648 D(G(z)): 0.288/0.278\n",
      "[20/30][193/235] Loss_D: 1.877 Loss_G: 0.512 D(x): 0.441 D(G(z)): 0.643/0.602\n",
      "[21/30][1/235] Loss_D: 1.625 Loss_G: 1.077 D(x): 0.387 D(G(z)): 0.428/0.351\n",
      "[21/30][65/235] Loss_D: 1.466 Loss_G: 0.689 D(x): 0.565 D(G(z)): 0.583/0.507\n",
      "[21/30][129/235] Loss_D: 0.808 Loss_G: 0.952 D(x): 0.796 D(G(z)): 0.436/0.390\n",
      "[21/30][193/235] Loss_D: 1.080 Loss_G: 0.835 D(x): 0.528 D(G(z)): 0.348/0.439\n",
      "[22/30][1/235] Loss_D: 1.128 Loss_G: 1.314 D(x): 0.413 D(G(z)): 0.196/0.277\n",
      "[22/30][65/235] Loss_D: 1.848 Loss_G: 0.594 D(x): 0.662 D(G(z)): 0.753/0.559\n",
      "[22/30][129/235] Loss_D: 1.056 Loss_G: 1.130 D(x): 0.602 D(G(z)): 0.412/0.332\n",
      "[22/30][193/235] Loss_D: 0.913 Loss_G: 1.107 D(x): 0.635 D(G(z)): 0.357/0.337\n",
      "[23/30][1/235] Loss_D: 1.334 Loss_G: 0.757 D(x): 0.524 D(G(z)): 0.489/0.473\n",
      "[23/30][65/235] Loss_D: 1.263 Loss_G: 0.792 D(x): 0.578 D(G(z)): 0.497/0.459\n",
      "[23/30][129/235] Loss_D: 1.248 Loss_G: 1.291 D(x): 0.380 D(G(z)): 0.224/0.281\n",
      "[23/30][193/235] Loss_D: 1.828 Loss_G: 0.572 D(x): 0.388 D(G(z)): 0.571/0.568\n",
      "[24/30][1/235] Loss_D: 0.983 Loss_G: 2.260 D(x): 0.427 D(G(z)): 0.090/0.108\n",
      "[24/30][65/235] Loss_D: 2.357 Loss_G: 0.570 D(x): 0.237 D(G(z)): 0.589/0.569\n",
      "[24/30][129/235] Loss_D: 0.825 Loss_G: 1.747 D(x): 0.527 D(G(z)): 0.155/0.183\n",
      "[24/30][193/235] Loss_D: 1.984 Loss_G: 0.450 D(x): 0.502 D(G(z)): 0.720/0.641\n",
      "[25/30][1/235] Loss_D: 0.946 Loss_G: 0.933 D(x): 0.903 D(G(z)): 0.565/0.401\n",
      "[25/30][65/235] Loss_D: 0.848 Loss_G: 0.931 D(x): 0.799 D(G(z)): 0.457/0.400\n",
      "[25/30][129/235] Loss_D: 0.608 Loss_G: 2.250 D(x): 0.598 D(G(z)): 0.083/0.110\n",
      "[25/30][193/235] Loss_D: 0.800 Loss_G: 1.193 D(x): 0.711 D(G(z)): 0.363/0.308\n",
      "[26/30][1/235] Loss_D: 2.069 Loss_G: 0.495 D(x): 0.257 D(G(z)): 0.480/0.613\n",
      "[26/30][65/235] Loss_D: 1.078 Loss_G: 0.852 D(x): 0.616 D(G(z)): 0.442/0.430\n",
      "[26/30][129/235] Loss_D: 1.106 Loss_G: 1.159 D(x): 0.426 D(G(z)): 0.216/0.319\n",
      "[26/30][193/235] Loss_D: 1.071 Loss_G: 0.900 D(x): 0.748 D(G(z)): 0.535/0.411\n",
      "[27/30][1/235] Loss_D: 0.833 Loss_G: 1.532 D(x): 0.548 D(G(z)): 0.197/0.225\n",
      "[27/30][65/235] Loss_D: 1.436 Loss_G: 0.837 D(x): 0.514 D(G(z)): 0.530/0.438\n",
      "[27/30][129/235] Loss_D: 2.036 Loss_G: 1.467 D(x): 0.147 D(G(z)): 0.083/0.245\n"
     ]
    },
    {
     "name": "stdout",
     "output_type": "stream",
     "text": [
      "[27/30][193/235] Loss_D: 0.408 Loss_G: 2.105 D(x): 0.767 D(G(z)): 0.129/0.125\n",
      "[28/30][1/235] Loss_D: 1.119 Loss_G: 0.817 D(x): 0.633 D(G(z)): 0.474/0.447\n",
      "[28/30][65/235] Loss_D: 0.788 Loss_G: 1.729 D(x): 0.538 D(G(z)): 0.149/0.182\n",
      "[28/30][129/235] Loss_D: 1.179 Loss_G: 0.684 D(x): 0.716 D(G(z)): 0.563/0.510\n",
      "[28/30][193/235] Loss_D: 2.114 Loss_G: 0.472 D(x): 0.510 D(G(z)): 0.756/0.626\n",
      "[29/30][1/235] Loss_D: 2.421 Loss_G: 0.535 D(x): 0.191 D(G(z)): 0.515/0.589\n",
      "[29/30][65/235] Loss_D: 1.118 Loss_G: 0.779 D(x): 0.872 D(G(z)): 0.621/0.464\n",
      "[29/30][129/235] Loss_D: 1.670 Loss_G: 0.823 D(x): 0.310 D(G(z)): 0.379/0.443\n",
      "[29/30][193/235] Loss_D: 0.547 Loss_G: 1.514 D(x): 0.732 D(G(z)): 0.207/0.224\n",
      "[30/30][1/235] Loss_D: 0.511 Loss_G: 1.570 D(x): 0.770 D(G(z)): 0.218/0.214\n",
      "[30/30][65/235] Loss_D: 0.428 Loss_G: 1.712 D(x): 0.788 D(G(z)): 0.170/0.185\n",
      "[30/30][129/235] Loss_D: 1.045 Loss_G: 0.768 D(x): 0.846 D(G(z)): 0.581/0.468\n",
      "[30/30][193/235] Loss_D: 1.365 Loss_G: 0.766 D(x): 0.619 D(G(z)): 0.581/0.470\n"
     ]
    }
   ],
   "source": [
    "epochs = 30\n",
    "criterion = nn.BCELoss()    # バイナリークロスエントロピー（Sigmoid関数無し）\n",
    "outf = '../GAN/CGAN/mnist'\n",
    "dispinterval = 64\n",
    "testgen_interval = 5\n",
    "\n",
    "\n",
    "D_losses, G_losses, D_x_out, D_G_z1_out, D_G_z2_out = ganf.train_cgan(epochs, dl, classes, device, nz, cdisc, cgene, \n",
    "                                                                     criterion, optimizerG, optimizerD, \n",
    "                                                                     dispinterval,\n",
    "                                                                     testgen_interval, fixed_noise_label, outf)"
   ]
  },
  {
   "cell_type": "code",
   "execution_count": 13,
   "id": "b00ab8f0",
   "metadata": {
    "scrolled": true
   },
   "outputs": [
    {
     "data": {
      "image/png": "[encoded data removed]",
      "text/plain": [
       "<Figure size 864x576 with 2 Axes>"
      ]
     },
     "metadata": {
      "needs_background": "light"
     },
     "output_type": "display_data"
    }
   ],
   "source": [
    "ganf.display_GAN_curv(12, 8, 10, 10, D_losses, G_losses, D_x_out, D_G_z1_out, D_G_z2_out)"
   ]
  },
  {
   "cell_type": "code",
   "execution_count": null,
   "id": "e628ccf6",
   "metadata": {},
   "outputs": [],
   "source": []
  },
  {
   "cell_type": "code",
   "execution_count": 18,
   "id": "7d61e7d6",
   "metadata": {},
   "outputs": [],
   "source": [
    "#fashion-mnist\n",
    "batch_size = 256\n",
    "workers = 2\n",
    "\n",
    "#num_workersは、ミニバッチを返す時の並列実行数、高速化のため\n",
    "#最大でCPUの論理コア数\n",
    "dl = DataLoader(fmset, batch_size = batch_size, shuffle=True, num_workers=int(workers))\n",
    "\n",
    "\n",
    "criterion = nn.BCELoss()\n",
    "nz = 100\n",
    "device = torch.device('cuda:0' if torch.cuda.is_available() else 'cpu')\n",
    "\n",
    "\n",
    "#固定ノイズ\n",
    "fixed_noise = torch.randn(batch_size, nz, 1, 1, device=device)\n",
    "# 確認用のラベル。0〜9のラベルの繰り返し\n",
    "fixed_label = [i for i in range(10)] * (batch_size // 10)\n",
    "for i in range(batch_size % 10):\n",
    "    fixed_label.append(i)\n",
    "fixed_label = torch.tensor(fixed_label, dtype=torch.long, device=device)\n",
    "# 確認用のノイズとラベルを連結\n",
    "fixed_noise_label = ganf.concat_noise_label(fixed_noise, fixed_label, device, classes)\n",
    "\n",
    "\n",
    "\n",
    "\n",
    "# オプティマイザ−のセットアップ\n",
    "lr = 0.0002\n",
    "beta1 = 0.5\n",
    "optimizerD = optim.Adam(cdisc.parameters(), lr=lr, betas=(beta1, 0.999), weight_decay=1e-5)  # 識別器D用\n",
    "optimizerG = optim.Adam(cgene.parameters(), lr=lr, betas=(beta1, 0.999), weight_decay=1e-5)  # 生成器G用"
   ]
  },
  {
   "cell_type": "code",
   "execution_count": 19,
   "id": "14441404",
   "metadata": {
    "scrolled": true
   },
   "outputs": [
    {
     "name": "stdout",
     "output_type": "stream",
     "text": [
      "[1/30][1/235] Loss_D: 1.415 Loss_G: 1.384 D(x): 0.568 D(G(z)): 0.560/0.263\n",
      "[1/30][65/235] Loss_D: 0.074 Loss_G: 10.605 D(x): 0.991 D(G(z)): 0.060/0.000\n",
      "[1/30][129/235] Loss_D: 0.075 Loss_G: 5.062 D(x): 0.963 D(G(z)): 0.030/0.010\n",
      "[1/30][193/235] Loss_D: 0.424 Loss_G: 4.466 D(x): 0.788 D(G(z)): 0.061/0.020\n",
      "[2/30][1/235] Loss_D: 0.224 Loss_G: 3.945 D(x): 0.958 D(G(z)): 0.153/0.027\n",
      "[2/30][65/235] Loss_D: 0.888 Loss_G: 2.068 D(x): 0.663 D(G(z)): 0.267/0.167\n",
      "[2/30][129/235] Loss_D: 1.074 Loss_G: 1.973 D(x): 0.754 D(G(z)): 0.514/0.164\n",
      "[2/30][193/235] Loss_D: 0.629 Loss_G: 2.964 D(x): 0.812 D(G(z)): 0.312/0.068\n",
      "[3/30][1/235] Loss_D: 0.740 Loss_G: 1.710 D(x): 0.630 D(G(z)): 0.186/0.219\n",
      "[3/30][65/235] Loss_D: 0.936 Loss_G: 1.552 D(x): 0.469 D(G(z)): 0.060/0.254\n",
      "[3/30][129/235] Loss_D: 1.277 Loss_G: 3.322 D(x): 0.923 D(G(z)): 0.649/0.051\n",
      "[3/30][193/235] Loss_D: 1.158 Loss_G: 0.639 D(x): 0.420 D(G(z)): 0.142/0.558\n",
      "[4/30][1/235] Loss_D: 0.994 Loss_G: 2.378 D(x): 0.723 D(G(z)): 0.433/0.125\n",
      "[4/30][65/235] Loss_D: 0.892 Loss_G: 1.585 D(x): 0.602 D(G(z)): 0.252/0.239\n",
      "[4/30][129/235] Loss_D: 0.894 Loss_G: 1.562 D(x): 0.699 D(G(z)): 0.367/0.238\n",
      "[4/30][193/235] Loss_D: 0.835 Loss_G: 1.316 D(x): 0.630 D(G(z)): 0.267/0.297\n",
      "[5/30][1/235] Loss_D: 1.006 Loss_G: 2.047 D(x): 0.742 D(G(z)): 0.452/0.185\n",
      "[5/30][65/235] Loss_D: 0.958 Loss_G: 1.278 D(x): 0.613 D(G(z)): 0.307/0.321\n",
      "[5/30][129/235] Loss_D: 1.015 Loss_G: 0.857 D(x): 0.489 D(G(z)): 0.191/0.465\n",
      "[5/30][193/235] Loss_D: 1.007 Loss_G: 2.150 D(x): 0.785 D(G(z)): 0.491/0.143\n",
      "[6/30][1/235] Loss_D: 0.944 Loss_G: 1.427 D(x): 0.652 D(G(z)): 0.342/0.271\n",
      "[6/30][65/235] Loss_D: 0.947 Loss_G: 1.580 D(x): 0.662 D(G(z)): 0.370/0.243\n",
      "[6/30][129/235] Loss_D: 1.617 Loss_G: 3.285 D(x): 0.927 D(G(z)): 0.748/0.048\n",
      "[6/30][193/235] Loss_D: 0.843 Loss_G: 1.502 D(x): 0.647 D(G(z)): 0.296/0.256\n",
      "[7/30][1/235] Loss_D: 1.021 Loss_G: 1.827 D(x): 0.764 D(G(z)): 0.480/0.188\n",
      "[7/30][65/235] Loss_D: 1.041 Loss_G: 1.183 D(x): 0.569 D(G(z)): 0.326/0.349\n",
      "[7/30][129/235] Loss_D: 1.024 Loss_G: 2.229 D(x): 0.738 D(G(z)): 0.477/0.131\n",
      "[7/30][193/235] Loss_D: 1.421 Loss_G: 2.623 D(x): 0.834 D(G(z)): 0.656/0.098\n",
      "[8/30][1/235] Loss_D: 0.901 Loss_G: 2.036 D(x): 0.692 D(G(z)): 0.368/0.158\n",
      "[8/30][65/235] Loss_D: 0.951 Loss_G: 1.759 D(x): 0.761 D(G(z)): 0.444/0.204\n",
      "[8/30][129/235] Loss_D: 1.047 Loss_G: 1.602 D(x): 0.606 D(G(z)): 0.369/0.246\n",
      "[8/30][193/235] Loss_D: 0.910 Loss_G: 1.081 D(x): 0.563 D(G(z)): 0.229/0.384\n",
      "[9/30][1/235] Loss_D: 1.184 Loss_G: 1.860 D(x): 0.839 D(G(z)): 0.586/0.190\n",
      "[9/30][65/235] Loss_D: 1.245 Loss_G: 2.769 D(x): 0.865 D(G(z)): 0.623/0.077\n",
      "[9/30][129/235] Loss_D: 0.885 Loss_G: 2.012 D(x): 0.757 D(G(z)): 0.414/0.155\n",
      "[9/30][193/235] Loss_D: 1.109 Loss_G: 0.973 D(x): 0.454 D(G(z)): 0.208/0.409\n",
      "[10/30][1/235] Loss_D: 0.915 Loss_G: 1.951 D(x): 0.723 D(G(z)): 0.400/0.175\n",
      "[10/30][65/235] Loss_D: 1.085 Loss_G: 0.786 D(x): 0.450 D(G(z)): 0.162/0.500\n",
      "[10/30][129/235] Loss_D: 0.989 Loss_G: 1.740 D(x): 0.738 D(G(z)): 0.451/0.207\n",
      "[10/30][193/235] Loss_D: 0.924 Loss_G: 1.432 D(x): 0.661 D(G(z)): 0.353/0.268\n",
      "[11/30][1/235] Loss_D: 1.012 Loss_G: 1.331 D(x): 0.585 D(G(z)): 0.302/0.303\n",
      "[11/30][65/235] Loss_D: 0.834 Loss_G: 1.675 D(x): 0.668 D(G(z)): 0.312/0.214\n",
      "[11/30][129/235] Loss_D: 1.139 Loss_G: 2.093 D(x): 0.844 D(G(z)): 0.577/0.154\n",
      "[11/30][193/235] Loss_D: 1.000 Loss_G: 1.095 D(x): 0.666 D(G(z)): 0.404/0.363\n",
      "[12/30][1/235] Loss_D: 0.901 Loss_G: 1.133 D(x): 0.563 D(G(z)): 0.218/0.363\n",
      "[12/30][65/235] Loss_D: 0.849 Loss_G: 1.756 D(x): 0.713 D(G(z)): 0.355/0.201\n",
      "[12/30][129/235] Loss_D: 0.854 Loss_G: 1.543 D(x): 0.717 D(G(z)): 0.363/0.255\n",
      "[12/30][193/235] Loss_D: 0.873 Loss_G: 0.857 D(x): 0.529 D(G(z)): 0.151/0.472\n",
      "[13/30][1/235] Loss_D: 0.918 Loss_G: 2.441 D(x): 0.779 D(G(z)): 0.426/0.117\n",
      "[13/30][65/235] Loss_D: 0.773 Loss_G: 1.447 D(x): 0.633 D(G(z)): 0.227/0.270\n",
      "[13/30][129/235] Loss_D: 0.947 Loss_G: 1.118 D(x): 0.575 D(G(z)): 0.258/0.373\n",
      "[13/30][193/235] Loss_D: 1.031 Loss_G: 0.997 D(x): 0.499 D(G(z)): 0.202/0.409\n",
      "[14/30][1/235] Loss_D: 1.138 Loss_G: 2.126 D(x): 0.770 D(G(z)): 0.527/0.162\n",
      "[14/30][65/235] Loss_D: 0.816 Loss_G: 1.969 D(x): 0.679 D(G(z)): 0.300/0.181\n",
      "[14/30][129/235] Loss_D: 0.842 Loss_G: 2.280 D(x): 0.769 D(G(z)): 0.399/0.131\n",
      "[14/30][193/235] Loss_D: 0.955 Loss_G: 2.150 D(x): 0.783 D(G(z)): 0.452/0.143\n",
      "[15/30][1/235] Loss_D: 0.789 Loss_G: 1.687 D(x): 0.705 D(G(z)): 0.315/0.217\n",
      "[15/30][65/235] Loss_D: 0.940 Loss_G: 1.036 D(x): 0.564 D(G(z)): 0.244/0.393\n",
      "[15/30][129/235] Loss_D: 0.877 Loss_G: 1.486 D(x): 0.628 D(G(z)): 0.285/0.262\n",
      "[15/30][193/235] Loss_D: 0.899 Loss_G: 1.649 D(x): 0.655 D(G(z)): 0.323/0.228\n",
      "[16/30][1/235] Loss_D: 1.871 Loss_G: 3.167 D(x): 0.928 D(G(z)): 0.778/0.068\n",
      "[16/30][65/235] Loss_D: 0.865 Loss_G: 1.547 D(x): 0.701 D(G(z)): 0.354/0.251\n",
      "[16/30][129/235] Loss_D: 0.889 Loss_G: 2.137 D(x): 0.755 D(G(z)): 0.411/0.143\n",
      "[16/30][193/235] Loss_D: 0.891 Loss_G: 1.691 D(x): 0.675 D(G(z)): 0.344/0.216\n",
      "[17/30][1/235] Loss_D: 0.953 Loss_G: 1.205 D(x): 0.558 D(G(z)): 0.222/0.348\n",
      "[17/30][65/235] Loss_D: 0.802 Loss_G: 2.163 D(x): 0.803 D(G(z)): 0.408/0.135\n",
      "[17/30][129/235] Loss_D: 0.883 Loss_G: 2.127 D(x): 0.780 D(G(z)): 0.417/0.144\n",
      "[17/30][193/235] Loss_D: 1.042 Loss_G: 2.372 D(x): 0.821 D(G(z)): 0.518/0.116\n",
      "[18/30][1/235] Loss_D: 1.497 Loss_G: 0.751 D(x): 0.347 D(G(z)): 0.093/0.530\n",
      "[18/30][65/235] Loss_D: 0.878 Loss_G: 1.297 D(x): 0.603 D(G(z)): 0.261/0.315\n",
      "[18/30][129/235] Loss_D: 0.728 Loss_G: 2.054 D(x): 0.802 D(G(z)): 0.362/0.159\n",
      "[18/30][193/235] Loss_D: 1.120 Loss_G: 3.887 D(x): 0.902 D(G(z)): 0.594/0.029\n",
      "[19/30][1/235] Loss_D: 1.089 Loss_G: 1.047 D(x): 0.521 D(G(z)): 0.218/0.418\n",
      "[19/30][65/235] Loss_D: 0.726 Loss_G: 1.445 D(x): 0.676 D(G(z)): 0.242/0.277\n",
      "[19/30][129/235] Loss_D: 0.707 Loss_G: 1.748 D(x): 0.647 D(G(z)): 0.185/0.214\n",
      "[19/30][193/235] Loss_D: 0.809 Loss_G: 1.809 D(x): 0.708 D(G(z)): 0.316/0.192\n",
      "[20/30][1/235] Loss_D: 0.905 Loss_G: 1.624 D(x): 0.681 D(G(z)): 0.330/0.263\n",
      "[20/30][65/235] Loss_D: 0.862 Loss_G: 1.769 D(x): 0.700 D(G(z)): 0.346/0.207\n",
      "[20/30][129/235] Loss_D: 0.836 Loss_G: 1.599 D(x): 0.686 D(G(z)): 0.295/0.263\n",
      "[20/30][193/235] Loss_D: 0.866 Loss_G: 1.083 D(x): 0.572 D(G(z)): 0.180/0.393\n",
      "[21/30][1/235] Loss_D: 0.890 Loss_G: 1.485 D(x): 0.640 D(G(z)): 0.270/0.294\n",
      "[21/30][65/235] Loss_D: 0.883 Loss_G: 2.934 D(x): 0.823 D(G(z)): 0.455/0.071\n",
      "[21/30][129/235] Loss_D: 0.779 Loss_G: 1.413 D(x): 0.694 D(G(z)): 0.288/0.307\n",
      "[21/30][193/235] Loss_D: 0.955 Loss_G: 1.377 D(x): 0.522 D(G(z)): 0.130/0.309\n",
      "[22/30][1/235] Loss_D: 1.052 Loss_G: 2.803 D(x): 0.821 D(G(z)): 0.491/0.088\n",
      "[22/30][65/235] Loss_D: 0.820 Loss_G: 2.402 D(x): 0.776 D(G(z)): 0.379/0.118\n",
      "[22/30][129/235] Loss_D: 0.848 Loss_G: 2.440 D(x): 0.809 D(G(z)): 0.427/0.117\n",
      "[22/30][193/235] Loss_D: 0.783 Loss_G: 1.991 D(x): 0.712 D(G(z)): 0.310/0.184\n",
      "[23/30][1/235] Loss_D: 0.782 Loss_G: 1.899 D(x): 0.690 D(G(z)): 0.263/0.209\n",
      "[23/30][65/235] Loss_D: 1.005 Loss_G: 1.155 D(x): 0.459 D(G(z)): 0.084/0.369\n",
      "[23/30][129/235] Loss_D: 0.816 Loss_G: 2.349 D(x): 0.815 D(G(z)): 0.416/0.120\n",
      "[23/30][193/235] Loss_D: 0.714 Loss_G: 1.362 D(x): 0.639 D(G(z)): 0.191/0.298\n",
      "[24/30][1/235] Loss_D: 0.752 Loss_G: 1.605 D(x): 0.661 D(G(z)): 0.221/0.259\n",
      "[24/30][65/235] Loss_D: 0.738 Loss_G: 2.289 D(x): 0.816 D(G(z)): 0.366/0.145\n",
      "[24/30][129/235] Loss_D: 0.747 Loss_G: 1.524 D(x): 0.615 D(G(z)): 0.172/0.271\n",
      "[24/30][193/235] Loss_D: 0.676 Loss_G: 1.589 D(x): 0.636 D(G(z)): 0.149/0.250\n",
      "[25/30][1/235] Loss_D: 0.963 Loss_G: 1.115 D(x): 0.495 D(G(z)): 0.124/0.401\n",
      "[25/30][65/235] Loss_D: 0.839 Loss_G: 1.392 D(x): 0.534 D(G(z)): 0.092/0.299\n",
      "[25/30][129/235] Loss_D: 0.738 Loss_G: 2.636 D(x): 0.848 D(G(z)): 0.392/0.092\n",
      "[25/30][193/235] Loss_D: 0.695 Loss_G: 1.529 D(x): 0.672 D(G(z)): 0.194/0.261\n",
      "[26/30][1/235] Loss_D: 1.384 Loss_G: 4.892 D(x): 0.915 D(G(z)): 0.644/0.012\n",
      "[26/30][65/235] Loss_D: 0.864 Loss_G: 1.588 D(x): 0.685 D(G(z)): 0.331/0.238\n",
      "[26/30][129/235] Loss_D: 0.728 Loss_G: 1.645 D(x): 0.645 D(G(z)): 0.195/0.240\n",
      "[26/30][193/235] Loss_D: 0.690 Loss_G: 2.141 D(x): 0.742 D(G(z)): 0.282/0.152\n",
      "[27/30][1/235] Loss_D: 0.885 Loss_G: 1.019 D(x): 0.551 D(G(z)): 0.161/0.416\n",
      "[27/30][65/235] Loss_D: 0.878 Loss_G: 1.837 D(x): 0.783 D(G(z)): 0.408/0.212\n",
      "[27/30][129/235] Loss_D: 0.684 Loss_G: 1.836 D(x): 0.724 D(G(z)): 0.257/0.197\n"
     ]
    },
    {
     "name": "stdout",
     "output_type": "stream",
     "text": [
      "[27/30][193/235] Loss_D: 0.688 Loss_G: 2.137 D(x): 0.743 D(G(z)): 0.278/0.151\n",
      "[28/30][1/235] Loss_D: 0.655 Loss_G: 2.339 D(x): 0.823 D(G(z)): 0.325/0.129\n",
      "[28/30][65/235] Loss_D: 0.639 Loss_G: 2.126 D(x): 0.732 D(G(z)): 0.240/0.157\n",
      "[28/30][129/235] Loss_D: 0.606 Loss_G: 2.783 D(x): 0.863 D(G(z)): 0.335/0.081\n",
      "[28/30][193/235] Loss_D: 0.843 Loss_G: 2.671 D(x): 0.789 D(G(z)): 0.399/0.090\n",
      "[29/30][1/235] Loss_D: 0.750 Loss_G: 3.273 D(x): 0.876 D(G(z)): 0.391/0.051\n",
      "[29/30][65/235] Loss_D: 0.706 Loss_G: 1.505 D(x): 0.631 D(G(z)): 0.154/0.278\n",
      "[29/30][129/235] Loss_D: 0.675 Loss_G: 2.082 D(x): 0.756 D(G(z)): 0.281/0.157\n",
      "[29/30][193/235] Loss_D: 1.102 Loss_G: 0.867 D(x): 0.426 D(G(z)): 0.080/0.485\n",
      "[30/30][1/235] Loss_D: 0.965 Loss_G: 0.806 D(x): 0.506 D(G(z)): 0.107/0.522\n",
      "[30/30][65/235] Loss_D: 0.618 Loss_G: 2.477 D(x): 0.816 D(G(z)): 0.304/0.113\n",
      "[30/30][129/235] Loss_D: 0.731 Loss_G: 2.168 D(x): 0.728 D(G(z)): 0.282/0.146\n",
      "[30/30][193/235] Loss_D: 0.878 Loss_G: 2.928 D(x): 0.828 D(G(z)): 0.438/0.072\n"
     ]
    }
   ],
   "source": [
    "epochs = 30\n",
    "criterion = nn.BCELoss()    # バイナリークロスエントロピー（Sigmoid関数無し）\n",
    "outf = '../GAN/CGAN/fm'\n",
    "dispinterval = 64\n",
    "testgen_interval = 5\n",
    "\n",
    "\n",
    "D_losses, G_losses, D_x_out, D_G_z1_out, D_G_z2_out = ganf.train_cgan(epochs, dl, classes, device, nz, cdisc, cgene, \n",
    "                                                                     criterion, optimizerG, optimizerD, \n",
    "                                                                     dispinterval,\n",
    "                                                                     testgen_interval, fixed_noise_label, outf)"
   ]
  },
  {
   "cell_type": "code",
   "execution_count": null,
   "id": "8632f213",
   "metadata": {},
   "outputs": [],
   "source": []
  },
  {
   "cell_type": "code",
   "execution_count": 5,
   "id": "56ff035c",
   "metadata": {
    "scrolled": true
   },
   "outputs": [
    {
     "data": {
      "text/plain": [
       "===============================================================================================\n",
       "Layer (type:depth-idx)                        Output Shape              Param #\n",
       "===============================================================================================\n",
       "Generator                                     --                        --\n",
       "├─Sequential: 1-1                             [1, 3, 32, 32]            --\n",
       "│    └─Convtp_Bn_ReLu: 2-1                    [1, 512, 3, 3]            --\n",
       "│    │    └─Sequential: 3-1                   [1, 512, 3, 3]            --\n",
       "│    │    │    └─ConvTranspose2d: 4-1         [1, 512, 3, 3]            507,392\n",
       "│    │    │    └─BatchNorm2d: 4-2             [1, 512, 3, 3]            1,024\n",
       "│    │    │    └─ReLU: 4-3                    [1, 512, 3, 3]            --\n",
       "│    └─Convtp_Bn_ReLu: 2-2                    [1, 256, 8, 8]            --\n",
       "│    │    └─Sequential: 3-2                   [1, 256, 8, 8]            --\n",
       "│    │    │    └─ConvTranspose2d: 4-4         [1, 256, 8, 8]            2,097,408\n",
       "│    │    │    └─BatchNorm2d: 4-5             [1, 256, 8, 8]            512\n",
       "│    │    │    └─ReLU: 4-6                    [1, 256, 8, 8]            --\n",
       "│    └─Convtp_Bn_ReLu: 2-3                    [1, 128, 16, 16]          --\n",
       "│    │    └─Sequential: 3-3                   [1, 128, 16, 16]          --\n",
       "│    │    │    └─ConvTranspose2d: 4-7         [1, 128, 16, 16]          524,416\n",
       "│    │    │    └─BatchNorm2d: 4-8             [1, 128, 16, 16]          256\n",
       "│    │    │    └─ReLU: 4-9                    [1, 128, 16, 16]          --\n",
       "│    └─Convtp_Tanh: 2-4                       [1, 3, 32, 32]            --\n",
       "│    │    └─Sequential: 3-4                   [1, 3, 32, 32]            --\n",
       "│    │    │    └─ConvTranspose2d: 4-10        [1, 3, 32, 32]            6,147\n",
       "│    │    │    └─Tanh: 4-11                   [1, 3, 32, 32]            --\n",
       "===============================================================================================\n",
       "Total params: 3,137,155\n",
       "Trainable params: 3,137,155\n",
       "Non-trainable params: 0\n",
       "Total mult-adds (M): 279.35\n",
       "===============================================================================================\n",
       "Input size (MB): 0.00\n",
       "Forward/backward pass size (MB): 0.88\n",
       "Params size (MB): 12.55\n",
       "Estimated Total Size (MB): 13.43\n",
       "==============================================================================================="
      ]
     },
     "execution_count": 5,
     "metadata": {},
     "output_type": "execute_result"
    }
   ],
   "source": [
    "#cifar10\n",
    "classes = 10\n",
    "nz = 100\n",
    "\n",
    "chlist = [nz + classes, 512, 256, 128, 3]\n",
    "klist = [3, 4, 4, 4]\n",
    "strdlist = [1, 2, 2, 2]\n",
    "padlist = [0, 0, 1, 1]\n",
    "opadlist = [0, 0, 0, 0]\n",
    "\n",
    "gencifar = ganmd.Generator(chlist, klist, strdlist, padlist, opadlist)\n",
    "\n",
    "summary(model = gencifar, input_size = (1, 110, 1, 1), depth = 4)"
   ]
  },
  {
   "cell_type": "code",
   "execution_count": 6,
   "id": "e7619252",
   "metadata": {
    "scrolled": true
   },
   "outputs": [
    {
     "data": {
      "text/plain": [
       "==========================================================================================\n",
       "Layer (type:depth-idx)                   Output Shape              Param #\n",
       "==========================================================================================\n",
       "Discriminator                            --                        --\n",
       "├─Sequential: 1-1                        [1, 1, 1, 1]              --\n",
       "│    └─Conv_LeakyReLU: 2-1               [1, 128, 16, 16]          --\n",
       "│    │    └─Sequential: 3-1              [1, 128, 16, 16]          --\n",
       "│    │    │    └─Conv2d: 4-1             [1, 128, 16, 16]          26,752\n",
       "│    │    │    └─LeakyReLU: 4-2          [1, 128, 16, 16]          --\n",
       "│    └─Conv_Bn_LeakyReLU: 2-2            [1, 256, 8, 8]            --\n",
       "│    │    └─Sequential: 3-2              [1, 256, 8, 8]            --\n",
       "│    │    │    └─Conv2d: 4-3             [1, 256, 8, 8]            524,544\n",
       "│    │    │    └─BatchNorm2d: 4-4        [1, 256, 8, 8]            512\n",
       "│    │    │    └─LeakyReLU: 4-5          [1, 256, 8, 8]            --\n",
       "│    └─Conv_Bn_LeakyReLU: 2-3            [1, 512, 3, 3]            --\n",
       "│    │    └─Sequential: 3-3              [1, 512, 3, 3]            --\n",
       "│    │    │    └─Conv2d: 4-6             [1, 512, 3, 3]            1,180,160\n",
       "│    │    │    └─BatchNorm2d: 4-7        [1, 512, 3, 3]            1,024\n",
       "│    │    │    └─LeakyReLU: 4-8          [1, 512, 3, 3]            --\n",
       "│    └─Conv_Sigmoid: 2-4                 [1, 1, 1, 1]              --\n",
       "│    │    └─Sequential: 3-4              [1, 1, 1, 1]              --\n",
       "│    │    │    └─Conv2d: 4-9             [1, 1, 1, 1]              4,609\n",
       "│    │    │    └─Sigmoid: 4-10           [1, 1, 1, 1]              --\n",
       "==========================================================================================\n",
       "Total params: 1,737,601\n",
       "Trainable params: 1,737,601\n",
       "Non-trainable params: 0\n",
       "Total mult-adds (M): 51.05\n",
       "==========================================================================================\n",
       "Input size (MB): 0.05\n",
       "Forward/backward pass size (MB): 0.60\n",
       "Params size (MB): 6.95\n",
       "Estimated Total Size (MB): 7.60\n",
       "=========================================================================================="
      ]
     },
     "execution_count": 6,
     "metadata": {},
     "output_type": "execute_result"
    }
   ],
   "source": [
    "chlist = [classes + 3, 128, 256, 512, 1]\n",
    "klist = [4, 4, 3, 3]\n",
    "strdlist = [2, 2, 2, 1]\n",
    "padlist = [1, 1, 0, 0]\n",
    "ngsllist = [0.2, 0.2, 0.2, 0]\n",
    "\n",
    "discifar = ganmd.Discriminator(chlist, klist, strdlist, padlist, ngsllist)\n",
    "\n",
    "summary(model = discifar, input_size = (1, classes + 3, 32, 32), depth = 4)"
   ]
  },
  {
   "cell_type": "code",
   "execution_count": 9,
   "id": "22f40d40",
   "metadata": {},
   "outputs": [],
   "source": [
    "#cifar\n",
    "batch_size = 256\n",
    "workers = 2\n",
    "\n",
    "#num_workersは、ミニバッチを返す時の並列実行数、高速化のため\n",
    "#最大でCPUの論理コア数\n",
    "dl = DataLoader(cifarset, batch_size = batch_size, shuffle=True, num_workers=int(workers))\n",
    "\n",
    "\n",
    "criterion = nn.BCELoss()\n",
    "nz = 100\n",
    "device = torch.device('cuda:0' if torch.cuda.is_available() else 'cpu')\n",
    "\n",
    "\n",
    "#固定ノイズ\n",
    "fixed_noise = torch.randn(batch_size, nz, 1, 1, device=device)\n",
    "# 確認用のラベル。0〜9のラベルの繰り返し\n",
    "fixed_label = [i for i in range(10)] * (batch_size // 10)\n",
    "for i in range(batch_size % 10):\n",
    "    fixed_label.append(i)\n",
    "fixed_label = torch.tensor(fixed_label, dtype=torch.long, device=device)\n",
    "# 確認用のノイズとラベルを連結\n",
    "fixed_noise_label = ganf.concat_noise_label(fixed_noise, fixed_label, device, classes)\n",
    "\n",
    "\n",
    "\n",
    "\n",
    "# オプティマイザ−のセットアップ\n",
    "lr = 0.0002\n",
    "beta1 = 0.5\n",
    "optimizerD = optim.Adam(discifar.parameters(), lr=lr, betas=(beta1, 0.999), weight_decay=1e-5)  # 識別器D用\n",
    "optimizerG = optim.Adam(gencifar.parameters(), lr=lr, betas=(beta1, 0.999), weight_decay=1e-5)  # 生成器G用"
   ]
  },
  {
   "cell_type": "code",
   "execution_count": 10,
   "id": "a692a813",
   "metadata": {
    "scrolled": true
   },
   "outputs": [
    {
     "name": "stdout",
     "output_type": "stream",
     "text": [
      "[1/30][1/196] Loss_D: 1.399 Loss_G: 1.812 D(x): 0.527 D(G(z)): 0.521/0.169\n",
      "[1/30][65/196] Loss_D: 0.020 Loss_G: 11.978 D(x): 0.981 D(G(z)): 0.000/0.000\n",
      "[1/30][129/196] Loss_D: 0.059 Loss_G: 6.576 D(x): 0.956 D(G(z)): 0.011/0.002\n",
      "[1/30][193/196] Loss_D: 0.353 Loss_G: 3.734 D(x): 0.766 D(G(z)): 0.049/0.029\n",
      "[2/30][1/196] Loss_D: 0.763 Loss_G: 5.592 D(x): 0.911 D(G(z)): 0.460/0.004\n",
      "[2/30][65/196] Loss_D: 1.064 Loss_G: 2.968 D(x): 0.419 D(G(z)): 0.015/0.067\n",
      "[2/30][129/196] Loss_D: 0.737 Loss_G: 1.918 D(x): 0.691 D(G(z)): 0.223/0.183\n",
      "[2/30][193/196] Loss_D: 0.867 Loss_G: 1.641 D(x): 0.638 D(G(z)): 0.284/0.227\n",
      "[3/30][1/196] Loss_D: 0.843 Loss_G: 3.010 D(x): 0.798 D(G(z)): 0.423/0.061\n",
      "[3/30][65/196] Loss_D: 0.692 Loss_G: 2.268 D(x): 0.628 D(G(z)): 0.139/0.126\n",
      "[3/30][129/196] Loss_D: 0.716 Loss_G: 1.657 D(x): 0.687 D(G(z)): 0.219/0.216\n",
      "[3/30][193/196] Loss_D: 0.585 Loss_G: 3.650 D(x): 0.825 D(G(z)): 0.285/0.037\n",
      "[4/30][1/196] Loss_D: 0.835 Loss_G: 2.659 D(x): 0.755 D(G(z)): 0.364/0.096\n",
      "[4/30][65/196] Loss_D: 0.855 Loss_G: 3.345 D(x): 0.761 D(G(z)): 0.388/0.049\n",
      "[4/30][129/196] Loss_D: 0.661 Loss_G: 3.586 D(x): 0.778 D(G(z)): 0.284/0.036\n",
      "[4/30][193/196] Loss_D: 1.010 Loss_G: 4.566 D(x): 0.835 D(G(z)): 0.509/0.015\n",
      "[5/30][1/196] Loss_D: 0.471 Loss_G: 2.805 D(x): 0.877 D(G(z)): 0.258/0.086\n",
      "[5/30][65/196] Loss_D: 0.736 Loss_G: 3.194 D(x): 0.746 D(G(z)): 0.296/0.061\n",
      "[5/30][129/196] Loss_D: 0.981 Loss_G: 4.900 D(x): 0.945 D(G(z)): 0.558/0.010\n",
      "[5/30][193/196] Loss_D: 0.687 Loss_G: 2.370 D(x): 0.674 D(G(z)): 0.166/0.123\n",
      "[6/30][1/196] Loss_D: 0.624 Loss_G: 3.012 D(x): 0.728 D(G(z)): 0.199/0.071\n",
      "[6/30][65/196] Loss_D: 1.140 Loss_G: 6.046 D(x): 0.878 D(G(z)): 0.573/0.004\n",
      "[6/30][129/196] Loss_D: 0.299 Loss_G: 3.074 D(x): 0.818 D(G(z)): 0.059/0.062\n",
      "[6/30][193/196] Loss_D: 0.224 Loss_G: 3.497 D(x): 0.930 D(G(z)): 0.130/0.042\n",
      "[7/30][1/196] Loss_D: 0.277 Loss_G: 3.572 D(x): 0.820 D(G(z)): 0.044/0.040\n",
      "[7/30][65/196] Loss_D: 0.467 Loss_G: 4.515 D(x): 0.669 D(G(z)): 0.013/0.018\n",
      "[7/30][129/196] Loss_D: 0.392 Loss_G: 2.573 D(x): 0.770 D(G(z)): 0.074/0.118\n",
      "[7/30][193/196] Loss_D: 0.240 Loss_G: 3.817 D(x): 0.833 D(G(z)): 0.035/0.031\n",
      "[8/30][1/196] Loss_D: 0.516 Loss_G: 4.293 D(x): 0.658 D(G(z)): 0.013/0.022\n",
      "[8/30][65/196] Loss_D: 0.610 Loss_G: 4.080 D(x): 0.872 D(G(z)): 0.341/0.023\n",
      "[8/30][129/196] Loss_D: 0.337 Loss_G: 3.882 D(x): 0.935 D(G(z)): 0.219/0.029\n",
      "[8/30][193/196] Loss_D: 0.330 Loss_G: 5.313 D(x): 0.752 D(G(z)): 0.007/0.008\n",
      "[9/30][1/196] Loss_D: 0.938 Loss_G: 6.305 D(x): 0.982 D(G(z)): 0.548/0.003\n",
      "[9/30][65/196] Loss_D: 0.563 Loss_G: 5.159 D(x): 0.959 D(G(z)): 0.360/0.010\n",
      "[9/30][129/196] Loss_D: 0.251 Loss_G: 5.541 D(x): 0.801 D(G(z)): 0.003/0.006\n",
      "[9/30][193/196] Loss_D: 0.727 Loss_G: 4.557 D(x): 0.554 D(G(z)): 0.006/0.019\n",
      "[10/30][1/196] Loss_D: 0.158 Loss_G: 5.011 D(x): 0.876 D(G(z)): 0.013/0.010\n",
      "[10/30][65/196] Loss_D: 0.217 Loss_G: 3.955 D(x): 0.916 D(G(z)): 0.110/0.029\n",
      "[10/30][129/196] Loss_D: 0.316 Loss_G: 3.194 D(x): 0.885 D(G(z)): 0.155/0.062\n",
      "[10/30][193/196] Loss_D: 0.200 Loss_G: 4.828 D(x): 0.844 D(G(z)): 0.017/0.013\n",
      "[11/30][1/196] Loss_D: 1.360 Loss_G: 7.777 D(x): 0.954 D(G(z)): 0.677/0.001\n",
      "[11/30][65/196] Loss_D: 0.608 Loss_G: 3.961 D(x): 0.863 D(G(z)): 0.319/0.032\n",
      "[11/30][129/196] Loss_D: 0.489 Loss_G: 2.566 D(x): 0.831 D(G(z)): 0.221/0.116\n",
      "[11/30][193/196] Loss_D: 0.515 Loss_G: 5.194 D(x): 0.957 D(G(z)): 0.343/0.009\n",
      "[12/30][1/196] Loss_D: 0.091 Loss_G: 4.426 D(x): 0.927 D(G(z)): 0.010/0.025\n",
      "[12/30][65/196] Loss_D: 0.168 Loss_G: 4.188 D(x): 0.930 D(G(z)): 0.081/0.027\n",
      "[12/30][129/196] Loss_D: 0.191 Loss_G: 3.646 D(x): 0.908 D(G(z)): 0.080/0.041\n",
      "[12/30][193/196] Loss_D: 0.233 Loss_G: 3.869 D(x): 0.881 D(G(z)): 0.077/0.033\n",
      "[13/30][1/196] Loss_D: 0.332 Loss_G: 3.364 D(x): 0.834 D(G(z)): 0.114/0.054\n",
      "[13/30][65/196] Loss_D: 2.113 Loss_G: 0.864 D(x): 0.253 D(G(z)): 0.016/0.525\n",
      "[13/30][129/196] Loss_D: 0.288 Loss_G: 3.797 D(x): 0.887 D(G(z)): 0.137/0.038\n",
      "[13/30][193/196] Loss_D: 0.335 Loss_G: 5.130 D(x): 0.987 D(G(z)): 0.254/0.009\n",
      "[14/30][1/196] Loss_D: 0.077 Loss_G: 3.805 D(x): 0.986 D(G(z)): 0.060/0.034\n",
      "[14/30][65/196] Loss_D: 0.247 Loss_G: 3.804 D(x): 0.927 D(G(z)): 0.145/0.035\n",
      "[14/30][129/196] Loss_D: 0.164 Loss_G: 4.161 D(x): 0.963 D(G(z)): 0.109/0.023\n",
      "[14/30][193/196] Loss_D: 0.293 Loss_G: 3.638 D(x): 0.893 D(G(z)): 0.142/0.040\n",
      "[15/30][1/196] Loss_D: 0.397 Loss_G: 3.568 D(x): 0.752 D(G(z)): 0.064/0.055\n",
      "[15/30][65/196] Loss_D: 0.160 Loss_G: 5.737 D(x): 0.867 D(G(z)): 0.003/0.006\n",
      "[15/30][129/196] Loss_D: 0.259 Loss_G: 4.708 D(x): 0.800 D(G(z)): 0.011/0.018\n",
      "[15/30][193/196] Loss_D: 0.340 Loss_G: 3.127 D(x): 0.853 D(G(z)): 0.147/0.068\n",
      "[16/30][1/196] Loss_D: 0.416 Loss_G: 4.827 D(x): 0.980 D(G(z)): 0.286/0.013\n",
      "[16/30][65/196] Loss_D: 1.464 Loss_G: 4.853 D(x): 0.314 D(G(z)): 0.001/0.013\n",
      "[16/30][129/196] Loss_D: 0.073 Loss_G: 4.664 D(x): 0.946 D(G(z)): 0.014/0.017\n",
      "[16/30][193/196] Loss_D: 0.146 Loss_G: 4.081 D(x): 0.967 D(G(z)): 0.099/0.025\n",
      "[17/30][1/196] Loss_D: 0.148 Loss_G: 4.793 D(x): 0.881 D(G(z)): 0.012/0.015\n",
      "[17/30][65/196] Loss_D: 0.395 Loss_G: 5.271 D(x): 0.714 D(G(z)): 0.001/0.012\n",
      "[17/30][129/196] Loss_D: 0.498 Loss_G: 2.981 D(x): 0.796 D(G(z)): 0.168/0.084\n",
      "[17/30][193/196] Loss_D: 0.266 Loss_G: 4.073 D(x): 0.941 D(G(z)): 0.173/0.024\n",
      "[18/30][1/196] Loss_D: 0.106 Loss_G: 4.508 D(x): 0.938 D(G(z)): 0.038/0.017\n",
      "[18/30][65/196] Loss_D: 0.126 Loss_G: 4.253 D(x): 0.972 D(G(z)): 0.085/0.025\n",
      "[18/30][129/196] Loss_D: 0.414 Loss_G: 5.433 D(x): 0.970 D(G(z)): 0.288/0.007\n",
      "[18/30][193/196] Loss_D: 0.138 Loss_G: 4.141 D(x): 0.957 D(G(z)): 0.084/0.025\n",
      "[19/30][1/196] Loss_D: 0.138 Loss_G: 3.699 D(x): 0.935 D(G(z)): 0.063/0.036\n",
      "[19/30][65/196] Loss_D: 0.082 Loss_G: 6.101 D(x): 0.926 D(G(z)): 0.002/0.004\n",
      "[19/30][129/196] Loss_D: 0.525 Loss_G: 2.713 D(x): 0.797 D(G(z)): 0.211/0.094\n",
      "[19/30][193/196] Loss_D: 0.165 Loss_G: 3.614 D(x): 0.896 D(G(z)): 0.041/0.048\n",
      "[20/30][1/196] Loss_D: 0.066 Loss_G: 3.932 D(x): 0.990 D(G(z)): 0.052/0.037\n",
      "[20/30][65/196] Loss_D: 0.136 Loss_G: 4.909 D(x): 0.977 D(G(z)): 0.100/0.011\n",
      "[20/30][129/196] Loss_D: 0.624 Loss_G: 5.017 D(x): 0.595 D(G(z)): 0.001/0.014\n",
      "[20/30][193/196] Loss_D: 0.270 Loss_G: 4.465 D(x): 0.905 D(G(z)): 0.140/0.019\n",
      "[21/30][1/196] Loss_D: 0.107 Loss_G: 4.358 D(x): 0.931 D(G(z)): 0.030/0.023\n",
      "[21/30][65/196] Loss_D: 0.049 Loss_G: 4.432 D(x): 0.979 D(G(z)): 0.027/0.019\n",
      "[21/30][129/196] Loss_D: 0.149 Loss_G: 4.260 D(x): 0.945 D(G(z)): 0.082/0.021\n",
      "[21/30][193/196] Loss_D: 0.138 Loss_G: 3.842 D(x): 0.956 D(G(z)): 0.083/0.036\n",
      "[22/30][1/196] Loss_D: 0.155 Loss_G: 4.317 D(x): 0.968 D(G(z)): 0.104/0.024\n",
      "[22/30][65/196] Loss_D: 0.041 Loss_G: 4.737 D(x): 0.974 D(G(z)): 0.015/0.014\n",
      "[22/30][129/196] Loss_D: 0.066 Loss_G: 4.108 D(x): 0.962 D(G(z)): 0.025/0.026\n",
      "[22/30][193/196] Loss_D: 0.204 Loss_G: 4.170 D(x): 0.839 D(G(z)): 0.011/0.029\n",
      "[23/30][1/196] Loss_D: 0.093 Loss_G: 4.661 D(x): 0.949 D(G(z)): 0.034/0.016\n",
      "[23/30][65/196] Loss_D: 0.200 Loss_G: 3.350 D(x): 0.881 D(G(z)): 0.057/0.058\n",
      "[23/30][129/196] Loss_D: 0.226 Loss_G: 6.253 D(x): 0.993 D(G(z)): 0.181/0.003\n",
      "[23/30][193/196] Loss_D: 0.281 Loss_G: 4.179 D(x): 0.866 D(G(z)): 0.097/0.032\n",
      "[24/30][1/196] Loss_D: 0.463 Loss_G: 2.951 D(x): 0.788 D(G(z)): 0.143/0.088\n",
      "[24/30][65/196] Loss_D: 0.212 Loss_G: 4.564 D(x): 0.944 D(G(z)): 0.130/0.017\n",
      "[24/30][129/196] Loss_D: 0.105 Loss_G: 4.055 D(x): 0.955 D(G(z)): 0.053/0.026\n",
      "[24/30][193/196] Loss_D: 0.158 Loss_G: 4.077 D(x): 0.966 D(G(z)): 0.109/0.026\n",
      "[25/30][1/196] Loss_D: 0.171 Loss_G: 3.919 D(x): 0.965 D(G(z)): 0.116/0.032\n",
      "[25/30][65/196] Loss_D: 0.104 Loss_G: 4.611 D(x): 0.985 D(G(z)): 0.081/0.016\n",
      "[25/30][129/196] Loss_D: 0.053 Loss_G: 4.467 D(x): 0.972 D(G(z)): 0.024/0.018\n",
      "[25/30][193/196] Loss_D: 0.078 Loss_G: 4.992 D(x): 0.987 D(G(z)): 0.060/0.013\n",
      "[26/30][1/196] Loss_D: 0.023 Loss_G: 4.914 D(x): 0.988 D(G(z)): 0.011/0.013\n",
      "[26/30][65/196] Loss_D: 1.355 Loss_G: 1.849 D(x): 0.412 D(G(z)): 0.091/0.296\n",
      "[26/30][129/196] Loss_D: 0.192 Loss_G: 4.188 D(x): 0.874 D(G(z)): 0.043/0.029\n",
      "[26/30][193/196] Loss_D: 0.033 Loss_G: 4.909 D(x): 0.983 D(G(z)): 0.016/0.012\n",
      "[27/30][1/196] Loss_D: 0.105 Loss_G: 4.080 D(x): 0.920 D(G(z)): 0.017/0.028\n",
      "[27/30][65/196] Loss_D: 0.066 Loss_G: 4.341 D(x): 0.948 D(G(z)): 0.010/0.021\n",
      "[27/30][129/196] Loss_D: 0.281 Loss_G: 4.526 D(x): 0.786 D(G(z)): 0.009/0.022\n"
     ]
    },
    {
     "name": "stdout",
     "output_type": "stream",
     "text": [
      "[27/30][193/196] Loss_D: 0.460 Loss_G: 1.475 D(x): 0.711 D(G(z)): 0.042/0.334\n",
      "[28/30][1/196] Loss_D: 0.463 Loss_G: 2.689 D(x): 0.708 D(G(z)): 0.021/0.176\n",
      "[28/30][65/196] Loss_D: 0.076 Loss_G: 4.490 D(x): 0.945 D(G(z)): 0.016/0.021\n",
      "[28/30][129/196] Loss_D: 0.126 Loss_G: 4.901 D(x): 0.985 D(G(z)): 0.101/0.012\n",
      "[28/30][193/196] Loss_D: 0.755 Loss_G: 2.409 D(x): 0.543 D(G(z)): 0.014/0.144\n",
      "[29/30][1/196] Loss_D: 0.197 Loss_G: 3.902 D(x): 0.961 D(G(z)): 0.132/0.032\n",
      "[29/30][65/196] Loss_D: 0.147 Loss_G: 3.938 D(x): 0.990 D(G(z)): 0.121/0.030\n",
      "[29/30][129/196] Loss_D: 0.166 Loss_G: 4.654 D(x): 0.965 D(G(z)): 0.116/0.015\n",
      "[29/30][193/196] Loss_D: 0.024 Loss_G: 5.129 D(x): 0.981 D(G(z)): 0.005/0.011\n",
      "[30/30][1/196] Loss_D: 0.212 Loss_G: 6.362 D(x): 0.993 D(G(z)): 0.156/0.003\n",
      "[30/30][65/196] Loss_D: 0.039 Loss_G: 6.548 D(x): 0.965 D(G(z)): 0.003/0.003\n",
      "[30/30][129/196] Loss_D: 0.494 Loss_G: 4.265 D(x): 0.854 D(G(z)): 0.235/0.027\n",
      "[30/30][193/196] Loss_D: 0.110 Loss_G: 4.013 D(x): 0.956 D(G(z)): 0.058/0.031\n"
     ]
    }
   ],
   "source": [
    "epochs = 30\n",
    "criterion = nn.BCELoss()    # バイナリークロスエントロピー（Sigmoid関数無し）\n",
    "outf = '../GAN/CGAN/cifar'\n",
    "dispinterval = 64\n",
    "testgen_interval = 5\n",
    "\n",
    "\n",
    "D_losses, G_losses, D_x_out, D_G_z1_out, D_G_z2_out = ganf.train_cgan(epochs, dl, classes, device, nz, discifar, gencifar, \n",
    "                                                                     criterion, optimizerG, optimizerD, \n",
    "                                                                     dispinterval,\n",
    "                                                                     testgen_interval, fixed_noise_label, outf)"
   ]
  },
  {
   "cell_type": "code",
   "execution_count": null,
   "id": "bbe92e9e",
   "metadata": {},
   "outputs": [],
   "source": []
  },
  {
   "cell_type": "code",
   "execution_count": null,
   "id": "3f1000a9",
   "metadata": {},
   "outputs": [],
   "source": []
  },
  {
   "cell_type": "code",
   "execution_count": null,
   "id": "8ce67360",
   "metadata": {},
   "outputs": [],
   "source": []
  },
  {
   "cell_type": "code",
   "execution_count": null,
   "id": "0e4e6ea0",
   "metadata": {},
   "outputs": [],
   "source": [
    "#########----------------------------LSGAN------------------------------###########\n"
   ]
  },
  {
   "cell_type": "code",
   "execution_count": null,
   "id": "e2a7d176",
   "metadata": {},
   "outputs": [],
   "source": []
  },
  {
   "cell_type": "code",
   "execution_count": null,
   "id": "d8eae6bd",
   "metadata": {},
   "outputs": [],
   "source": []
  },
  {
   "cell_type": "code",
   "execution_count": null,
   "id": "101c31b3",
   "metadata": {},
   "outputs": [],
   "source": []
  },
  {
   "cell_type": "code",
   "execution_count": null,
   "id": "90fcaf3c",
   "metadata": {},
   "outputs": [],
   "source": []
  },
  {
   "cell_type": "code",
   "execution_count": null,
   "id": "5bdd93c5",
   "metadata": {},
   "outputs": [],
   "source": []
  },
  {
   "cell_type": "code",
   "execution_count": 30,
   "id": "684adc4c",
   "metadata": {},
   "outputs": [
    {
     "data": {
      "text/plain": [
       "'C:\\\\Users\\\\mkopm\\\\ipynbs'"
      ]
     },
     "execution_count": 30,
     "metadata": {},
     "output_type": "execute_result"
    }
   ],
   "source": [
    "currentdir = os.getcwd()\n",
    "currentdir"
   ]
  },
  {
   "cell_type": "code",
   "execution_count": 32,
   "id": "76b032ae",
   "metadata": {},
   "outputs": [
    {
     "data": {
      "text/plain": [
       "'..'"
      ]
     },
     "execution_count": 32,
     "metadata": {},
     "output_type": "execute_result"
    }
   ],
   "source": [
    "os.pardir"
   ]
  },
  {
   "cell_type": "code",
   "execution_count": 33,
   "id": "0db2dfdb",
   "metadata": {
    "scrolled": true
   },
   "outputs": [
    {
     "data": {
      "text/plain": [
       "['C:\\\\Users\\\\mkopm\\\\ipynbs',\n",
       " 'C:\\\\Users\\\\mkopm\\\\anaconda3\\\\envs\\\\mytorch\\\\python38.zip',\n",
       " 'C:\\\\Users\\\\mkopm\\\\anaconda3\\\\envs\\\\mytorch\\\\DLLs',\n",
       " 'C:\\\\Users\\\\mkopm\\\\anaconda3\\\\envs\\\\mytorch\\\\lib',\n",
       " 'C:\\\\Users\\\\mkopm\\\\anaconda3\\\\envs\\\\mytorch',\n",
       " '',\n",
       " 'C:\\\\Users\\\\mkopm\\\\anaconda3\\\\envs\\\\mytorch\\\\lib\\\\site-packages',\n",
       " 'C:\\\\Users\\\\mkopm\\\\anaconda3\\\\envs\\\\mytorch\\\\lib\\\\site-packages\\\\huggingface_hub-0.0.17-py3.8.egg',\n",
       " 'C:\\\\Users\\\\mkopm\\\\anaconda3\\\\envs\\\\mytorch\\\\lib\\\\site-packages\\\\win32',\n",
       " 'C:\\\\Users\\\\mkopm\\\\anaconda3\\\\envs\\\\mytorch\\\\lib\\\\site-packages\\\\win32\\\\lib',\n",
       " 'C:\\\\Users\\\\mkopm\\\\anaconda3\\\\envs\\\\mytorch\\\\lib\\\\site-packages\\\\Pythonwin',\n",
       " 'C:\\\\Users\\\\mkopm\\\\anaconda3\\\\envs\\\\mytorch\\\\lib\\\\site-packages\\\\sacremoses-0.0.43-py3.8.egg',\n",
       " 'C:\\\\Users\\\\mkopm\\\\anaconda3\\\\envs\\\\mytorch\\\\lib\\\\site-packages\\\\IPython\\\\extensions',\n",
       " 'C:\\\\Users\\\\mkopm\\\\.ipython',\n",
       " '..']"
      ]
     },
     "execution_count": 33,
     "metadata": {},
     "output_type": "execute_result"
    }
   ],
   "source": [
    "sys.path"
   ]
  },
  {
   "cell_type": "code",
   "execution_count": null,
   "id": "5556e8d6",
   "metadata": {},
   "outputs": [],
   "source": []
  },
  {
   "cell_type": "code",
   "execution_count": null,
   "id": "26efe6b5",
   "metadata": {},
   "outputs": [],
   "source": []
  },
  {
   "cell_type": "code",
   "execution_count": null,
   "id": "100d9e59",
   "metadata": {},
   "outputs": [],
   "source": []
  },
  {
   "cell_type": "code",
   "execution_count": null,
   "id": "c56584d7",
   "metadata": {},
   "outputs": [],
   "source": []
  },
  {
   "cell_type": "code",
   "execution_count": null,
   "id": "be4b4a3f",
   "metadata": {},
   "outputs": [],
   "source": []
  },
  {
   "cell_type": "code",
   "execution_count": null,
   "id": "2b8d7063",
   "metadata": {},
   "outputs": [],
   "source": []
  },
  {
   "cell_type": "code",
   "execution_count": null,
   "id": "9217ff57",
   "metadata": {},
   "outputs": [],
   "source": []
  },
  {
   "cell_type": "code",
   "execution_count": 47,
   "id": "38dbe104",
   "metadata": {},
   "outputs": [],
   "source": [
    "trf = transforms.Compose([transforms.ToTensor(), transforms.Normalize((0.5,), (0.5,))])"
   ]
  },
  {
   "cell_type": "code",
   "execution_count": 48,
   "id": "876551c4",
   "metadata": {
    "collapsed": true
   },
   "outputs": [
    {
     "ename": "TypeError",
     "evalue": "pic should be PIL Image or ndarray. Got <class 'torch.Tensor'>",
     "output_type": "error",
     "traceback": [
      "\u001b[1;31m---------------------------------------------------------------------------\u001b[0m",
      "\u001b[1;31mTypeError\u001b[0m                                 Traceback (most recent call last)",
      "\u001b[1;32m~\\AppData\\Local\\Temp/ipykernel_23048/2126453360.py\u001b[0m in \u001b[0;36m<module>\u001b[1;34m\u001b[0m\n\u001b[1;32m----> 1\u001b[1;33m \u001b[0mdata\u001b[0m \u001b[1;33m=\u001b[0m \u001b[0mtrf\u001b[0m\u001b[1;33m(\u001b[0m\u001b[0mmyset\u001b[0m\u001b[1;33m.\u001b[0m\u001b[0mdata\u001b[0m\u001b[1;33m)\u001b[0m\u001b[1;33m\u001b[0m\u001b[1;33m\u001b[0m\u001b[0m\n\u001b[0m",
      "\u001b[1;32m~\\anaconda3\\envs\\mytorch\\lib\\site-packages\\torchvision\\transforms\\transforms.py\u001b[0m in \u001b[0;36m__call__\u001b[1;34m(self, img)\u001b[0m\n\u001b[0;32m     58\u001b[0m     \u001b[1;32mdef\u001b[0m \u001b[0m__call__\u001b[0m\u001b[1;33m(\u001b[0m\u001b[0mself\u001b[0m\u001b[1;33m,\u001b[0m \u001b[0mimg\u001b[0m\u001b[1;33m)\u001b[0m\u001b[1;33m:\u001b[0m\u001b[1;33m\u001b[0m\u001b[1;33m\u001b[0m\u001b[0m\n\u001b[0;32m     59\u001b[0m         \u001b[1;32mfor\u001b[0m \u001b[0mt\u001b[0m \u001b[1;32min\u001b[0m \u001b[0mself\u001b[0m\u001b[1;33m.\u001b[0m\u001b[0mtransforms\u001b[0m\u001b[1;33m:\u001b[0m\u001b[1;33m\u001b[0m\u001b[1;33m\u001b[0m\u001b[0m\n\u001b[1;32m---> 60\u001b[1;33m             \u001b[0mimg\u001b[0m \u001b[1;33m=\u001b[0m \u001b[0mt\u001b[0m\u001b[1;33m(\u001b[0m\u001b[0mimg\u001b[0m\u001b[1;33m)\u001b[0m\u001b[1;33m\u001b[0m\u001b[1;33m\u001b[0m\u001b[0m\n\u001b[0m\u001b[0;32m     61\u001b[0m         \u001b[1;32mreturn\u001b[0m \u001b[0mimg\u001b[0m\u001b[1;33m\u001b[0m\u001b[1;33m\u001b[0m\u001b[0m\n\u001b[0;32m     62\u001b[0m \u001b[1;33m\u001b[0m\u001b[0m\n",
      "\u001b[1;32m~\\anaconda3\\envs\\mytorch\\lib\\site-packages\\torchvision\\transforms\\transforms.py\u001b[0m in \u001b[0;36m__call__\u001b[1;34m(self, pic)\u001b[0m\n\u001b[0;32m     95\u001b[0m             \u001b[0mTensor\u001b[0m\u001b[1;33m:\u001b[0m \u001b[0mConverted\u001b[0m \u001b[0mimage\u001b[0m\u001b[1;33m.\u001b[0m\u001b[1;33m\u001b[0m\u001b[1;33m\u001b[0m\u001b[0m\n\u001b[0;32m     96\u001b[0m         \"\"\"\n\u001b[1;32m---> 97\u001b[1;33m         \u001b[1;32mreturn\u001b[0m \u001b[0mF\u001b[0m\u001b[1;33m.\u001b[0m\u001b[0mto_tensor\u001b[0m\u001b[1;33m(\u001b[0m\u001b[0mpic\u001b[0m\u001b[1;33m)\u001b[0m\u001b[1;33m\u001b[0m\u001b[1;33m\u001b[0m\u001b[0m\n\u001b[0m\u001b[0;32m     98\u001b[0m \u001b[1;33m\u001b[0m\u001b[0m\n\u001b[0;32m     99\u001b[0m     \u001b[1;32mdef\u001b[0m \u001b[0m__repr__\u001b[0m\u001b[1;33m(\u001b[0m\u001b[0mself\u001b[0m\u001b[1;33m)\u001b[0m\u001b[1;33m:\u001b[0m\u001b[1;33m\u001b[0m\u001b[1;33m\u001b[0m\u001b[0m\n",
      "\u001b[1;32m~\\anaconda3\\envs\\mytorch\\lib\\site-packages\\torchvision\\transforms\\functional.py\u001b[0m in \u001b[0;36mto_tensor\u001b[1;34m(pic)\u001b[0m\n\u001b[0;32m    100\u001b[0m     \"\"\"\n\u001b[0;32m    101\u001b[0m     \u001b[1;32mif\u001b[0m \u001b[1;32mnot\u001b[0m\u001b[1;33m(\u001b[0m\u001b[0mF_pil\u001b[0m\u001b[1;33m.\u001b[0m\u001b[0m_is_pil_image\u001b[0m\u001b[1;33m(\u001b[0m\u001b[0mpic\u001b[0m\u001b[1;33m)\u001b[0m \u001b[1;32mor\u001b[0m \u001b[0m_is_numpy\u001b[0m\u001b[1;33m(\u001b[0m\u001b[0mpic\u001b[0m\u001b[1;33m)\u001b[0m\u001b[1;33m)\u001b[0m\u001b[1;33m:\u001b[0m\u001b[1;33m\u001b[0m\u001b[1;33m\u001b[0m\u001b[0m\n\u001b[1;32m--> 102\u001b[1;33m         \u001b[1;32mraise\u001b[0m \u001b[0mTypeError\u001b[0m\u001b[1;33m(\u001b[0m\u001b[1;34m'pic should be PIL Image or ndarray. Got {}'\u001b[0m\u001b[1;33m.\u001b[0m\u001b[0mformat\u001b[0m\u001b[1;33m(\u001b[0m\u001b[0mtype\u001b[0m\u001b[1;33m(\u001b[0m\u001b[0mpic\u001b[0m\u001b[1;33m)\u001b[0m\u001b[1;33m)\u001b[0m\u001b[1;33m)\u001b[0m\u001b[1;33m\u001b[0m\u001b[1;33m\u001b[0m\u001b[0m\n\u001b[0m\u001b[0;32m    103\u001b[0m \u001b[1;33m\u001b[0m\u001b[0m\n\u001b[0;32m    104\u001b[0m     \u001b[1;32mif\u001b[0m \u001b[0m_is_numpy\u001b[0m\u001b[1;33m(\u001b[0m\u001b[0mpic\u001b[0m\u001b[1;33m)\u001b[0m \u001b[1;32mand\u001b[0m \u001b[1;32mnot\u001b[0m \u001b[0m_is_numpy_image\u001b[0m\u001b[1;33m(\u001b[0m\u001b[0mpic\u001b[0m\u001b[1;33m)\u001b[0m\u001b[1;33m:\u001b[0m\u001b[1;33m\u001b[0m\u001b[1;33m\u001b[0m\u001b[0m\n",
      "\u001b[1;31mTypeError\u001b[0m: pic should be PIL Image or ndarray. Got <class 'torch.Tensor'>"
     ]
    }
   ],
   "source": [
    "data = trf(myset.data)"
   ]
  },
  {
   "cell_type": "code",
   "execution_count": 49,
   "id": "9e8e5eee",
   "metadata": {
    "scrolled": true
   },
   "outputs": [
    {
     "data": {
      "text/plain": [
       "torch.Size([70000, 28, 28])"
      ]
     },
     "execution_count": 49,
     "metadata": {},
     "output_type": "execute_result"
    }
   ],
   "source": [
    "data.shape"
   ]
  },
  {
   "cell_type": "code",
   "execution_count": 41,
   "id": "ba1195a7",
   "metadata": {
    "collapsed": true
   },
   "outputs": [
    {
     "data": {
      "text/plain": [
       "tensor([[ -1.,  -1.,  -1.,  -1.,  -1.,  -1.,  -1.,  -1.,  -1.,  -1.,  -1.,  -1.,\n",
       "          -1.,  -1.,  -1.,  -1.,  -1.,  -1.,  -1.,  -1.,  -1.,  -1.,  -1.,  -1.,\n",
       "          -1.,  -1.,  -1.,  -1.],\n",
       "        [ -1.,  -1.,  -1.,  -1.,  -1.,  -1.,  -1.,  -1.,  -1.,  -1.,  -1.,  -1.,\n",
       "          -1.,  -1.,  -1.,  -1.,  -1.,  -1.,  -1.,  -1.,  -1.,  -1.,  -1.,  -1.,\n",
       "          -1.,  -1.,  -1.,  -1.],\n",
       "        [ -1.,  -1.,  -1.,  -1.,  -1.,  -1.,  -1.,  -1.,  -1.,  -1.,  -1.,  -1.,\n",
       "          -1.,  -1.,  -1.,  -1.,  -1.,  -1.,  -1.,  -1.,  -1.,  -1.,  -1.,  -1.,\n",
       "          -1.,  -1.,  -1.,  -1.],\n",
       "        [ -1.,  -1.,  -1.,  -1.,  -1.,  -1.,  -1.,  -1.,  -1.,  -1.,  -1.,  -1.,\n",
       "          -1.,  -1.,  -1.,  -1.,  -1.,  -1.,  -1.,  -1.,  -1.,  -1.,  -1.,  -1.,\n",
       "          -1.,  -1.,  -1.,  -1.],\n",
       "        [ -1.,  -1.,  -1.,  -1.,  -1.,  -1.,  -1.,  -1.,  -1.,  -1.,  -1.,  -1.,\n",
       "          -1.,  -1.,  -1.,  -1.,  -1.,  -1.,  -1.,  -1.,  -1.,  -1.,  -1.,  -1.,\n",
       "          -1.,  -1.,  -1.,  -1.],\n",
       "        [ -1.,  -1.,  -1.,  -1.,  -1.,  -1.,  -1.,  -1.,  -1.,  -1.,  -1.,  -1.,\n",
       "           5.,  35.,  35.,  35., 251., 271., 349.,  51., 331., 509., 493., 253.,\n",
       "          -1.,  -1.,  -1.,  -1.],\n",
       "        [ -1.,  -1.,  -1.,  -1.,  -1.,  -1.,  -1.,  -1.,  59.,  71., 187., 307.,\n",
       "         339., 505., 505., 505., 505., 505., 449., 343., 505., 483., 389., 127.,\n",
       "          -1.,  -1.,  -1.,  -1.],\n",
       "        [ -1.,  -1.,  -1.,  -1.,  -1.,  -1.,  -1.,  97., 475., 505., 505., 505.,\n",
       "         505., 505., 505., 505., 505., 501., 185., 163., 163., 111.,  77.,  -1.,\n",
       "          -1.,  -1.,  -1.,  -1.],\n",
       "        [ -1.,  -1.,  -1.,  -1.,  -1.,  -1.,  -1.,  35., 437., 505., 505., 505.,\n",
       "         505., 505., 395., 363., 493., 481.,  -1.,  -1.,  -1.,  -1.,  -1.,  -1.,\n",
       "          -1.,  -1.,  -1.,  -1.],\n",
       "        [ -1.,  -1.,  -1.,  -1.,  -1.,  -1.,  -1.,  -1., 159., 311., 213., 505.,\n",
       "         505., 409.,  21.,  -1.,  85., 307.,  -1.,  -1.,  -1.,  -1.,  -1.,  -1.,\n",
       "          -1.,  -1.,  -1.,  -1.],\n",
       "        [ -1.,  -1.,  -1.,  -1.,  -1.,  -1.,  -1.,  -1.,  -1.,  27.,   1., 307.,\n",
       "         505., 179.,  -1.,  -1.,  -1.,  -1.,  -1.,  -1.,  -1.,  -1.,  -1.,  -1.,\n",
       "          -1.,  -1.,  -1.,  -1.],\n",
       "        [ -1.,  -1.,  -1.,  -1.,  -1.,  -1.,  -1.,  -1.,  -1.,  -1.,  -1., 277.,\n",
       "         505., 379.,   3.,  -1.,  -1.,  -1.,  -1.,  -1.,  -1.,  -1.,  -1.,  -1.,\n",
       "          -1.,  -1.,  -1.,  -1.],\n",
       "        [ -1.,  -1.,  -1.,  -1.,  -1.,  -1.,  -1.,  -1.,  -1.,  -1.,  -1.,  21.,\n",
       "         379., 505., 139.,  -1.,  -1.,  -1.,  -1.,  -1.,  -1.,  -1.,  -1.,  -1.,\n",
       "          -1.,  -1.,  -1.,  -1.],\n",
       "        [ -1.,  -1.,  -1.,  -1.,  -1.,  -1.,  -1.,  -1.,  -1.,  -1.,  -1.,  -1.,\n",
       "          69., 481., 449., 319., 215.,   1.,  -1.,  -1.,  -1.,  -1.,  -1.,  -1.,\n",
       "          -1.,  -1.,  -1.,  -1.],\n",
       "        [ -1.,  -1.,  -1.,  -1.,  -1.,  -1.,  -1.,  -1.,  -1.,  -1.,  -1.,  -1.,\n",
       "          -1., 161., 479., 505., 505., 237.,  49.,  -1.,  -1.,  -1.,  -1.,  -1.,\n",
       "          -1.,  -1.,  -1.,  -1.],\n",
       "        [ -1.,  -1.,  -1.,  -1.,  -1.,  -1.,  -1.,  -1.,  -1.,  -1.,  -1.,  -1.,\n",
       "          -1.,  -1.,  89., 371., 505., 505., 299.,  53.,  -1.,  -1.,  -1.,  -1.,\n",
       "          -1.,  -1.,  -1.,  -1.],\n",
       "        [ -1.,  -1.,  -1.,  -1.,  -1.,  -1.,  -1.,  -1.,  -1.,  -1.,  -1.,  -1.,\n",
       "          -1.,  -1.,  -1.,  31., 185., 503., 505., 373.,  -1.,  -1.,  -1.,  -1.,\n",
       "          -1.,  -1.,  -1.,  -1.],\n",
       "        [ -1.,  -1.,  -1.,  -1.,  -1.,  -1.,  -1.,  -1.,  -1.,  -1.,  -1.,  -1.,\n",
       "          -1.,  -1.,  -1.,  -1.,  -1., 497., 505., 497., 127.,  -1.,  -1.,  -1.,\n",
       "          -1.,  -1.,  -1.,  -1.],\n",
       "        [ -1.,  -1.,  -1.,  -1.,  -1.,  -1.,  -1.,  -1.,  -1.,  -1.,  -1.,  -1.,\n",
       "          -1.,  -1.,  91., 259., 365., 505., 505., 413.,   3.,  -1.,  -1.,  -1.,\n",
       "          -1.,  -1.,  -1.,  -1.],\n",
       "        [ -1.,  -1.,  -1.,  -1.,  -1.,  -1.,  -1.,  -1.,  -1.,  -1.,  -1.,  -1.,\n",
       "          77., 295., 457., 505., 505., 505., 499., 363.,  -1.,  -1.,  -1.,  -1.,\n",
       "          -1.,  -1.,  -1.,  -1.],\n",
       "        [ -1.,  -1.,  -1.,  -1.,  -1.,  -1.,  -1.,  -1.,  -1.,  -1.,  47., 227.,\n",
       "         441., 505., 505., 505., 505., 401., 155.,  -1.,  -1.,  -1.,  -1.,  -1.,\n",
       "          -1.,  -1.,  -1.,  -1.],\n",
       "        [ -1.,  -1.,  -1.,  -1.,  -1.,  -1.,  -1.,  -1.,  45., 131., 425., 505.,\n",
       "         505., 505., 505., 395., 161.,   3.,  -1.,  -1.,  -1.,  -1.,  -1.,  -1.,\n",
       "          -1.,  -1.,  -1.,  -1.],\n",
       "        [ -1.,  -1.,  -1.,  -1.,  -1.,  -1.,  35., 341., 437., 505., 505., 505.,\n",
       "         505., 389., 159.,  17.,  -1.,  -1.,  -1.,  -1.,  -1.,  -1.,  -1.,  -1.,\n",
       "          -1.,  -1.,  -1.,  -1.],\n",
       "        [ -1.,  -1.,  -1.,  -1., 109., 343., 451., 505., 505., 505., 505., 487.,\n",
       "         265.,  21.,  -1.,  -1.,  -1.,  -1.,  -1.,  -1.,  -1.,  -1.,  -1.,  -1.,\n",
       "          -1.,  -1.,  -1.,  -1.],\n",
       "        [ -1.,  -1.,  -1.,  -1., 271., 505., 505., 505., 423., 269., 263.,  31.,\n",
       "          -1.,  -1.,  -1.,  -1.,  -1.,  -1.,  -1.,  -1.,  -1.,  -1.,  -1.,  -1.,\n",
       "          -1.,  -1.,  -1.,  -1.],\n",
       "        [ -1.,  -1.,  -1.,  -1.,  -1.,  -1.,  -1.,  -1.,  -1.,  -1.,  -1.,  -1.,\n",
       "          -1.,  -1.,  -1.,  -1.,  -1.,  -1.,  -1.,  -1.,  -1.,  -1.,  -1.,  -1.,\n",
       "          -1.,  -1.,  -1.,  -1.],\n",
       "        [ -1.,  -1.,  -1.,  -1.,  -1.,  -1.,  -1.,  -1.,  -1.,  -1.,  -1.,  -1.,\n",
       "          -1.,  -1.,  -1.,  -1.,  -1.,  -1.,  -1.,  -1.,  -1.,  -1.,  -1.,  -1.,\n",
       "          -1.,  -1.,  -1.,  -1.],\n",
       "        [ -1.,  -1.,  -1.,  -1.,  -1.,  -1.,  -1.,  -1.,  -1.,  -1.,  -1.,  -1.,\n",
       "          -1.,  -1.,  -1.,  -1.,  -1.,  -1.,  -1.,  -1.,  -1.,  -1.,  -1.,  -1.,\n",
       "          -1.,  -1.,  -1.,  -1.]])"
      ]
     },
     "execution_count": 41,
     "metadata": {},
     "output_type": "execute_result"
    }
   ],
   "source": [
    "data[0]"
   ]
  },
  {
   "cell_type": "code",
   "execution_count": 42,
   "id": "16b4bc4e",
   "metadata": {},
   "outputs": [
    {
     "data": {
      "text/plain": [
       "(tensor(65.7719), tensor(157.3087))"
      ]
     },
     "execution_count": 42,
     "metadata": {},
     "output_type": "execute_result"
    }
   ],
   "source": [
    "torch.mean(data), torch.std(data)"
   ]
  },
  {
   "cell_type": "code",
   "execution_count": null,
   "id": "2fc99264",
   "metadata": {},
   "outputs": [],
   "source": []
  }
 ],
 "metadata": {
  "kernelspec": {
   "display_name": "mytorch",
   "language": "python",
   "name": "mytorch"
  },
  "language_info": {
   "codemirror_mode": {
    "name": "ipython",
    "version": 3
   },
   "file_extension": ".py",
   "mimetype": "text/x-python",
   "name": "python",
   "nbconvert_exporter": "python",
   "pygments_lexer": "ipython3",
   "version": "3.8.8"
  }
 },
 "nbformat": 4,
 "nbformat_minor": 5
}
