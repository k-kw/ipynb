{
 "cells": [
  {
   "cell_type": "code",
   "execution_count": 1,
   "id": "803dead6",
   "metadata": {},
   "outputs": [],
   "source": [
    "import torch\n",
    "import torch.nn as nn\n",
    "import torch.nn.functional as F\n",
    "from torch.autograd import Variable\n",
    "from torchinfo import summary\n",
    "import torch.optim as optim\n",
    "from torch.utils.data import DataLoader,Dataset\n",
    "import torch.utils.data as data\n",
    "from torchvision import transforms\n",
    "import torchvision\n",
    "\n",
    "import sys,os\n",
    "sys.path.append(os.pardir)\n",
    "\n",
    "import py_func.Deep_learning_torch_func as DL\n",
    "import py_func.models_func as my_model\n",
    "import py_func.dat_rb_func as drb\n",
    "import py_func.my_numpy_class as mnc\n",
    "import py_func.my_torch_class as mtc\n",
    "import py_func.models_func as my_model\n",
    "\n",
    "import py_func.Deep_learning_torch_func as DL\n",
    "import py_func.dat_rb_func as drb\n",
    "\n",
    "from torchinfo import summary\n",
    "\n",
    "from torch.optim import lr_scheduler\n",
    "\n",
    "import numpy as np"
   ]
  },
  {
   "cell_type": "code",
   "execution_count": 2,
   "id": "023ee7f8",
   "metadata": {},
   "outputs": [],
   "source": [
    "import py_func.gan.gan_model as ganmd"
   ]
  },
  {
   "cell_type": "code",
   "execution_count": 6,
   "id": "eb9ba861",
   "metadata": {},
   "outputs": [],
   "source": [
    "chlist = [100, 512, 256, 128, 1]\n",
    "klist = [3, 3, 4, 4]\n",
    "strdlist = [1, 2, 2, 2]\n",
    "padlist = [0, 0, 1, 1]\n",
    "opadlist = [0, 0, 0, 0]\n",
    "\n",
    "gene = ganmd.Generator(chlist, klist, strdlist, padlist, opadlist)"
   ]
  },
  {
   "cell_type": "code",
   "execution_count": 7,
   "id": "d754c2a3",
   "metadata": {
    "scrolled": true
   },
   "outputs": [
    {
     "data": {
      "text/plain": [
       "Generator(\n",
       "  (Deconvs): Sequential(\n",
       "    (0): Convtp_Bn_ReLu(\n",
       "      (Deconv): Sequential(\n",
       "        (0): ConvTranspose2d(100, 512, kernel_size=(3, 3), stride=(1, 1))\n",
       "        (1): BatchNorm2d(512, eps=1e-05, momentum=0.1, affine=True, track_running_stats=True)\n",
       "        (2): ReLU()\n",
       "      )\n",
       "    )\n",
       "    (1): Convtp_Bn_ReLu(\n",
       "      (Deconv): Sequential(\n",
       "        (0): ConvTranspose2d(512, 256, kernel_size=(3, 3), stride=(2, 2))\n",
       "        (1): BatchNorm2d(256, eps=1e-05, momentum=0.1, affine=True, track_running_stats=True)\n",
       "        (2): ReLU()\n",
       "      )\n",
       "    )\n",
       "    (2): Convtp_Bn_ReLu(\n",
       "      (Deconv): Sequential(\n",
       "        (0): ConvTranspose2d(256, 128, kernel_size=(4, 4), stride=(2, 2), padding=(1, 1))\n",
       "        (1): BatchNorm2d(128, eps=1e-05, momentum=0.1, affine=True, track_running_stats=True)\n",
       "        (2): ReLU()\n",
       "      )\n",
       "    )\n",
       "    (3): Convtp_Tanh(\n",
       "      (Deconv): Sequential(\n",
       "        (0): ConvTranspose2d(128, 1, kernel_size=(4, 4), stride=(2, 2), padding=(1, 1))\n",
       "        (1): Tanh()\n",
       "      )\n",
       "    )\n",
       "  )\n",
       ")"
      ]
     },
     "execution_count": 7,
     "metadata": {},
     "output_type": "execute_result"
    }
   ],
   "source": [
    "gene"
   ]
  },
  {
   "cell_type": "code",
   "execution_count": 8,
   "id": "5d542f65",
   "metadata": {
    "scrolled": true
   },
   "outputs": [
    {
     "data": {
      "text/plain": [
       "===============================================================================================\n",
       "Layer (type:depth-idx)                        Output Shape              Param #\n",
       "===============================================================================================\n",
       "Generator                                     --                        --\n",
       "├─Sequential: 1-1                             [1, 1, 28, 28]            --\n",
       "│    └─Convtp_Bn_ReLu: 2-1                    [1, 512, 3, 3]            --\n",
       "│    │    └─Sequential: 3-1                   [1, 512, 3, 3]            --\n",
       "│    │    │    └─ConvTranspose2d: 4-1         [1, 512, 3, 3]            461,312\n",
       "│    │    │    └─BatchNorm2d: 4-2             [1, 512, 3, 3]            1,024\n",
       "│    │    │    └─ReLU: 4-3                    [1, 512, 3, 3]            --\n",
       "│    └─Convtp_Bn_ReLu: 2-2                    [1, 256, 7, 7]            --\n",
       "│    │    └─Sequential: 3-2                   [1, 256, 7, 7]            --\n",
       "│    │    │    └─ConvTranspose2d: 4-4         [1, 256, 7, 7]            1,179,904\n",
       "│    │    │    └─BatchNorm2d: 4-5             [1, 256, 7, 7]            512\n",
       "│    │    │    └─ReLU: 4-6                    [1, 256, 7, 7]            --\n",
       "│    └─Convtp_Bn_ReLu: 2-3                    [1, 128, 14, 14]          --\n",
       "│    │    └─Sequential: 3-3                   [1, 128, 14, 14]          --\n",
       "│    │    │    └─ConvTranspose2d: 4-7         [1, 128, 14, 14]          524,416\n",
       "│    │    │    └─BatchNorm2d: 4-8             [1, 128, 14, 14]          256\n",
       "│    │    │    └─ReLU: 4-9                    [1, 128, 14, 14]          --\n",
       "│    └─Convtp_Tanh: 2-4                       [1, 1, 28, 28]            --\n",
       "│    │    └─Sequential: 3-4                   [1, 1, 28, 28]            --\n",
       "│    │    │    └─ConvTranspose2d: 4-10        [1, 1, 28, 28]            2,049\n",
       "│    │    │    └─Tanh: 4-11                   [1, 1, 28, 28]            --\n",
       "===============================================================================================\n",
       "Total params: 2,169,473\n",
       "Trainable params: 2,169,473\n",
       "Non-trainable params: 0\n",
       "Total mult-adds (M): 166.36\n",
       "===============================================================================================\n",
       "Input size (MB): 0.00\n",
       "Forward/backward pass size (MB): 0.68\n",
       "Params size (MB): 8.68\n",
       "Estimated Total Size (MB): 9.36\n",
       "==============================================================================================="
      ]
     },
     "execution_count": 8,
     "metadata": {},
     "output_type": "execute_result"
    }
   ],
   "source": [
    "summary(model = gene, input_size = (1, 100, 1, 1), depth = 4)"
   ]
  },
  {
   "cell_type": "code",
   "execution_count": 9,
   "id": "4edd7fa8",
   "metadata": {},
   "outputs": [],
   "source": [
    "chlist = [1, 128, 256, 512, 1]\n",
    "klist = [4, 4, 3, 3]\n",
    "strdlist = [2, 2, 2, 1]\n",
    "padlist = [1, 1, 0, 0]\n",
    "ngsllist = [0.01, 0.01, 0.01, 0.01]\n",
    "\n",
    "disc = ganmd.Discriminator(chlist, klist, strdlist, padlist, opadlist)"
   ]
  },
  {
   "cell_type": "code",
   "execution_count": 10,
   "id": "418cd0ba",
   "metadata": {
    "scrolled": true
   },
   "outputs": [
    {
     "data": {
      "text/plain": [
       "Discriminator(\n",
       "  (Convs): Sequential(\n",
       "    (0): Conv_Bn_LeakyReLU(\n",
       "      (CNN): Sequential(\n",
       "        (0): Conv2d(1, 128, kernel_size=(4, 4), stride=(2, 2), padding=(1, 1))\n",
       "        (1): BatchNorm2d(128, eps=1e-05, momentum=0.1, affine=True, track_running_stats=True)\n",
       "        (2): LeakyReLU(negative_slope=0)\n",
       "      )\n",
       "    )\n",
       "    (1): Conv_Bn_LeakyReLU(\n",
       "      (CNN): Sequential(\n",
       "        (0): Conv2d(128, 256, kernel_size=(4, 4), stride=(2, 2), padding=(1, 1))\n",
       "        (1): BatchNorm2d(256, eps=1e-05, momentum=0.1, affine=True, track_running_stats=True)\n",
       "        (2): LeakyReLU(negative_slope=0)\n",
       "      )\n",
       "    )\n",
       "    (2): Conv_Bn_LeakyReLU(\n",
       "      (CNN): Sequential(\n",
       "        (0): Conv2d(256, 512, kernel_size=(3, 3), stride=(2, 2))\n",
       "        (1): BatchNorm2d(512, eps=1e-05, momentum=0.1, affine=True, track_running_stats=True)\n",
       "        (2): LeakyReLU(negative_slope=0)\n",
       "      )\n",
       "    )\n",
       "    (3): Conv_Sigmoid(\n",
       "      (CNN): Sequential(\n",
       "        (0): Conv2d(512, 1, kernel_size=(3, 3), stride=(1, 1))\n",
       "        (1): Sigmoid()\n",
       "      )\n",
       "    )\n",
       "  )\n",
       ")"
      ]
     },
     "execution_count": 10,
     "metadata": {},
     "output_type": "execute_result"
    }
   ],
   "source": [
    "disc"
   ]
  },
  {
   "cell_type": "code",
   "execution_count": 11,
   "id": "f052a501",
   "metadata": {
    "scrolled": true
   },
   "outputs": [
    {
     "data": {
      "text/plain": [
       "==========================================================================================\n",
       "Layer (type:depth-idx)                   Output Shape              Param #\n",
       "==========================================================================================\n",
       "Discriminator                            --                        --\n",
       "├─Sequential: 1-1                        [1, 1, 1, 1]              --\n",
       "│    └─Conv_Bn_LeakyReLU: 2-1            [1, 128, 14, 14]          --\n",
       "│    │    └─Sequential: 3-1              [1, 128, 14, 14]          --\n",
       "│    │    │    └─Conv2d: 4-1             [1, 128, 14, 14]          2,176\n",
       "│    │    │    └─BatchNorm2d: 4-2        [1, 128, 14, 14]          256\n",
       "│    │    │    └─LeakyReLU: 4-3          [1, 128, 14, 14]          --\n",
       "│    └─Conv_Bn_LeakyReLU: 2-2            [1, 256, 7, 7]            --\n",
       "│    │    └─Sequential: 3-2              [1, 256, 7, 7]            --\n",
       "│    │    │    └─Conv2d: 4-4             [1, 256, 7, 7]            524,544\n",
       "│    │    │    └─BatchNorm2d: 4-5        [1, 256, 7, 7]            512\n",
       "│    │    │    └─LeakyReLU: 4-6          [1, 256, 7, 7]            --\n",
       "│    └─Conv_Bn_LeakyReLU: 2-3            [1, 512, 3, 3]            --\n",
       "│    │    └─Sequential: 3-3              [1, 512, 3, 3]            --\n",
       "│    │    │    └─Conv2d: 4-7             [1, 512, 3, 3]            1,180,160\n",
       "│    │    │    └─BatchNorm2d: 4-8        [1, 512, 3, 3]            1,024\n",
       "│    │    │    └─LeakyReLU: 4-9          [1, 512, 3, 3]            --\n",
       "│    └─Conv_Sigmoid: 2-4                 [1, 1, 1, 1]              --\n",
       "│    │    └─Sequential: 3-4              [1, 1, 1, 1]              --\n",
       "│    │    │    └─Conv2d: 4-10            [1, 1, 1, 1]              4,609\n",
       "│    │    │    └─Sigmoid: 4-11           [1, 1, 1, 1]              --\n",
       "==========================================================================================\n",
       "Total params: 1,713,281\n",
       "Trainable params: 1,713,281\n",
       "Non-trainable params: 0\n",
       "Total mult-adds (M): 36.76\n",
       "==========================================================================================\n",
       "Input size (MB): 0.00\n",
       "Forward/backward pass size (MB): 0.68\n",
       "Params size (MB): 6.85\n",
       "Estimated Total Size (MB): 7.53\n",
       "=========================================================================================="
      ]
     },
     "execution_count": 11,
     "metadata": {},
     "output_type": "execute_result"
    }
   ],
   "source": [
    "summary(model = disc, input_size = (1, 1, 28, 28), depth = 4)"
   ]
  },
  {
   "cell_type": "code",
   "execution_count": null,
   "id": "16b4bc4e",
   "metadata": {},
   "outputs": [],
   "source": []
  }
 ],
 "metadata": {
  "kernelspec": {
   "display_name": "mytorch",
   "language": "python",
   "name": "mytorch"
  },
  "language_info": {
   "codemirror_mode": {
    "name": "ipython",
    "version": 3
   },
   "file_extension": ".py",
   "mimetype": "text/x-python",
   "name": "python",
   "nbconvert_exporter": "python",
   "pygments_lexer": "ipython3",
   "version": "3.8.8"
  }
 },
 "nbformat": 4,
 "nbformat_minor": 5
}
