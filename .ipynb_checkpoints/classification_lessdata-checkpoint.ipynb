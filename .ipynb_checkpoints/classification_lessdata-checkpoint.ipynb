{
 "cells": [
  {
   "cell_type": "code",
   "execution_count": 2,
   "id": "2157f91c",
   "metadata": {},
   "outputs": [],
   "source": [
    "import torch\n",
    "import torch.nn as nn\n",
    "import torch.nn.functional as F\n",
    "from torch.autograd import Variable\n",
    "from torchinfo import summary\n",
    "import torch.optim as optim\n",
    "from torch.utils.data import DataLoader,Dataset\n",
    "import torch.utils.data as data\n",
    "from torchvision import transforms\n",
    "import torchvision\n",
    "\n",
    "import sys,os\n",
    "sys.path.append(os.pardir)\n",
    "\n",
    "import py_func.Deep_learning_torch_func as DL\n",
    "import py_func.models_func as my_model\n",
    "import py_func.dat_rb_func as drb\n",
    "import py_func.my_numpy_class as mnc\n",
    "import py_func.my_torch_class as mtc\n",
    "import py_func.models_func as my_model\n",
    "\n",
    "import py_func.Deep_learning_torch_func as DL\n",
    "import py_func.dat_rb_func as drb\n",
    "\n",
    "from torchinfo import summary\n",
    "\n",
    "from torch.optim import lr_scheduler\n",
    "import numpy as np\n",
    "import importlib\n",
    "import os.path as osp\n",
    "\n",
    "\n",
    "import matplotlib.pyplot as plt"
   ]
  },
  {
   "cell_type": "code",
   "execution_count": 3,
   "id": "6436e3bb",
   "metadata": {},
   "outputs": [],
   "source": [
    "outputdir = \"../output/experiment/SLM_phase/mnist\"\n",
    "shflidpath=osp.join(outputdir, \"shuffleindex.npy\")\n",
    "shflindex = np.load(file=shflidpath)"
   ]
  },
  {
   "cell_type": "code",
   "execution_count": 5,
   "id": "566d701c",
   "metadata": {},
   "outputs": [
    {
     "data": {
      "text/plain": [
       "array([45119,  6847, 54546, ..., 20346,  3098, 54611], dtype=int64)"
      ]
     },
     "execution_count": 5,
     "metadata": {},
     "output_type": "execute_result"
    }
   ],
   "source": [
    "shflindex"
   ]
  },
  {
   "cell_type": "code",
   "execution_count": 6,
   "id": "147addc2",
   "metadata": {},
   "outputs": [],
   "source": [
    "trainids, valids, testids=shflindex[:68000], shflindex[68000:69000], shflindex[69000:70000]"
   ]
  },
  {
   "cell_type": "code",
   "execution_count": 7,
   "id": "5644379d",
   "metadata": {},
   "outputs": [
    {
     "data": {
      "text/plain": [
       "array([45119,  6847, 54546, ..., 10039, 58623, 54770], dtype=int64)"
      ]
     },
     "execution_count": 7,
     "metadata": {},
     "output_type": "execute_result"
    }
   ],
   "source": [
    "trainids"
   ]
  },
  {
   "cell_type": "code",
   "execution_count": 8,
   "id": "ff7a6ed5",
   "metadata": {},
   "outputs": [
    {
     "data": {
      "text/plain": [
       "(68000,)"
      ]
     },
     "execution_count": 8,
     "metadata": {},
     "output_type": "execute_result"
    }
   ],
   "source": [
    "trainids.shape"
   ]
  },
  {
   "cell_type": "code",
   "execution_count": 9,
   "id": "385a27e5",
   "metadata": {},
   "outputs": [
    {
     "data": {
      "text/plain": [
       "(1000,)"
      ]
     },
     "execution_count": 9,
     "metadata": {},
     "output_type": "execute_result"
    }
   ],
   "source": [
    "valids.shape"
   ]
  },
  {
   "cell_type": "code",
   "execution_count": 10,
   "id": "d2210a95",
   "metadata": {},
   "outputs": [
    {
     "data": {
      "text/plain": [
       "(1000,)"
      ]
     },
     "execution_count": 10,
     "metadata": {},
     "output_type": "execute_result"
    }
   ],
   "source": [
    "testids.shape"
   ]
  },
  {
   "cell_type": "code",
   "execution_count": 11,
   "id": "2f6e27ab",
   "metadata": {},
   "outputs": [],
   "source": [
    "trainid=osp.join(outputdir, \"shuffle_first_68000.npy\")\n",
    "valid=osp.join(outputdir, \"shuffle_68001_69000.npy\")\n",
    "testid=osp.join(outputdir, \"shuffle_69001_70000.npy\")"
   ]
  },
  {
   "cell_type": "code",
   "execution_count": 12,
   "id": "4f7f57df",
   "metadata": {},
   "outputs": [],
   "source": [
    "np.save(arr = trainids, file = trainid)"
   ]
  },
  {
   "cell_type": "code",
   "execution_count": 13,
   "id": "1067e2a2",
   "metadata": {},
   "outputs": [],
   "source": [
    "np.save(arr = valids, file = valid)\n",
    "np.save(arr = testids, file = testid)"
   ]
  },
  {
   "cell_type": "code",
   "execution_count": null,
   "id": "75d65a8a",
   "metadata": {},
   "outputs": [],
   "source": []
  }
 ],
 "metadata": {
  "kernelspec": {
   "display_name": "torch_gpu_6",
   "language": "python",
   "name": "torch_gpu_6"
  },
  "language_info": {
   "codemirror_mode": {
    "name": "ipython",
    "version": 3
   },
   "file_extension": ".py",
   "mimetype": "text/x-python",
   "name": "python",
   "nbconvert_exporter": "python",
   "pygments_lexer": "ipython3",
   "version": "3.8.0"
  }
 },
 "nbformat": 4,
 "nbformat_minor": 5
}
