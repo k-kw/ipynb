{
 "cells": [
  {
   "cell_type": "code",
   "execution_count": 3,
   "id": "c669507b",
   "metadata": {},
   "outputs": [],
   "source": [
    "import torch\n",
    "import torch.nn as nn\n",
    "import torch.nn.functional as F\n",
    "\n",
    "# torch.manual_seed(0)\n",
    "\n",
    "from torch.autograd import Variable\n",
    "\n",
    "#from torchsummary import summary\n",
    "\n",
    "import torch.optim as optim\n",
    "import time\n",
    "import matplotlib\n",
    "from torch.utils.data import DataLoader\n",
    "import torch.utils.data as data\n",
    "import numpy as np\n",
    "import pandas as pd\n",
    "from torchvision.datasets import ImageFolder\n",
    "from torchvision import transforms\n",
    "\n",
    "import cv2"
   ]
  },
  {
   "cell_type": "code",
   "execution_count": 4,
   "id": "879897c2",
   "metadata": {},
   "outputs": [],
   "source": [
    "import sys,os\n",
    "sys.path.append(os.pardir)\n",
    "\n",
    "import py_func.Deep_learning_torch_func as DL\n",
    "import py_func.models_func as my_model\n",
    "import py_func.dat_rb_func as drb"
   ]
  },
  {
   "cell_type": "code",
   "execution_count": 5,
   "id": "4ac85223",
   "metadata": {},
   "outputs": [],
   "source": [
    "from torchinfo import summary"
   ]
  },
  {
   "cell_type": "code",
   "execution_count": 31,
   "id": "60b8003a",
   "metadata": {},
   "outputs": [],
   "source": [
    "simpath = '../dat/expedata/m_23001_25000_fps2_N10_lsd.dat'\n",
    "binpath = '../dat/bindat/1byte/m_28_1.dat'\n",
    "x = 28\n",
    "y = 28\n",
    "\n",
    "#復元\n",
    "m_dc_set_t,m_dc_set_v=DL.mysimbin_to_dataset_ver2(simpath, binpath, 1600, x, y, 2000, 1, 1, True, 100,  normalize_true = False, label_img_norm_true = False)\n",
    "m_dc_loader_t=DataLoader(m_dc_set_t,batch_size=64,shuffle=True)\n",
    "m_dc_loader_v=DataLoader(m_dc_set_v,batch_size=64,shuffle=True)"
   ]
  },
  {
   "cell_type": "code",
   "execution_count": 32,
   "id": "f3c28526",
   "metadata": {},
   "outputs": [],
   "source": [
    "criterion = nn.MSELoss()\n",
    "device = torch.device('cuda:0' if torch.cuda.is_available() else 'cpu')\n",
    "\n",
    "#model_ver3\n",
    "#28x28出力\n",
    "kernel_size = [6,4,4,4,4,4]\n",
    "stride_list = [1,1,1,1,1,1]\n",
    "padding_list = [4,4,2,2,2,2]\n",
    "outpadding_list = [0,0,0,0,0,0]\n",
    "in_channel_list = [1,64,128,256,128,64]\n",
    "out_channel_list = [64,128,256,128,64,1]\n",
    "\n",
    "model = my_model.simnet_decoder_allsize(1600, 1600, 40, 40, kernel_size, stride_list, padding_list,\n",
    "                                        outpadding_list, in_channel_list, out_channel_list).to(device)\n"
   ]
  },
  {
   "cell_type": "code",
   "execution_count": 33,
   "id": "4a8782d4",
   "metadata": {},
   "outputs": [
    {
     "data": {
      "text/plain": [
       "===============================================================================================\n",
       "Layer (type:depth-idx)                        Output Shape              Param #\n",
       "===============================================================================================\n",
       "simnet_decoder_allsize                        --                        --\n",
       "├─Linear: 1-1                                 [64, 1, 1600]             2,561,600\n",
       "├─ReLU: 1-2                                   [64, 1, 1600]             --\n",
       "├─Sequential: 1-3                             [64, 1, 28, 28]           --\n",
       "│    └─Convtp_Bn_ReLu: 2-1                    [64, 64, 37, 37]          --\n",
       "│    │    └─Sequential: 3-1                   [64, 64, 37, 37]          2,496\n",
       "│    └─Convtp_Bn_ReLu: 2-2                    [64, 128, 32, 32]         --\n",
       "│    │    └─Sequential: 3-2                   [64, 128, 32, 32]         131,456\n",
       "│    └─Convtp_Bn_ReLu: 2-3                    [64, 256, 31, 31]         --\n",
       "│    │    └─Sequential: 3-3                   [64, 256, 31, 31]         525,056\n",
       "│    └─Convtp_Bn_ReLu: 2-4                    [64, 128, 30, 30]         --\n",
       "│    │    └─Sequential: 3-4                   [64, 128, 30, 30]         524,672\n",
       "│    └─Convtp_Bn_ReLu: 2-5                    [64, 64, 29, 29]          --\n",
       "│    │    └─Sequential: 3-5                   [64, 64, 29, 29]          131,264\n",
       "│    └─Convtp_Bn_ReLu: 2-6                    [64, 1, 28, 28]           --\n",
       "│    │    └─Sequential: 3-6                   [64, 1, 28, 28]           1,027\n",
       "===============================================================================================\n",
       "Total params: 3,877,571\n",
       "Trainable params: 3,877,571\n",
       "Non-trainable params: 0\n",
       "Total mult-adds (G): 78.55\n",
       "===============================================================================================\n",
       "Input size (MB): 0.41\n",
       "Forward/backward pass size (MB): 650.56\n",
       "Params size (MB): 15.51\n",
       "Estimated Total Size (MB): 666.48\n",
       "==============================================================================================="
      ]
     },
     "execution_count": 33,
     "metadata": {},
     "output_type": "execute_result"
    }
   ],
   "source": [
    "summary(model = model, input_size = (64, 1, 1600))"
   ]
  },
  {
   "cell_type": "code",
   "execution_count": null,
   "id": "40a92ff4",
   "metadata": {},
   "outputs": [],
   "source": []
  }
 ],
 "metadata": {
  "kernelspec": {
   "display_name": "torch_gpu_6",
   "language": "python",
   "name": "torch_gpu_6"
  },
  "language_info": {
   "codemirror_mode": {
    "name": "ipython",
    "version": 3
   },
   "file_extension": ".py",
   "mimetype": "text/x-python",
   "name": "python",
   "nbconvert_exporter": "python",
   "pygments_lexer": "ipython3",
   "version": "3.8.0"
  }
 },
 "nbformat": 4,
 "nbformat_minor": 5
}
