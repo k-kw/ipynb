{
 "cells": [
  {
   "cell_type": "code",
   "execution_count": 1,
   "id": "c669507b",
   "metadata": {},
   "outputs": [],
   "source": [
    "import torch\n",
    "import torch.nn as nn\n",
    "import torch.nn.functional as F\n",
    "\n",
    "# torch.manual_seed(0)\n",
    "\n",
    "from torch.autograd import Variable\n",
    "\n",
    "#from torchsummary import summary\n",
    "\n",
    "import torch.optim as optim\n",
    "import time\n",
    "import matplotlib\n",
    "from torch.utils.data import DataLoader\n",
    "import torch.utils.data as data\n",
    "import numpy as np\n",
    "import pandas as pd\n",
    "from torchvision.datasets import ImageFolder\n",
    "from torchvision import transforms\n",
    "import py_func.Deep_learning_torch_func as DL\n",
    "import py_func.models_func as my_model\n",
    "import py_func.dat_rb_func as drb\n",
    "import cv2"
   ]
  },
  {
   "cell_type": "code",
   "execution_count": 2,
   "id": "4ac85223",
   "metadata": {},
   "outputs": [],
   "source": [
    "from torchinfo import summary"
   ]
  },
  {
   "cell_type": "code",
   "execution_count": null,
   "id": "60b8003a",
   "metadata": {},
   "outputs": [],
   "source": [
    "simpath = '../dat/simdat/pjr/1byte/random/m_500_0.2_2_sim.dat'\n",
    "binpath = '../dat/bindat/1byte/m_28_1.dat'\n",
    "ori_sizex = 28\n",
    "ori_sizey = 28\n",
    "\n",
    "#復元\n",
    "m_dc_set_t,m_dc_set_v=DL.mysimbin_to_dataset(simpath,binpath,SX,ori_sizex,ori_sizey,N_m,1,1,True,60000)\n",
    "m_dc_loader_t=DataLoader(m_dc_set_t,batch_size=64,shuffle=True)\n",
    "m_dc_loader_v=DataLoader(m_dc_set_v,batch_size=64,shuffle=True)"
   ]
  }
 ],
 "metadata": {
  "kernelspec": {
   "display_name": "torch_gpu_6",
   "language": "python",
   "name": "torch_gpu_6"
  },
  "language_info": {
   "codemirror_mode": {
    "name": "ipython",
    "version": 3
   },
   "file_extension": ".py",
   "mimetype": "text/x-python",
   "name": "python",
   "nbconvert_exporter": "python",
   "pygments_lexer": "ipython3",
   "version": "3.8.0"
  }
 },
 "nbformat": 4,
 "nbformat_minor": 5
}
